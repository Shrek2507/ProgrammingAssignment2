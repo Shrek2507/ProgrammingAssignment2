{
 "cells": [
  {
   "cell_type": "code",
   "execution_count": 44,
   "metadata": {
    "collapsed": true
   },
   "outputs": [],
   "source": [
    "import numpy as np\n",
    "import pandas as pd\n",
    "import matplotlib.pyplot as plt"
   ]
  },
  {
   "cell_type": "code",
   "execution_count": 5,
   "metadata": {
    "collapsed": true
   },
   "outputs": [],
   "source": [
    "class Retail:\n",
    "    def __init__(self):\n",
    "        # creating instance variables...\n",
    "        self.customer_data = None\n",
    "        self.orders_data = None\n",
    "        self.salesman_data = None\n",
    "    \n",
    "    def read_data(self):\n",
    "        # Initialize data sets....\n",
    "        customer_data = pd.read_csv('C://Users//Shrey//Desktop//Python_Programs//Pandas_Practice//Customer.csv')\n",
    "        orders_data = pd.read_csv('C://Users//Shrey//Desktop//Python_Programs//Pandas_Practice//Orders.csv')\n",
    "        salesman_data = pd.read_csv('C://Users//Shrey//Desktop//Python_Programs//Pandas_Practice//Salesman.csv')\n",
    "        \n",
    "        self.customer_data = customer_data\n",
    "        self.orders_data = orders_data\n",
    "        self.salesman_data = salesman_data\n",
    "        "
   ]
  },
  {
   "cell_type": "code",
   "execution_count": 6,
   "metadata": {
    "collapsed": false
   },
   "outputs": [],
   "source": [
    "retail = Retail()\n",
    "retail.read_data()"
   ]
  },
  {
   "cell_type": "code",
   "execution_count": 10,
   "metadata": {
    "collapsed": false
   },
   "outputs": [
    {
     "data": {
      "text/html": [
       "<div>\n",
       "<table border=\"1\" class=\"dataframe\">\n",
       "  <thead>\n",
       "    <tr style=\"text-align: right;\">\n",
       "      <th></th>\n",
       "      <th>ord_no</th>\n",
       "      <th>purch_amt</th>\n",
       "      <th>ord_date</th>\n",
       "      <th>customer_id</th>\n",
       "      <th>salesman_id</th>\n",
       "    </tr>\n",
       "  </thead>\n",
       "  <tbody>\n",
       "    <tr>\n",
       "      <th>0</th>\n",
       "      <td>70001</td>\n",
       "      <td>150.50</td>\n",
       "      <td>2012-10-05</td>\n",
       "      <td>3005</td>\n",
       "      <td>5002</td>\n",
       "    </tr>\n",
       "    <tr>\n",
       "      <th>1</th>\n",
       "      <td>70009</td>\n",
       "      <td>270.65</td>\n",
       "      <td>2012-09-10</td>\n",
       "      <td>3001</td>\n",
       "      <td>5005</td>\n",
       "    </tr>\n",
       "    <tr>\n",
       "      <th>2</th>\n",
       "      <td>70002</td>\n",
       "      <td>65.26</td>\n",
       "      <td>2012-10-05</td>\n",
       "      <td>3002</td>\n",
       "      <td>5001</td>\n",
       "    </tr>\n",
       "    <tr>\n",
       "      <th>3</th>\n",
       "      <td>70004</td>\n",
       "      <td>110.50</td>\n",
       "      <td>2012-08-17</td>\n",
       "      <td>3009</td>\n",
       "      <td>5003</td>\n",
       "    </tr>\n",
       "    <tr>\n",
       "      <th>4</th>\n",
       "      <td>70007</td>\n",
       "      <td>948.50</td>\n",
       "      <td>2012-09-10</td>\n",
       "      <td>3005</td>\n",
       "      <td>5002</td>\n",
       "    </tr>\n",
       "    <tr>\n",
       "      <th>5</th>\n",
       "      <td>70005</td>\n",
       "      <td>2400.60</td>\n",
       "      <td>2012-07-27</td>\n",
       "      <td>3007</td>\n",
       "      <td>5001</td>\n",
       "    </tr>\n",
       "    <tr>\n",
       "      <th>6</th>\n",
       "      <td>70008</td>\n",
       "      <td>5760.00</td>\n",
       "      <td>2012-09-10</td>\n",
       "      <td>3002</td>\n",
       "      <td>5001</td>\n",
       "    </tr>\n",
       "    <tr>\n",
       "      <th>7</th>\n",
       "      <td>70010</td>\n",
       "      <td>1983.43</td>\n",
       "      <td>2012-10-10</td>\n",
       "      <td>3004</td>\n",
       "      <td>5006</td>\n",
       "    </tr>\n",
       "    <tr>\n",
       "      <th>8</th>\n",
       "      <td>70003</td>\n",
       "      <td>2480.40</td>\n",
       "      <td>2012-10-10</td>\n",
       "      <td>3009</td>\n",
       "      <td>5003</td>\n",
       "    </tr>\n",
       "    <tr>\n",
       "      <th>9</th>\n",
       "      <td>70012</td>\n",
       "      <td>250.45</td>\n",
       "      <td>2012-06-27</td>\n",
       "      <td>3008</td>\n",
       "      <td>5002</td>\n",
       "    </tr>\n",
       "    <tr>\n",
       "      <th>10</th>\n",
       "      <td>70011</td>\n",
       "      <td>75.29</td>\n",
       "      <td>2012-08-17</td>\n",
       "      <td>3003</td>\n",
       "      <td>5007</td>\n",
       "    </tr>\n",
       "    <tr>\n",
       "      <th>11</th>\n",
       "      <td>70013</td>\n",
       "      <td>3045.60</td>\n",
       "      <td>2012-04-25</td>\n",
       "      <td>3002</td>\n",
       "      <td>5001</td>\n",
       "    </tr>\n",
       "  </tbody>\n",
       "</table>\n",
       "</div>"
      ],
      "text/plain": [
       "    ord_no  purch_amt     ord_date  customer_id  salesman_id\n",
       "0    70001     150.50   2012-10-05         3005         5002\n",
       "1    70009     270.65   2012-09-10         3001         5005\n",
       "2    70002      65.26   2012-10-05         3002         5001\n",
       "3    70004     110.50   2012-08-17         3009         5003\n",
       "4    70007     948.50   2012-09-10         3005         5002\n",
       "5    70005    2400.60   2012-07-27         3007         5001\n",
       "6    70008    5760.00   2012-09-10         3002         5001\n",
       "7    70010    1983.43   2012-10-10         3004         5006\n",
       "8    70003    2480.40   2012-10-10         3009         5003\n",
       "9    70012     250.45   2012-06-27         3008         5002\n",
       "10   70011      75.29   2012-08-17         3003         5007\n",
       "11   70013    3045.60   2012-04-25         3002         5001"
      ]
     },
     "execution_count": 10,
     "metadata": {},
     "output_type": "execute_result"
    }
   ],
   "source": [
    "retail.orders_data"
   ]
  },
  {
   "cell_type": "code",
   "execution_count": 14,
   "metadata": {
    "collapsed": false
   },
   "outputs": [
    {
     "name": "stdout",
     "output_type": "stream",
     "text": [
      "The Total Purchase Amount on all orders is : \n",
      "17541.18\n"
     ]
    }
   ],
   "source": [
    "# Find Total Purchase amount on all orders\n",
    "total_amount = np.sum(np.array(retail.orders_data['purch_amt']))\n",
    "print(\"The Total Purchase Amount on all orders is : \")\n",
    "print(total_amount)"
   ]
  },
  {
   "cell_type": "code",
   "execution_count": 15,
   "metadata": {
    "collapsed": false
   },
   "outputs": [
    {
     "name": "stdout",
     "output_type": "stream",
     "text": [
      "Average Purchase Amount on all Orders is : \n",
      "1461.765\n"
     ]
    }
   ],
   "source": [
    "# find the average purchase amount of all orders.\n",
    "print(\"Average Purchase Amount on all Orders is : \")\n",
    "print(np.mean(np.array(retail.orders_data['purch_amt'])))"
   ]
  },
  {
   "cell_type": "code",
   "execution_count": 20,
   "metadata": {
    "collapsed": false
   },
   "outputs": [
    {
     "name": "stdout",
     "output_type": "stream",
     "text": [
      "Number of Salesmen for all of their customers is : \n",
      "6\n"
     ]
    }
   ],
   "source": [
    "# find the number of salesmen currently listing for all of their customers. \n",
    "print(\"Number of Salesmen for all of their customers is : \")\n",
    "print len(retail.orders_data['salesman_id'].unique())"
   ]
  },
  {
   "cell_type": "code",
   "execution_count": 21,
   "metadata": {
    "collapsed": false
   },
   "outputs": [
    {
     "data": {
      "text/html": [
       "<div>\n",
       "<table border=\"1\" class=\"dataframe\">\n",
       "  <thead>\n",
       "    <tr style=\"text-align: right;\">\n",
       "      <th></th>\n",
       "      <th>customer_id</th>\n",
       "      <th>cust_name</th>\n",
       "      <th>city</th>\n",
       "      <th>grade</th>\n",
       "      <th>salesman_id</th>\n",
       "    </tr>\n",
       "  </thead>\n",
       "  <tbody>\n",
       "    <tr>\n",
       "      <th>0</th>\n",
       "      <td>3002</td>\n",
       "      <td>Nick Rimando</td>\n",
       "      <td>New York</td>\n",
       "      <td>100.0</td>\n",
       "      <td>5001</td>\n",
       "    </tr>\n",
       "    <tr>\n",
       "      <th>1</th>\n",
       "      <td>3005</td>\n",
       "      <td>Graham Zusi</td>\n",
       "      <td>California</td>\n",
       "      <td>200.0</td>\n",
       "      <td>5002</td>\n",
       "    </tr>\n",
       "    <tr>\n",
       "      <th>2</th>\n",
       "      <td>3001</td>\n",
       "      <td>Brad Guzan</td>\n",
       "      <td>London</td>\n",
       "      <td>NaN</td>\n",
       "      <td>5005</td>\n",
       "    </tr>\n",
       "    <tr>\n",
       "      <th>3</th>\n",
       "      <td>3004</td>\n",
       "      <td>Fabian Johns</td>\n",
       "      <td>Paris</td>\n",
       "      <td>300.0</td>\n",
       "      <td>5006</td>\n",
       "    </tr>\n",
       "    <tr>\n",
       "      <th>4</th>\n",
       "      <td>3007</td>\n",
       "      <td>Brad Davis</td>\n",
       "      <td>New York</td>\n",
       "      <td>200.0</td>\n",
       "      <td>5001</td>\n",
       "    </tr>\n",
       "    <tr>\n",
       "      <th>5</th>\n",
       "      <td>3009</td>\n",
       "      <td>Geoff Camero</td>\n",
       "      <td>Berlin</td>\n",
       "      <td>100.0</td>\n",
       "      <td>5003</td>\n",
       "    </tr>\n",
       "    <tr>\n",
       "      <th>6</th>\n",
       "      <td>3008</td>\n",
       "      <td>Julian Green</td>\n",
       "      <td>London</td>\n",
       "      <td>300.0</td>\n",
       "      <td>5002</td>\n",
       "    </tr>\n",
       "    <tr>\n",
       "      <th>7</th>\n",
       "      <td>3003</td>\n",
       "      <td>Jozy Altidor</td>\n",
       "      <td>Moscow</td>\n",
       "      <td>200.0</td>\n",
       "      <td>5007</td>\n",
       "    </tr>\n",
       "  </tbody>\n",
       "</table>\n",
       "</div>"
      ],
      "text/plain": [
       "   customer_id     cust_name        city  grade  salesman_id\n",
       "0         3002  Nick Rimando    New York  100.0         5001\n",
       "1         3005   Graham Zusi  California  200.0         5002\n",
       "2         3001    Brad Guzan      London    NaN         5005\n",
       "3         3004  Fabian Johns       Paris  300.0         5006\n",
       "4         3007    Brad Davis    New York  200.0         5001\n",
       "5         3009  Geoff Camero      Berlin  100.0         5003\n",
       "6         3008  Julian Green      London  300.0         5002\n",
       "7         3003  Jozy Altidor      Moscow  200.0         5007"
      ]
     },
     "execution_count": 21,
     "metadata": {},
     "output_type": "execute_result"
    }
   ],
   "source": [
    "# find the number of customers who gets at least a gradation for his/her performance.\n",
    "customer_data = retail.customer_data\n",
    "customer_data"
   ]
  },
  {
   "cell_type": "code",
   "execution_count": 35,
   "metadata": {
    "collapsed": false
   },
   "outputs": [
    {
     "name": "stdout",
     "output_type": "stream",
     "text": [
      "Number of customers getting atleast a gradation for their performance is : \n",
      "7\n"
     ]
    }
   ],
   "source": [
    "print \"Number of customers getting atleast a gradation for their performance is : \"\n",
    "print len(customer_data['grade']) - len(customer_data[customer_data['grade'].isnull()])"
   ]
  },
  {
   "cell_type": "code",
   "execution_count": 37,
   "metadata": {
    "collapsed": false
   },
   "outputs": [
    {
     "name": "stdout",
     "output_type": "stream",
     "text": [
      "Maximum purchase amount on all orders is : \n",
      "5760.0\n"
     ]
    }
   ],
   "source": [
    "# get the maximum purchase amount of all the orders.\n",
    "print(\"Maximum purchase amount on all orders is : \")\n",
    "print(np.max(np.array(retail.orders_data['purch_amt'])))"
   ]
  },
  {
   "cell_type": "code",
   "execution_count": 39,
   "metadata": {
    "collapsed": false
   },
   "outputs": [
    {
     "name": "stdout",
     "output_type": "stream",
     "text": [
      "Highest Grade for each of the cities of the customers is : \n"
     ]
    },
    {
     "data": {
      "text/html": [
       "<div>\n",
       "<table border=\"1\" class=\"dataframe\">\n",
       "  <thead>\n",
       "    <tr style=\"text-align: right;\">\n",
       "      <th></th>\n",
       "      <th>city</th>\n",
       "      <th>grade</th>\n",
       "    </tr>\n",
       "  </thead>\n",
       "  <tbody>\n",
       "    <tr>\n",
       "      <th>0</th>\n",
       "      <td>Berlin</td>\n",
       "      <td>100.0</td>\n",
       "    </tr>\n",
       "    <tr>\n",
       "      <th>1</th>\n",
       "      <td>California</td>\n",
       "      <td>200.0</td>\n",
       "    </tr>\n",
       "    <tr>\n",
       "      <th>2</th>\n",
       "      <td>London</td>\n",
       "      <td>300.0</td>\n",
       "    </tr>\n",
       "    <tr>\n",
       "      <th>3</th>\n",
       "      <td>Moscow</td>\n",
       "      <td>200.0</td>\n",
       "    </tr>\n",
       "    <tr>\n",
       "      <th>4</th>\n",
       "      <td>New York</td>\n",
       "      <td>200.0</td>\n",
       "    </tr>\n",
       "    <tr>\n",
       "      <th>5</th>\n",
       "      <td>Paris</td>\n",
       "      <td>300.0</td>\n",
       "    </tr>\n",
       "  </tbody>\n",
       "</table>\n",
       "</div>"
      ],
      "text/plain": [
       "         city  grade\n",
       "0      Berlin  100.0\n",
       "1  California  200.0\n",
       "2      London  300.0\n",
       "3      Moscow  200.0\n",
       "4    New York  200.0\n",
       "5       Paris  300.0"
      ]
     },
     "execution_count": 39,
     "metadata": {},
     "output_type": "execute_result"
    }
   ],
   "source": [
    "# selects the highest grade for each of the cities of the customers\n",
    "print(\"Highest Grade for each of the cities of the customers is : \")\n",
    "highest_grade = retail.customer_data.groupby(['city']).agg({'grade' : 'max'})\n",
    "highest_grade.reset_index()"
   ]
  },
  {
   "cell_type": "code",
   "execution_count": 43,
   "metadata": {
    "collapsed": false
   },
   "outputs": [
    {
     "name": "stdout",
     "output_type": "stream",
     "text": [
      "Highest Purchase Amount ordered by each customer with their ID and highest purchase amount.\n"
     ]
    },
    {
     "data": {
      "text/html": [
       "<div>\n",
       "<table border=\"1\" class=\"dataframe\">\n",
       "  <thead>\n",
       "    <tr style=\"text-align: right;\">\n",
       "      <th></th>\n",
       "      <th>Customer Id</th>\n",
       "      <th>Purchase Amount</th>\n",
       "    </tr>\n",
       "  </thead>\n",
       "  <tbody>\n",
       "    <tr>\n",
       "      <th>0</th>\n",
       "      <td>3001</td>\n",
       "      <td>270.65</td>\n",
       "    </tr>\n",
       "    <tr>\n",
       "      <th>1</th>\n",
       "      <td>3002</td>\n",
       "      <td>5760.00</td>\n",
       "    </tr>\n",
       "    <tr>\n",
       "      <th>2</th>\n",
       "      <td>3003</td>\n",
       "      <td>75.29</td>\n",
       "    </tr>\n",
       "    <tr>\n",
       "      <th>3</th>\n",
       "      <td>3004</td>\n",
       "      <td>1983.43</td>\n",
       "    </tr>\n",
       "    <tr>\n",
       "      <th>4</th>\n",
       "      <td>3005</td>\n",
       "      <td>948.50</td>\n",
       "    </tr>\n",
       "    <tr>\n",
       "      <th>5</th>\n",
       "      <td>3007</td>\n",
       "      <td>2400.60</td>\n",
       "    </tr>\n",
       "    <tr>\n",
       "      <th>6</th>\n",
       "      <td>3008</td>\n",
       "      <td>250.45</td>\n",
       "    </tr>\n",
       "    <tr>\n",
       "      <th>7</th>\n",
       "      <td>3009</td>\n",
       "      <td>2480.40</td>\n",
       "    </tr>\n",
       "  </tbody>\n",
       "</table>\n",
       "</div>"
      ],
      "text/plain": [
       "   Customer Id  Purchase Amount\n",
       "0         3001           270.65\n",
       "1         3002          5760.00\n",
       "2         3003            75.29\n",
       "3         3004          1983.43\n",
       "4         3005           948.50\n",
       "5         3007          2400.60\n",
       "6         3008           250.45\n",
       "7         3009          2480.40"
      ]
     },
     "execution_count": 43,
     "metadata": {},
     "output_type": "execute_result"
    }
   ],
   "source": [
    "# find the highest purchase amount ordered by the each customer with their ID and highest purchase amount.\n",
    "print(\"Highest Purchase Amount ordered by each customer with their ID and highest purchase amount.\")\n",
    "highest_orders = retail.orders_data.groupby(['customer_id']).agg({'purch_amt' : 'max'}).reset_index()\n",
    "highest_orders.columns = ['Customer Id', 'Purchase Amount']\n",
    "highest_orders"
   ]
  },
  {
   "cell_type": "code",
   "execution_count": 52,
   "metadata": {
    "collapsed": false
   },
   "outputs": [
    {
     "data": {
      "image/png": "[encoded data removed]",
      "text/plain": [
       "<matplotlib.figure.Figure at 0xadbf7f0>"
      ]
     },
     "metadata": {},
     "output_type": "display_data"
    }
   ],
   "source": [
    "# Plot a Chart on this...\n",
    "customer_id = np.array(highest_orders['Customer Id'])\n",
    "purchase_amount = np.array(highest_orders['Purchase Amount'])\n",
    "\n",
    "plt.plot(customer_id, purchase_amount, label = 'linear')\n",
    "plt.legend() # Adding a legend...\n",
    "\n",
    "plt.xlabel('Customer Id')\n",
    "plt.ylabel('Purchase Amount')\n",
    "# Show the Plot\n",
    "plt.show()"
   ]
  },
  {
   "cell_type": "code",
   "execution_count": 54,
   "metadata": {
    "collapsed": false
   },
   "outputs": [
    {
     "name": "stdout",
     "output_type": "stream",
     "text": [
      "Highest Purchase Amount ordered by each customer on a particular date with their ID and order date is : \n"
     ]
    },
    {
     "data": {
      "text/html": [
       "<div>\n",
       "<table border=\"1\" class=\"dataframe\">\n",
       "  <thead>\n",
       "    <tr style=\"text-align: right;\">\n",
       "      <th></th>\n",
       "      <th>customer_id</th>\n",
       "      <th>ord_date</th>\n",
       "      <th>purch_amt</th>\n",
       "    </tr>\n",
       "  </thead>\n",
       "  <tbody>\n",
       "    <tr>\n",
       "      <th>0</th>\n",
       "      <td>3001</td>\n",
       "      <td>2012-09-10</td>\n",
       "      <td>270.65</td>\n",
       "    </tr>\n",
       "    <tr>\n",
       "      <th>1</th>\n",
       "      <td>3002</td>\n",
       "      <td>2012-04-25</td>\n",
       "      <td>3045.60</td>\n",
       "    </tr>\n",
       "    <tr>\n",
       "      <th>2</th>\n",
       "      <td>3002</td>\n",
       "      <td>2012-09-10</td>\n",
       "      <td>5760.00</td>\n",
       "    </tr>\n",
       "    <tr>\n",
       "      <th>3</th>\n",
       "      <td>3002</td>\n",
       "      <td>2012-10-05</td>\n",
       "      <td>65.26</td>\n",
       "    </tr>\n",
       "    <tr>\n",
       "      <th>4</th>\n",
       "      <td>3003</td>\n",
       "      <td>2012-08-17</td>\n",
       "      <td>75.29</td>\n",
       "    </tr>\n",
       "    <tr>\n",
       "      <th>5</th>\n",
       "      <td>3004</td>\n",
       "      <td>2012-10-10</td>\n",
       "      <td>1983.43</td>\n",
       "    </tr>\n",
       "    <tr>\n",
       "      <th>6</th>\n",
       "      <td>3005</td>\n",
       "      <td>2012-09-10</td>\n",
       "      <td>948.50</td>\n",
       "    </tr>\n",
       "    <tr>\n",
       "      <th>7</th>\n",
       "      <td>3005</td>\n",
       "      <td>2012-10-05</td>\n",
       "      <td>150.50</td>\n",
       "    </tr>\n",
       "    <tr>\n",
       "      <th>8</th>\n",
       "      <td>3007</td>\n",
       "      <td>2012-07-27</td>\n",
       "      <td>2400.60</td>\n",
       "    </tr>\n",
       "    <tr>\n",
       "      <th>9</th>\n",
       "      <td>3008</td>\n",
       "      <td>2012-06-27</td>\n",
       "      <td>250.45</td>\n",
       "    </tr>\n",
       "    <tr>\n",
       "      <th>10</th>\n",
       "      <td>3009</td>\n",
       "      <td>2012-08-17</td>\n",
       "      <td>110.50</td>\n",
       "    </tr>\n",
       "    <tr>\n",
       "      <th>11</th>\n",
       "      <td>3009</td>\n",
       "      <td>2012-10-10</td>\n",
       "      <td>2480.40</td>\n",
       "    </tr>\n",
       "  </tbody>\n",
       "</table>\n",
       "</div>"
      ],
      "text/plain": [
       "    customer_id     ord_date  purch_amt\n",
       "0          3001   2012-09-10     270.65\n",
       "1          3002   2012-04-25    3045.60\n",
       "2          3002   2012-09-10    5760.00\n",
       "3          3002   2012-10-05      65.26\n",
       "4          3003   2012-08-17      75.29\n",
       "5          3004   2012-10-10    1983.43\n",
       "6          3005   2012-09-10     948.50\n",
       "7          3005   2012-10-05     150.50\n",
       "8          3007   2012-07-27    2400.60\n",
       "9          3008   2012-06-27     250.45\n",
       "10         3009   2012-08-17     110.50\n",
       "11         3009   2012-10-10    2480.40"
      ]
     },
     "execution_count": 54,
     "metadata": {},
     "output_type": "execute_result"
    }
   ],
   "source": [
    "# find the highest purchase amount ordered by the each customer on a particular date with their ID, \n",
    "# order date and highest purchase amount.\n",
    "print \"Highest Purchase Amount ordered by each customer on a particular date with their ID and order date is : \"\n",
    "retail.orders_data.groupby(['customer_id','ord_date']).agg({'purch_amt' : 'max'}).reset_index()"
   ]
  },
  {
   "cell_type": "code",
   "execution_count": 59,
   "metadata": {
    "collapsed": false
   },
   "outputs": [
    {
     "data": {
      "text/html": [
       "<div>\n",
       "<table border=\"1\" class=\"dataframe\">\n",
       "  <thead>\n",
       "    <tr style=\"text-align: right;\">\n",
       "      <th></th>\n",
       "      <th>salesman_id</th>\n",
       "      <th>purch_amt</th>\n",
       "    </tr>\n",
       "  </thead>\n",
       "  <tbody>\n",
       "    <tr>\n",
       "      <th>0</th>\n",
       "      <td>5003</td>\n",
       "      <td>110.50</td>\n",
       "    </tr>\n",
       "    <tr>\n",
       "      <th>1</th>\n",
       "      <td>5007</td>\n",
       "      <td>75.29</td>\n",
       "    </tr>\n",
       "  </tbody>\n",
       "</table>\n",
       "</div>"
      ],
      "text/plain": [
       "   salesman_id  purch_amt\n",
       "0         5003     110.50\n",
       "1         5007      75.29"
      ]
     },
     "execution_count": 59,
     "metadata": {},
     "output_type": "execute_result"
    }
   ],
   "source": [
    "#find the highest purchase amount on a date '2012-08-17' for each salesman with their ID.\n",
    "dated_data = retail.orders_data[retail.orders_data['ord_date'] == '2012-08-17']\n",
    "dated_data.groupby(['salesman_id']).agg({'purch_amt' : 'max'}).reset_index()"
   ]
  },
  {
   "cell_type": "code",
   "execution_count": 64,
   "metadata": {
    "collapsed": false
   },
   "outputs": [
    {
     "data": {
      "text/html": [
       "<div>\n",
       "<table border=\"1\" class=\"dataframe\">\n",
       "  <thead>\n",
       "    <tr style=\"text-align: right;\">\n",
       "      <th></th>\n",
       "      <th>customer_id</th>\n",
       "      <th>ord_date</th>\n",
       "      <th>purch_amt</th>\n",
       "    </tr>\n",
       "  </thead>\n",
       "  <tbody>\n",
       "    <tr>\n",
       "      <th>0</th>\n",
       "      <td>3002</td>\n",
       "      <td>2012-04-25</td>\n",
       "      <td>3045.6</td>\n",
       "    </tr>\n",
       "    <tr>\n",
       "      <th>1</th>\n",
       "      <td>3002</td>\n",
       "      <td>2012-09-10</td>\n",
       "      <td>5760.0</td>\n",
       "    </tr>\n",
       "    <tr>\n",
       "      <th>2</th>\n",
       "      <td>3007</td>\n",
       "      <td>2012-07-27</td>\n",
       "      <td>2400.6</td>\n",
       "    </tr>\n",
       "    <tr>\n",
       "      <th>3</th>\n",
       "      <td>3009</td>\n",
       "      <td>2012-10-10</td>\n",
       "      <td>2480.4</td>\n",
       "    </tr>\n",
       "  </tbody>\n",
       "</table>\n",
       "</div>"
      ],
      "text/plain": [
       "   customer_id    ord_date  purch_amt\n",
       "0         3002  2012-04-25     3045.6\n",
       "1         3002  2012-09-10     5760.0\n",
       "2         3007  2012-07-27     2400.6\n",
       "3         3009  2012-10-10     2480.4"
      ]
     },
     "execution_count": 64,
     "metadata": {},
     "output_type": "execute_result"
    }
   ],
   "source": [
    "# find the highest purchase amount with their ID and order date, for only those customers who have highest purchase amount \n",
    "# in a day is more than 2000.\n",
    "filtered_data = retail.orders_data[retail.orders_data['purch_amt'] > 2000]\n",
    "filtered_data.groupby(['customer_id','ord_date']).agg({'purch_amt' : 'max'}).reset_index()"
   ]
  },
  {
   "cell_type": "code",
   "execution_count": 66,
   "metadata": {
    "collapsed": false
   },
   "outputs": [
    {
     "data": {
      "text/html": [
       "<div>\n",
       "<table border=\"1\" class=\"dataframe\">\n",
       "  <thead>\n",
       "    <tr style=\"text-align: right;\">\n",
       "      <th></th>\n",
       "      <th>customer_id</th>\n",
       "      <th>ord_date</th>\n",
       "      <th>purch_amt</th>\n",
       "    </tr>\n",
       "  </thead>\n",
       "  <tbody>\n",
       "    <tr>\n",
       "      <th>0</th>\n",
       "      <td>3002</td>\n",
       "      <td>2012-04-25</td>\n",
       "      <td>3045.6</td>\n",
       "    </tr>\n",
       "    <tr>\n",
       "      <th>1</th>\n",
       "      <td>3002</td>\n",
       "      <td>2012-09-10</td>\n",
       "      <td>5760.0</td>\n",
       "    </tr>\n",
       "    <tr>\n",
       "      <th>2</th>\n",
       "      <td>3007</td>\n",
       "      <td>2012-07-27</td>\n",
       "      <td>2400.6</td>\n",
       "    </tr>\n",
       "    <tr>\n",
       "      <th>3</th>\n",
       "      <td>3009</td>\n",
       "      <td>2012-10-10</td>\n",
       "      <td>2480.4</td>\n",
       "    </tr>\n",
       "  </tbody>\n",
       "</table>\n",
       "</div>"
      ],
      "text/plain": [
       "   customer_id    ord_date  purch_amt\n",
       "0         3002  2012-04-25     3045.6\n",
       "1         3002  2012-09-10     5760.0\n",
       "2         3007  2012-07-27     2400.6\n",
       "3         3009  2012-10-10     2480.4"
      ]
     },
     "execution_count": 66,
     "metadata": {},
     "output_type": "execute_result"
    }
   ],
   "source": [
    "'''\n",
    "find the highest purchase amount with their ID and order date, for those customers who have a higher purchase amount \n",
    "in a day is within the range 2000 and 6000.\n",
    "'''\n",
    "filtered_data = retail.orders_data[(retail.orders_data['purch_amt']).between(2000,6000)]\n",
    "filtered_data.groupby(['customer_id','ord_date']).agg({'purch_amt' : 'max'}).reset_index()"
   ]
  },
  {
   "cell_type": "code",
   "execution_count": 79,
   "metadata": {
    "collapsed": false
   },
   "outputs": [
    {
     "name": "stdout",
     "output_type": "stream",
     "text": [
      "[3002, '2012-09-10', 5760.0]\n"
     ]
    }
   ],
   "source": [
    "'''\n",
    "find the highest purchase amount with their ID and order date, for only those customers who have a higher purchase \n",
    "amount in a day is within the list 2000, 3000, 5760 and 6000.\n",
    "'''\n",
    "filtered_data = filtered_data.groupby(['customer_id','ord_date']).agg({'purch_amt' : 'max'}).reset_index() \n",
    "for i in range(0,len(filtered_data)):\n",
    "    if filtered_data.iloc[i]['purch_amt'] in [2000,3000,6000,5760]:\n",
    "        print list(filtered_data.iloc[i][['customer_id','ord_date','purch_amt']])"
   ]
  },
  {
   "cell_type": "code",
   "execution_count": null,
   "metadata": {
    "collapsed": true
   },
   "outputs": [],
   "source": []
  }
 ],
 "metadata": {
  "kernelspec": {
   "display_name": "Python 2",
   "language": "python",
   "name": "python2"
  },
  "language_info": {
   "codemirror_mode": {
    "name": "ipython",
    "version": 2
   },
   "file_extension": ".py",
   "mimetype": "text/x-python",
   "name": "python",
   "nbconvert_exporter": "python",
   "pygments_lexer": "ipython2",
   "version": "2.7.13"
  }
 },
 "nbformat": 4,
 "nbformat_minor": 2
}
