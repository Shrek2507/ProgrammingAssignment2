{
 "cells": [
  {
   "cell_type": "markdown",
   "metadata": {
    "collapsed": true
   },
   "source": [
    "# Predictive Anlytics on Bank Marketing Dataset."
   ]
  },
  {
   "cell_type": "code",
   "execution_count": 5,
   "metadata": {
    "collapsed": false
   },
   "outputs": [],
   "source": [
    "import numpy as np\n",
    "import pandas as pd\n",
    "import matplotlib.pyplot as plt\n",
    "import math"
   ]
  },
  {
   "cell_type": "code",
   "execution_count": 6,
   "metadata": {
    "collapsed": false
   },
   "outputs": [],
   "source": [
    "class Bank_Marketing:\n",
    "    def __init__(self):\n",
    "        self.bank_data = None  # Initializing the parameters to null...\n",
    "        self.categorical_features = []\n",
    "    \n",
    "    def import_data(self, file_path):\n",
    "        bank_data = None\n",
    "        \n",
    "        # Importing the bank data...\n",
    "        bank_data = pd.read_csv(file_path)\n",
    "        \n",
    "        # assigning the bank data to instance variable for further computations..\n",
    "        self.bank_data = bank_data\n",
    "        \n",
    "        return self.bank_data\n",
    "    \n",
    "    def determine_dimensions(self):\n",
    "        return self.bank_data.shape\n",
    "    \n",
    "    def list_features(self):\n",
    "        features = []\n",
    "        \n",
    "        features = list(self.bank_data.columns)\n",
    "        return features\n",
    "    \n",
    "    def find_unique_values_of_categorical_features(self):\n",
    "        self.categorical_features = ['job', 'education', 'default', 'housing', 'loan', 'contact', 'month', 'marital', 'poutcome',\n",
    "                               'deposit']\n",
    "        \n",
    "        # creating a dictionary of features and its types. (Key: Feature Name, Value: Unique feature types).\n",
    "        dict_unique_features = dict()\n",
    "        columns = list(self.bank_data.columns)\n",
    "        \n",
    "        # loop thru the columns....\n",
    "        for feature in columns:\n",
    "            temp_list = []   # create a temporary list...\n",
    "            \n",
    "            # check if the feature is categorical or not...\n",
    "            if feature in self.categorical_features:\n",
    "                temp_list = list(self.bank_data[feature].unique())   # Append the unique features in a list...\n",
    "                dict_unique_features[feature] = temp_list            # assign it to the dictionary.\n",
    "            else:\n",
    "                pass\n",
    "        \n",
    "        return dict_unique_features\n",
    "    \n",
    "    def determine_frequency_distribution(self, categorical_variable, unique_values):\n",
    "        # create a dictionary of categorical variable and its frequency...\n",
    "        dict_frequency_distribution = dict()\n",
    "        \n",
    "        frequency_count = 0\n",
    "        \n",
    "        # looping thru the unique_values list...\n",
    "        for value in unique_values:\n",
    "            frequency_count = len(self.bank_data[self.bank_data[categorical_variable] == value])\n",
    "            dict_frequency_distribution[value] = frequency_count\n",
    "        \n",
    "        return dict_frequency_distribution    \n",
    "    \n",
    "    "
   ]
  },
  {
   "cell_type": "code",
   "execution_count": 17,
   "metadata": {
    "collapsed": false
   },
   "outputs": [
    {
     "data": {
      "text/html": [
       "<div>\n",
       "<table border=\"1\" class=\"dataframe\">\n",
       "  <thead>\n",
       "    <tr style=\"text-align: right;\">\n",
       "      <th></th>\n",
       "      <th>age</th>\n",
       "      <th>job</th>\n",
       "      <th>marital</th>\n",
       "      <th>education</th>\n",
       "      <th>default</th>\n",
       "      <th>balance</th>\n",
       "      <th>housing</th>\n",
       "      <th>loan</th>\n",
       "      <th>contact</th>\n",
       "      <th>day</th>\n",
       "      <th>month</th>\n",
       "      <th>duration</th>\n",
       "      <th>campaign</th>\n",
       "      <th>pdays</th>\n",
       "      <th>previous</th>\n",
       "      <th>poutcome</th>\n",
       "      <th>deposit</th>\n",
       "    </tr>\n",
       "  </thead>\n",
       "  <tbody>\n",
       "    <tr>\n",
       "      <th>0</th>\n",
       "      <td>59</td>\n",
       "      <td>admin.</td>\n",
       "      <td>married</td>\n",
       "      <td>secondary</td>\n",
       "      <td>no</td>\n",
       "      <td>2343</td>\n",
       "      <td>yes</td>\n",
       "      <td>no</td>\n",
       "      <td>unknown</td>\n",
       "      <td>5</td>\n",
       "      <td>may</td>\n",
       "      <td>1042</td>\n",
       "      <td>1</td>\n",
       "      <td>-1</td>\n",
       "      <td>0</td>\n",
       "      <td>unknown</td>\n",
       "      <td>yes</td>\n",
       "    </tr>\n",
       "    <tr>\n",
       "      <th>1</th>\n",
       "      <td>56</td>\n",
       "      <td>admin.</td>\n",
       "      <td>married</td>\n",
       "      <td>secondary</td>\n",
       "      <td>no</td>\n",
       "      <td>45</td>\n",
       "      <td>no</td>\n",
       "      <td>no</td>\n",
       "      <td>unknown</td>\n",
       "      <td>5</td>\n",
       "      <td>may</td>\n",
       "      <td>1467</td>\n",
       "      <td>1</td>\n",
       "      <td>-1</td>\n",
       "      <td>0</td>\n",
       "      <td>unknown</td>\n",
       "      <td>yes</td>\n",
       "    </tr>\n",
       "    <tr>\n",
       "      <th>2</th>\n",
       "      <td>41</td>\n",
       "      <td>technician</td>\n",
       "      <td>married</td>\n",
       "      <td>secondary</td>\n",
       "      <td>no</td>\n",
       "      <td>1270</td>\n",
       "      <td>yes</td>\n",
       "      <td>no</td>\n",
       "      <td>unknown</td>\n",
       "      <td>5</td>\n",
       "      <td>may</td>\n",
       "      <td>1389</td>\n",
       "      <td>1</td>\n",
       "      <td>-1</td>\n",
       "      <td>0</td>\n",
       "      <td>unknown</td>\n",
       "      <td>yes</td>\n",
       "    </tr>\n",
       "  </tbody>\n",
       "</table>\n",
       "</div>"
      ],
      "text/plain": [
       "   age         job  marital  education default  balance housing loan  contact  \\\n",
       "0   59      admin.  married  secondary      no     2343     yes   no  unknown   \n",
       "1   56      admin.  married  secondary      no       45      no   no  unknown   \n",
       "2   41  technician  married  secondary      no     1270     yes   no  unknown   \n",
       "\n",
       "   day month  duration  campaign  pdays  previous poutcome deposit  \n",
       "0    5   may      1042         1     -1         0  unknown     yes  \n",
       "1    5   may      1467         1     -1         0  unknown     yes  \n",
       "2    5   may      1389         1     -1         0  unknown     yes  "
      ]
     },
     "execution_count": 17,
     "metadata": {},
     "output_type": "execute_result"
    }
   ],
   "source": [
    "bm = Bank_Marketing()\n",
    "bank_data = bm.import_data(\"C://Users//Shrey//Desktop//Coursera//Bank.csv\")\n",
    "bank_data.head(3)"
   ]
  },
  {
   "cell_type": "code",
   "execution_count": 18,
   "metadata": {
    "collapsed": false
   },
   "outputs": [
    {
     "data": {
      "text/plain": [
       "(11162, 17)"
      ]
     },
     "execution_count": 18,
     "metadata": {},
     "output_type": "execute_result"
    }
   ],
   "source": [
    "# determine the dimensions of the data...\n",
    "bm.determine_dimensions()"
   ]
  },
  {
   "cell_type": "markdown",
   "metadata": {
    "collapsed": false
   },
   "source": [
    "## Inference: The dataset has 11162 observations and 17 features"
   ]
  },
  {
   "cell_type": "code",
   "execution_count": 20,
   "metadata": {
    "collapsed": false
   },
   "outputs": [
    {
     "name": "stdout",
     "output_type": "stream",
     "text": [
      "Features of the dataset are : \n",
      "['age', 'job', 'marital', 'education', 'default', 'balance', 'housing', 'loan', 'contact', 'day', 'month', 'duration', 'campaign', 'pdays', 'previous', 'poutcome', 'deposit']\n"
     ]
    }
   ],
   "source": [
    "# List the features of the dataset...\n",
    "features = bm.list_features()\n",
    "print(\"Features of the dataset are : \")\n",
    "print(features)"
   ]
  },
  {
   "cell_type": "code",
   "execution_count": 21,
   "metadata": {
    "collapsed": false
   },
   "outputs": [
    {
     "name": "stdout",
     "output_type": "stream",
     "text": [
      "<class 'pandas.core.frame.DataFrame'>\n",
      "RangeIndex: 11162 entries, 0 to 11161\n",
      "Data columns (total 17 columns):\n",
      "age          11162 non-null int64\n",
      "job          11162 non-null object\n",
      "marital      11162 non-null object\n",
      "education    11162 non-null object\n",
      "default      11162 non-null object\n",
      "balance      11162 non-null int64\n",
      "housing      11162 non-null object\n",
      "loan         11162 non-null object\n",
      "contact      11162 non-null object\n",
      "day          11162 non-null int64\n",
      "month        11162 non-null object\n",
      "duration     11162 non-null int64\n",
      "campaign     11162 non-null int64\n",
      "pdays        11162 non-null int64\n",
      "previous     11162 non-null int64\n",
      "poutcome     11162 non-null object\n",
      "deposit      11162 non-null object\n",
      "dtypes: int64(7), object(10)\n",
      "memory usage: 1.4+ MB\n"
     ]
    }
   ],
   "source": [
    "'''\n",
    "Every dataset has both categorical and numerical features. Here this dataset has 17 features overall. Let's determine \n",
    "categorical and numerical features of the dataset.\n",
    "'''\n",
    "bank_data.info() # finds out basic info about the dataset..."
   ]
  },
  {
   "cell_type": "markdown",
   "metadata": {
    "collapsed": false
   },
   "source": [
    "### Categorical Data are:-"
   ]
  },
  {
   "cell_type": "code",
   "execution_count": 22,
   "metadata": {
    "collapsed": false
   },
   "outputs": [
    {
     "data": {
      "text/plain": [
       "'\\n1. Job: Type of Job a customer does.\\n2. marital: Marital status of the customer.\\n3. education: educational qualifications of the customer.\\n4. default: Does customer have any loan by default.\\n5. housing: Has customer taken any housing loan.\\n6. loan: Has customer taken any other loan\\n7. contact: Type of contact customer uses.\\n8. Poutcome: Previous outcome of the campaign.\\n9. Month: Month of the calender.\\n10.Deposit: Final Response of customer i.e target variable..\\n'"
      ]
     },
     "execution_count": 22,
     "metadata": {},
     "output_type": "execute_result"
    }
   ],
   "source": [
    "'''\n",
    "1. Job: Type of Job a customer does.\n",
    "2. marital: Marital status of the customer.\n",
    "3. education: educational qualifications of the customer.\n",
    "4. default: Does customer have any loan by default.\n",
    "5. housing: Has customer taken any housing loan.\n",
    "6. loan: Has customer taken any other loan\n",
    "7. contact: Type of contact customer uses.\n",
    "8. Poutcome: Previous outcome of the campaign.\n",
    "9. Month: Month of the calender.\n",
    "10.Deposit: Final Response of customer i.e target variable..\n",
    "'''"
   ]
  },
  {
   "cell_type": "markdown",
   "metadata": {
    "collapsed": false
   },
   "source": [
    "### Numerical Data are:- "
   ]
  },
  {
   "cell_type": "code",
   "execution_count": null,
   "metadata": {
    "collapsed": false
   },
   "outputs": [],
   "source": [
    "'''\n",
    "1. Age: Age of the customer.\n",
    "2. Balance: Balance of the customer.\n",
    "3. Day: Day of the week.\n",
    "4. Duration: Call duration with customer.\n",
    "5. Campaign: No. of contacts performed during the current campaign for a client in the dataset.\n",
    "6. Pdays: No. of days passed after the client was contacted from previous campaign.\n",
    "7. Previous: No. of contacts performed before this campaign for a client in the dataset.\n",
    "'''"
   ]
  },
  {
   "cell_type": "code",
   "execution_count": 23,
   "metadata": {
    "collapsed": false
   },
   "outputs": [],
   "source": [
    "# Now let's explore the different categories in each of the categorical data...\n",
    "# retrieving the dictionary of categorical features and its unique values...\n",
    "dict_categorical_features = bm.find_unique_values_of_categorical_features()"
   ]
  },
  {
   "cell_type": "code",
   "execution_count": 24,
   "metadata": {
    "collapsed": false
   },
   "outputs": [
    {
     "name": "stdout",
     "output_type": "stream",
     "text": [
      "Unique Job types are : \n",
      "['admin.', 'technician', 'services', 'management', 'retired', 'blue-collar', 'unemployed', 'entrepreneur', 'housemaid', 'unknown', 'self-employed', 'student']\n",
      "\n",
      "Different types of marital status are : \n",
      "['married', 'single', 'divorced']\n",
      "\n",
      "Different types of education are : \n",
      "['secondary', 'tertiary', 'primary', 'unknown']\n",
      "\n",
      "Responses of Housing Loans are : \n",
      "['yes', 'no']\n",
      "\n",
      "Responses of Other loans are : \n",
      "['no', 'yes']\n",
      "\n",
      "Responses on customers having default loans are : \n",
      "['no', 'yes']\n",
      "\n",
      "Different Types of Contact are : \n",
      "['unknown', 'cellular', 'telephone']\n",
      "\n",
      "Responses of previous outcomes of marketing campaigns are : \n",
      "['unknown', 'other', 'failure', 'success']\n",
      "\n",
      "Different months of the calender are : \n",
      "['may', 'jun', 'jul', 'aug', 'oct', 'nov', 'dec', 'jan', 'feb', 'mar', 'apr', 'sep']\n",
      "\n",
      "Responses of Customers are : \n",
      "['yes', 'no']\n"
     ]
    }
   ],
   "source": [
    "# different job types are:\n",
    "unique_job_types = dict_categorical_features['job']\n",
    "print(\"Unique Job types are : \")\n",
    "print(unique_job_types)\n",
    "\n",
    "print\n",
    "\n",
    "unique_marital_status = dict_categorical_features['marital']\n",
    "print(\"Different types of marital status are : \")\n",
    "print(unique_marital_status)\n",
    "\n",
    "print\n",
    "\n",
    "unique_education_types = dict_categorical_features['education']\n",
    "print(\"Different types of education are : \")\n",
    "print(unique_education_types)\n",
    "\n",
    "print\n",
    "\n",
    "housing_loan_responses = dict_categorical_features['housing']\n",
    "print(\"Responses of Housing Loans are : \")\n",
    "print(housing_loan_responses)\n",
    "\n",
    "print\n",
    "\n",
    "other_loan_responses = dict_categorical_features['loan']\n",
    "print(\"Responses of Other loans are : \")\n",
    "print(other_loan_responses)\n",
    "\n",
    "print\n",
    "\n",
    "default_loan_responses = dict_categorical_features['default']\n",
    "print(\"Responses on customers having default loans are : \")\n",
    "print(default_loan_responses)\n",
    "\n",
    "print \n",
    "\n",
    "different_contact_types = dict_categorical_features['contact']\n",
    "print(\"Different Types of Contact are : \")\n",
    "print(different_contact_types)\n",
    "\n",
    "print \n",
    "\n",
    "response_of_previous_outcome = dict_categorical_features['poutcome']\n",
    "print(\"Responses of previous outcomes of marketing campaigns are : \")\n",
    "print(response_of_previous_outcome)\n",
    "\n",
    "print\n",
    "\n",
    "different_months = dict_categorical_features['month']\n",
    "print(\"Different months of the calender are : \")\n",
    "print(different_months)\n",
    "\n",
    "print\n",
    "customer_response = dict_categorical_features['deposit']\n",
    "print(\"Responses of Customers are : \")\n",
    "print(customer_response)"
   ]
  },
  {
   "cell_type": "code",
   "execution_count": 25,
   "metadata": {
    "collapsed": false
   },
   "outputs": [
    {
     "name": "stdout",
     "output_type": "stream",
     "text": [
      "Frequency distribution of Job Types are : \n",
      "{'management': 2566, 'retired': 778, 'entrepreneur': 328, 'unknown': 70, 'unemployed': 357, 'housemaid': 274, 'admin.': 1334, 'services': 923, 'self-employed': 405, 'student': 360, 'technician': 1823, 'blue-collar': 1944}\n",
      "\n",
      "Frequency distribution of Education types are : \n",
      "{'unknown': 497, 'primary': 1500, 'tertiary': 3689, 'secondary': 5476}\n",
      "\n",
      "Frequency distribution of Marital status are : \n",
      "{'single': 3518, 'married': 6351, 'divorced': 1293}\n",
      "\n",
      "Frequency distribution of Contact types are : \n",
      "{'unknown': 2346, 'telephone': 774, 'cellular': 8042}\n",
      "\n",
      "Housing loan responses are : \n",
      "{'yes': 5281, 'no': 5881}\n",
      "\n",
      "Other loan responses are : \n",
      "{'yes': 1460, 'no': 9702}\n",
      "\n",
      "Final Response of the customers are : \n",
      "{'yes': 5289, 'no': 5873}\n"
     ]
    }
   ],
   "source": [
    "# Now Let us determine the frequency distribution of each values of the categorical variable...\n",
    "dict_job_freq = bm.determine_frequency_distribution('job',unique_job_types)\n",
    "print(\"Frequency distribution of Job Types are : \")\n",
    "print(dict_job_freq)\n",
    "\n",
    "print\n",
    "\n",
    "dict_educ_freq = bm.determine_frequency_distribution('education', unique_education_types)\n",
    "print(\"Frequency distribution of Education types are : \")\n",
    "print dict_educ_freq\n",
    "\n",
    "print \n",
    "\n",
    "dict_marital_status_freq = bm.determine_frequency_distribution('marital', unique_marital_status)\n",
    "print(\"Frequency distribution of Marital status are : \")\n",
    "print(dict_marital_status_freq)\n",
    "\n",
    "print\n",
    "\n",
    "dict_contact_freq = bm.determine_frequency_distribution('contact', different_contact_types)\n",
    "print(\"Frequency distribution of Contact types are : \")\n",
    "print(dict_contact_freq)\n",
    "\n",
    "print\n",
    "\n",
    "dict_housing_loan_resp_freq = bm.determine_frequency_distribution('housing', housing_loan_responses)\n",
    "print(\"Housing loan responses are : \")\n",
    "print(dict_housing_loan_resp_freq)\n",
    "\n",
    "print\n",
    "\n",
    "dict_other_loans_resp_freq = bm.determine_frequency_distribution('loan', other_loan_responses)\n",
    "print(\"Other loan responses are : \")\n",
    "print(dict_other_loans_resp_freq)\n",
    "\n",
    "print\n",
    "dict_final_response_of_customer = bm.determine_frequency_distribution('deposit', customer_response)\n",
    "print(\"Final Response of the customers are : \")\n",
    "print(dict_final_response_of_customer)"
   ]
  },
  {
   "cell_type": "markdown",
   "metadata": {},
   "source": [
    "### Inference: The Feature variables Housing and Response are distributed equally. In contact feature, telephone has lowest number of customers whereas cellular has highest number of customers. Unknown responses are found in features JobTypes, Education Types and Contact Types."
   ]
  },
  {
   "cell_type": "markdown",
   "metadata": {},
   "source": [
    "### Performing Exploratory Data Analysis"
   ]
  },
  {
   "cell_type": "code",
   "execution_count": 26,
   "metadata": {
    "collapsed": false
   },
   "outputs": [],
   "source": [
    "class Exploratory_Data_Analysis(Bank_Marketing):\n",
    "    def __init__(self):\n",
    "        self.bank_data = None\n",
    "    \n",
    "    # extract the data...\n",
    "    def extract_data(self):\n",
    "        self.bank_data = self.import_data(\"C://Users//Shrey//Desktop//Coursera//Bank.csv\")\n",
    "        return self.bank_data\n",
    "    \n",
    "    '''Data Exploration Segment...'''\n",
    "    def return_array_of_variable(self, numeric_variable):\n",
    "        final_array = np.array(self.bank_data[numeric_variable])\n",
    "        return final_array\n",
    "    \n",
    "    def data_analysis_of_numeric_variables(self, numeric_variable):\n",
    "        return self.bank_data[numeric_variable].describe() \n",
    "    \n",
    "    def calculate_interquartile_range(self, quartile_1, quartile_3):\n",
    "        interquartile_range = (quartile_3 - quartile_1)   # formula for calculating IQR...\n",
    "        \n",
    "        return interquartile_range\n",
    "    \n",
    "    def calculate_outlier_boundaries(self, quartile_1, quartile_3, interquartile_range):\n",
    "        # Calculating the outlier boundaries...\n",
    "        right_outlier_boundary = 0\n",
    "        left_outlier_boundary = 0\n",
    "        right_outlier_boundary = quartile_3 + (1.5 * interquartile_range)\n",
    "        left_outlier_boundary = quartile_1 - (1.5 * interquartile_range)\n",
    "        \n",
    "        return left_outlier_boundary, right_outlier_boundary\n",
    "    \n",
    "    # method to calculate percentile...\n",
    "    def calculate_required_percentile(self, percentile_number, array):\n",
    "        # Calculating the right percentile number...\n",
    "        sorted_list = np.sort(array)\n",
    "    \n",
    "        # calculate the percentile score....\n",
    "        percentile_score_index = int(math.ceil(float(len(sorted_list)) * float(percentile_number)/100.0)) - 1\n",
    "    \n",
    "        return array[percentile_score_index]\n"
   ]
  },
  {
   "cell_type": "code",
   "execution_count": 27,
   "metadata": {
    "collapsed": false,
    "scrolled": true
   },
   "outputs": [
    {
     "data": {
      "text/html": [
       "<div>\n",
       "<table border=\"1\" class=\"dataframe\">\n",
       "  <thead>\n",
       "    <tr style=\"text-align: right;\">\n",
       "      <th></th>\n",
       "      <th>age</th>\n",
       "      <th>job</th>\n",
       "      <th>marital</th>\n",
       "      <th>education</th>\n",
       "      <th>default</th>\n",
       "      <th>balance</th>\n",
       "      <th>housing</th>\n",
       "      <th>loan</th>\n",
       "      <th>contact</th>\n",
       "      <th>day</th>\n",
       "      <th>month</th>\n",
       "      <th>duration</th>\n",
       "      <th>campaign</th>\n",
       "      <th>pdays</th>\n",
       "      <th>previous</th>\n",
       "      <th>poutcome</th>\n",
       "      <th>deposit</th>\n",
       "    </tr>\n",
       "  </thead>\n",
       "  <tbody>\n",
       "    <tr>\n",
       "      <th>0</th>\n",
       "      <td>59</td>\n",
       "      <td>admin.</td>\n",
       "      <td>married</td>\n",
       "      <td>secondary</td>\n",
       "      <td>no</td>\n",
       "      <td>2343</td>\n",
       "      <td>yes</td>\n",
       "      <td>no</td>\n",
       "      <td>unknown</td>\n",
       "      <td>5</td>\n",
       "      <td>may</td>\n",
       "      <td>1042</td>\n",
       "      <td>1</td>\n",
       "      <td>-1</td>\n",
       "      <td>0</td>\n",
       "      <td>unknown</td>\n",
       "      <td>yes</td>\n",
       "    </tr>\n",
       "    <tr>\n",
       "      <th>1</th>\n",
       "      <td>56</td>\n",
       "      <td>admin.</td>\n",
       "      <td>married</td>\n",
       "      <td>secondary</td>\n",
       "      <td>no</td>\n",
       "      <td>45</td>\n",
       "      <td>no</td>\n",
       "      <td>no</td>\n",
       "      <td>unknown</td>\n",
       "      <td>5</td>\n",
       "      <td>may</td>\n",
       "      <td>1467</td>\n",
       "      <td>1</td>\n",
       "      <td>-1</td>\n",
       "      <td>0</td>\n",
       "      <td>unknown</td>\n",
       "      <td>yes</td>\n",
       "    </tr>\n",
       "    <tr>\n",
       "      <th>2</th>\n",
       "      <td>41</td>\n",
       "      <td>technician</td>\n",
       "      <td>married</td>\n",
       "      <td>secondary</td>\n",
       "      <td>no</td>\n",
       "      <td>1270</td>\n",
       "      <td>yes</td>\n",
       "      <td>no</td>\n",
       "      <td>unknown</td>\n",
       "      <td>5</td>\n",
       "      <td>may</td>\n",
       "      <td>1389</td>\n",
       "      <td>1</td>\n",
       "      <td>-1</td>\n",
       "      <td>0</td>\n",
       "      <td>unknown</td>\n",
       "      <td>yes</td>\n",
       "    </tr>\n",
       "    <tr>\n",
       "      <th>3</th>\n",
       "      <td>55</td>\n",
       "      <td>services</td>\n",
       "      <td>married</td>\n",
       "      <td>secondary</td>\n",
       "      <td>no</td>\n",
       "      <td>2476</td>\n",
       "      <td>yes</td>\n",
       "      <td>no</td>\n",
       "      <td>unknown</td>\n",
       "      <td>5</td>\n",
       "      <td>may</td>\n",
       "      <td>579</td>\n",
       "      <td>1</td>\n",
       "      <td>-1</td>\n",
       "      <td>0</td>\n",
       "      <td>unknown</td>\n",
       "      <td>yes</td>\n",
       "    </tr>\n",
       "    <tr>\n",
       "      <th>4</th>\n",
       "      <td>54</td>\n",
       "      <td>admin.</td>\n",
       "      <td>married</td>\n",
       "      <td>tertiary</td>\n",
       "      <td>no</td>\n",
       "      <td>184</td>\n",
       "      <td>no</td>\n",
       "      <td>no</td>\n",
       "      <td>unknown</td>\n",
       "      <td>5</td>\n",
       "      <td>may</td>\n",
       "      <td>673</td>\n",
       "      <td>2</td>\n",
       "      <td>-1</td>\n",
       "      <td>0</td>\n",
       "      <td>unknown</td>\n",
       "      <td>yes</td>\n",
       "    </tr>\n",
       "  </tbody>\n",
       "</table>\n",
       "</div>"
      ],
      "text/plain": [
       "   age         job  marital  education default  balance housing loan  contact  \\\n",
       "0   59      admin.  married  secondary      no     2343     yes   no  unknown   \n",
       "1   56      admin.  married  secondary      no       45      no   no  unknown   \n",
       "2   41  technician  married  secondary      no     1270     yes   no  unknown   \n",
       "3   55    services  married  secondary      no     2476     yes   no  unknown   \n",
       "4   54      admin.  married   tertiary      no      184      no   no  unknown   \n",
       "\n",
       "   day month  duration  campaign  pdays  previous poutcome deposit  \n",
       "0    5   may      1042         1     -1         0  unknown     yes  \n",
       "1    5   may      1467         1     -1         0  unknown     yes  \n",
       "2    5   may      1389         1     -1         0  unknown     yes  \n",
       "3    5   may       579         1     -1         0  unknown     yes  \n",
       "4    5   may       673         2     -1         0  unknown     yes  "
      ]
     },
     "execution_count": 27,
     "metadata": {},
     "output_type": "execute_result"
    }
   ],
   "source": [
    "eda = Exploratory_Data_Analysis()\n",
    "bank_data = eda.extract_data()\n",
    "bank_data.head(5)"
   ]
  },
  {
   "cell_type": "markdown",
   "metadata": {
    "collapsed": false
   },
   "source": [
    "### Performing Exploratory Analysis of Numeric Variables..."
   ]
  },
  {
   "cell_type": "code",
   "execution_count": 29,
   "metadata": {
    "collapsed": false
   },
   "outputs": [
    {
     "name": "stdout",
     "output_type": "stream",
     "text": [
      "Basic Analysis of Age Variable is : \n",
      "count    11162.000000\n",
      "mean        41.231948\n",
      "std         11.913369\n",
      "min         18.000000\n",
      "25%         32.000000\n",
      "50%         39.000000\n",
      "75%         49.000000\n",
      "max         95.000000\n",
      "Name: age, dtype: float64\n",
      "\n",
      "Interquartile Range Of Age Variable is : \n",
      "17.0\n",
      "('Quartile 1 is : ', 32.0)\n",
      "('Quartile 3 is : ', 49.0)\n",
      "('Left Outlier Boundary is : ', 6.5)\n",
      "('Right Outlier Boundary is : ', 74.5)\n",
      "\n",
      "Possible outliers are : \n",
      "('From the left : ', [])\n",
      "('From the right : ', [75, 85, 90, 85, 83, 76, 83, 77, 77, 76, 78, 95, 78, 75, 76, 85, 83, 79, 82, 79, 75, 76, 82, 77, 86, 76, 79, 83, 77, 84, 83, 75, 77, 76, 77, 87, 76, 92, 78, 82, 76, 77, 76, 81, 75, 80, 87, 76, 82, 77, 76, 81, 75, 78, 80, 86, 79, 79, 81, 75, 84, 87, 85, 79, 92, 77, 81, 80, 77, 78, 76, 80, 77, 76, 75, 82, 80, 78, 90, 83, 80, 82, 80, 84, 86, 75, 76, 77, 76, 77, 80, 77, 78, 75, 84, 78, 80, 80, 79, 86, 93, 82, 82, 77, 93, 77, 75, 80, 84, 75, 78, 81, 81, 77, 78, 75, 77, 77, 77, 78, 77, 79, 78, 75, 80, 76, 78, 79, 75, 77, 79, 78, 88, 77, 85, 78, 80, 82, 75, 77, 78, 78, 76, 81, 77, 75, 80, 80, 80, 76, 77, 81, 76, 76, 87, 81, 78, 82, 83, 77, 77, 75, 76, 89, 80, 77, 77, 88, 77, 78, 86])\n"
     ]
    }
   ],
   "source": [
    "analysis_of_age = eda.data_analysis_of_numeric_variables('age')\n",
    "print \"Basic Analysis of Age Variable is : \"\n",
    "print analysis_of_age\n",
    "\n",
    "# Calculating interquartile range of Age variable...\n",
    "quartile1 = analysis_of_age.loc['25%']\n",
    "quartile3 = analysis_of_age.loc['75%']\n",
    "\n",
    "print \n",
    "\n",
    "interquartile_range = eda.calculate_interquartile_range(quartile1, quartile3)\n",
    "print(\"Interquartile Range Of Age Variable is : \")\n",
    "print(interquartile_range)\n",
    "\n",
    "print(\"Quartile 1 is : \", quartile1)\n",
    "print(\"Quartile 3 is : \", quartile3)\n",
    "\n",
    "# Now calculating outliers...\n",
    "left_outlier_boundary, right_outlier_boundary = eda.calculate_outlier_boundaries(quartile1, quartile3, interquartile_range)\n",
    "print(\"Left Outlier Boundary is : \", left_outlier_boundary)\n",
    "print(\"Right Outlier Boundary is : \", right_outlier_boundary)\n",
    "\n",
    "print\n",
    "\n",
    "# Now calculating those values which are less than left boundary and which are greater than right outlier boundary...\n",
    "print(\"Possible outliers are : \")\n",
    "data1 = bank_data[bank_data['age'] < left_outlier_boundary]\n",
    "data2 = bank_data[bank_data['age'] > right_outlier_boundary]\n",
    "\n",
    "print(\"From the left : \",list(data1['age']))\n",
    "print(\"From the right : \",list(data2['age']))"
   ]
  },
  {
   "cell_type": "markdown",
   "metadata": {
    "collapsed": false
   },
   "source": [
    "### Inference from Age Variable\n",
    "* Average age of the people in the dataset is ~41 with std of 10.61\n",
    "   * Min. age is 18\n",
    "   * Max. age is 95\n",
    "   * quantile 75%(percentile) refers that 75 percentage of the people have 49 or less  age.\n",
    "   * As 95 is max, there is great chance that its a outlier \"Q3 + 17*(3/2) = 74.5\". So anything greater than 74.5 is outlier."
   ]
  },
  {
   "cell_type": "code",
   "execution_count": 30,
   "metadata": {
    "collapsed": false
   },
   "outputs": [
    {
     "name": "stdout",
     "output_type": "stream",
     "text": [
      "Basic analysis of balance variable is : \n",
      "\n",
      "Interquartile Range Of Balance Variable is : \n",
      "1586.0\n",
      "('Quartile 1 is : ', 122.0)\n",
      "('Quartile 3 is : ', 1708.0)\n",
      "('Left Outlier Boundary is : ', -2257.0)\n",
      "('Right Outlier Boundary is : ', 4087.0)\n",
      "\n",
      "Possible outliers are : \n",
      "('From the left : ', [-3058, -2282, -6847, -2712])\n",
      "('From the right : ', [5090, 7180, 5291, 4580, 10576, 4393, 4438, 4170, 4822, 4499, 4665, 5773, 6840, 12956, 4692, 7606, 14481, 5724, 4136, 6281, 5839, 7561, 4844, 5345, 11008, 4930, 9103, 6360, 4145, 9004, 4758, 5024, 10685, 5613, 5361, 14282, 7098, 5389, 4108, 4291, 6822, 7138, 4396, 34646, 4436, 10052, 9827, 6170, 8029, 8163, 4414, 7135, 4570, 5188, 17297, 7084, 5603, 5303, 8749, 5346, 5514, 5254, 10250, 12026, 7506, 5041, 6619, 12857, 5060, 4152, 5447, 5115, 4508, 4646, 11887, 5037, 8781, 5561, 4189, 12737, 4654, 6402, 6993, 4420, 11462, 6843, 5806, 20138, 4333, 7773, 6888, 5461, 7119, 18508, 5639, 12519, 4254, 7049, 7195, 4117, 8629, 4536, 4148, 4119, 22520, 7724, 4329, 4465, 5701, 6016, 4089, 4391, 10613, 4383, 12857, 6101, 4987, 5060, 5689, 12114, 11862, 7702, 4657, 5355, 5359, 23878, 7613, 5561, 8345, 4562, 10180, 4808, 6422, 8929, 5810, 8089, 8866, 10185, 11385, 4126, 9601, 9676, 4099, 5005, 4736, 11891, 4979, 4415, 12039, 4659, 11174, 6158, 4596, 13546, 5303, 4333, 6807, 10086, 10925, 9480, 6281, 8556, 5110, 4099, 4917, 7707, 5583, 5701, 7468, 4401, 5106, 6060, 4684, 4733, 6657, 5462, 5802, 4152, 36252, 10252, 5437, 5060, 6368, 4182, 9367, 9407, 5872, 9328, 7506, 5990, 5024, 6005, 4500, 5293, 7279, 5073, 4227, 4406, 17924, 8180, 4963, 8781, 7863, 6089, 5845, 5795, 7066, 6567, 5774, 7290, 5909, 12198, 7702, 5310, 13094, 5086, 23878, 17964, 7818, 4118, 7968, 15161, 7019, 4987, 5887, 27624, 5313, 22086, 4945, 8295, 4321, 6574, 8866, 5205, 10346, 20585, 14533, 7443, 10583, 5966, 12956, 5511, 8603, 18016, 7005, 4388, 5474, 19317, 6791, 4717, 4297, 10532, 4693, 9064, 6983, 7050, 10185, 52587, 10884, 4401, 6991, 27696, 13014, 9367, 4623, 12972, 9131, 10905, 5359, 10596, 9962, 11862, 5310, 5584, 5473, 11262, 24277, 4119, 5689, 17964, 4752, 7968, 6468, 4744, 6574, 6538, 14220, 12569, 7331, 6046, 4775, 10943, 4539, 10252, 4380, 20585, 10583, 6784, 8295, 5437, 4596, 12039, 7111, 4198, 6138, 6481, 7529, 6807, 6746, 6281, 4807, 8603, 4174, 10925, 14646, 11115, 6900, 5878, 4112, 4629, 5063, 4572, 4984, 4787, 8278, 7458, 8729, 4243, 5462, 4412, 10332, 10541, 10861, 22867, 9366, 6746, 4693, 5291, 4745, 5220, 9367, 6027, 5715, 4922, 9421, 4198, 4708, 5887, 11891, 5028, 10250, 8304, 4721, 4402, 5313, 5108, 7105, 4657, 81204, 11303, 6513, 4579, 5372, 4198, 5021, 4803, 8556, 7005, 4112, 4629, 18967, 4831, 7802, 4468, 4807, 6571, 10541, 5291, 4448, 5267, 9367, 13014, 27696, 4675, 10185, 52587, 7620, 5473, 6610, 7766, 5359, 4945, 7585, 5296, 12980, 6771, 4761, 4721, 4608, 5958, 10583, 4176, 6036, 81204, 5236, 7929, 4126, 9001, 7529, 11115, 5037, 4984, 4787, 12067, 4243, 4328, 7802, 8000, 9367, 6027, 8103, 8304, 8304, 5397, 29080, 12569, 6651, 5329, 6181, 4189, 5021, 9299, 31472, 5475, 4124, 14968, 5511, 10861, 4629, 4112, 11650, 6138, 4831, 12067, 27696, 5275, 4256, 8304, 7968, 5169, 4945, 6771, 8304, 4761, 5741, 4680, 4951, 4343, 6403, 5397, 6551, 4416, 12264, 4328, 5112, 4833, 5475, 11862, 4256, 5715, 15485, 4708, 5768, 4539, 4787, 7050, 8165, 18188, 22125, 6188, 45248, 10281, 6046, 5301, 7918, 11766, 4642, 4718, 7608, 5115, 12264, 11115, 6013, 11862, 8897, 4216, 23076, 7459, 4147, 29340, 26965, 4736, 7441, 4613, 5169, 5359, 6748, 4151, 6840, 4101, 8491, 4688, 5679, 7895, 15161, 6529, 12356, 5763, 4859, 8332, 5517, 13107, 11008, 7554, 4590, 7560, 5637, 11115, 4718, 4266, 4158, 4401, 8828, 5267, 4889, 5561, 4210, 4661, 7968, 7005, 4348, 8000, 13711, 5310, 7433, 6112, 9883, 8990, 32685, 5310, 4457, 11835, 5115, 5112, 11821, 8648, 4721, 18111, 6997, 19268, 4216, 5539, 8229, 7103, 4855, 8304, 8535, 10287, 10861, 4657, 6728, 10884, 7192, 13460, 5320, 5047, 5862, 27696, 15459, 7803, 12857, 4389, 4623, 12018, 6542, 9228, 5958, 7050, 14144, 5969, 4751, 4461, 9314, 4745, 20806, 6831, 5350, 9756, 5715, 5514, 6728, 4401, 5943, 4389, 7944, 5091, 8121, 7687, 5802, 4692, 4335, 6203, 4381, 7132, 5244, 6388, 7007, 4695, 5781, 9447, 5296, 4872, 4943, 4930, 5275, 6429, 12223, 4629, 5807, 22867, 7102, 6739, 8023, 20718, 5222, 6374, 5432, 4968, 5888, 8876, 6596, 4374, 6904, 5336, 11650, 9645, 7503, 6212, 5312, 4095, 5345, 6134, 6714, 9916, 6014, 13338, 11528, 7298, 4264, 17924, 4168, 7177, 5809, 7378, 6958, 4168, 15578, 4110, 9072, 10786, 7668, 4517, 4324, 19447, 9216, 4819, 21522, 5271, 4976, 4151, 4388, 8422, 9569, 15474, 8403, 4222, 13578, 11222, 4592, 8494, 8016, 4830, 8919, 4787, 14930, 12531, 4874, 4253, 5700, 5953, 6392, 7702, 5735, 5193, 10438, 11766, 9851, 5261, 4328, 11431, 7752, 4471, 20011, 6766, 5299, 7735, 19343, 10218, 5641, 4492, 37127, 5083, 6004, 5276, 13156, 8564, 5426, 5678, 7100, 8319, 15341, 4841, 5571, 8876, 5223, 10787, 4912, 5034, 4567, 5163, 4844, 5774, 11265, 22755, 4951, 12848, 5205, 5127, 18558, 23592, 4568, 7934, 24450, 4382, 4519, 5769, 9326, 4358, 6835, 5222, 4798, 9713, 5547, 10635, 6835, 11016, 6362, 9051, 4121, 13849, 7503, 4929, 25290, 8226, 6551, 6512, 5345, 5801, 5784, 4692, 7369, 5746, 7649, 23495, 9224, 13901, 7426, 6101, 8298, 4176, 7602, 13774, 4331, 8785, 4641, 7831, 21614, 10655, 5423, 8982, 13658, 7863, 4721, 5366, 4513, 5539, 4722, 4567, 5553, 6138, 4612, 13711, 66653, 5249, 9994, 34230, 5435, 23189, 6979, 6298, 4321, 9214, 14850, 13054, 23421, 7408, 4293, 4565, 4840, 4790, 4726, 5956, 4888, 6337, 4709, 9301, 11494, 4312, 4622, 7944, 8918, 10086, 9324, 7832, 6637, 5260, 4305, 5214, 10984, 5252, 4577, 12180, 13410, 5903, 7264, 4645, 5691, 4348, 7816, 5763, 6181, 5154, 5041, 4869, 8267, 9192, 7876, 5559, 4367, 8837, 4982, 5969, 9324, 5914, 4157, 10041, 7845, 6981, 7296, 4522, 11254, 6798, 4564, 4105, 4415, 4157, 5731, 8417, 9710, 6227, 5252, 17361, 17672, 4466, 6570, 8784, 13818, 24780, 29184, 7641, 4464, 5010, 8564, 5691, 7867, 22815, 4594, 6116, 4515, 7811, 5744, 9374, 5016, 7984, 7780, 29207, 4696, 15341, 12276, 4707, 8044, 4150, 6929, 6791, 7336, 4920, 20928, 5828, 6307, 15841, 8725, 7051, 10269, 6971, 4497, 6200, 6690, 4178, 20723, 4314, 5122, 7010, 4545, 7067, 6507, 4613, 11862, 5920, 5310, 5315, 16992, 6332, 4366, 5050, 8514, 5172, 5737, 5231, 6432, 56831, 4279, 8669, 4790, 10005, 8379, 16397, 7313, 4196, 12159, 8806, 11219, 14522, 4769, 19358, 5563, 6641, 5381, 7747, 5092, 4287, 4708, 5879, 4660, 25947, 6619, 11854, 4299, 5024, 4130, 10465, 4380, 5432, 6215, 5916, 4556, 4903, 5632, 4874, 51439, 5521, 13107, 5215, 5827, 10378, 4943, 6659, 7162, 6839, 6269, 16786, 4482, 7628, 4996, 8097, 36935, 4319, 13342, 4910, 4527, 13578, 6217, 22867, 5704, 6699, 4793, 6836, 4128, 6525, 9317, 8278, 4582, 31868, 10721, 4969, 4574, 6507, 8590, 8486, 20772, 6691, 4576, 8585, 4822, 4344, 18777, 4418, 6718, 6102, 4243, 6445, 6242])\n"
     ]
    }
   ],
   "source": [
    "# doing analysis of balance variable...\n",
    "balance_variable = eda.data_analysis_of_numeric_variables('balance')\n",
    "print \"Basic analysis of balance variable is : \"\n",
    "balance_variable\n",
    "\n",
    "# Calculating interquartile range of Age variable...\n",
    "quartile1 = balance_variable.loc['25%']\n",
    "quartile3 = balance_variable.loc['75%']\n",
    "\n",
    "print \n",
    "\n",
    "interquartile_range = eda.calculate_interquartile_range(quartile1, quartile3)\n",
    "print(\"Interquartile Range Of Balance Variable is : \")\n",
    "print(interquartile_range)\n",
    "\n",
    "print(\"Quartile 1 is : \", quartile1)\n",
    "print(\"Quartile 3 is : \", quartile3)\n",
    "\n",
    "# Now calculating outliers...\n",
    "left_outlier_boundary, right_outlier_boundary = eda.calculate_outlier_boundaries(quartile1, quartile3, interquartile_range)\n",
    "print(\"Left Outlier Boundary is : \", left_outlier_boundary)\n",
    "print(\"Right Outlier Boundary is : \", right_outlier_boundary)\n",
    "\n",
    "print\n",
    "\n",
    "# Now calculating those values which are less than left boundary and which are greater than right outlier boundary...\n",
    "print(\"Possible outliers are : \")\n",
    "data1 = bank_data[bank_data['balance'] < left_outlier_boundary]\n",
    "data2 = bank_data[bank_data['balance'] > right_outlier_boundary]\n",
    "\n",
    "print(\"From the left : \",list(data1['balance']))\n",
    "print(\"From the right : \",list(data2['balance']))"
   ]
  },
  {
   "cell_type": "markdown",
   "metadata": {
    "collapsed": false
   },
   "source": [
    "### Inference from Balance Variable \n",
    "* Average balance of the people in the dataset is (approx)1528.53 with std of 3255.41, as standard deviation is quite huge it means that balance is wide spread across the dataset.\n",
    "   * Min. balance is -6847\n",
    "   * Max. balance is 81204\n",
    "   * quantile 75%(percentile) refers that 75 percentage of the people have 1708 or less balance.\n",
    "   * while comparing with 75% quantile, 81204 is very huge and its a outlier data point."
   ]
  },
  {
   "cell_type": "code",
   "execution_count": 32,
   "metadata": {
    "collapsed": false
   },
   "outputs": [
    {
     "name": "stdout",
     "output_type": "stream",
     "text": [
      "Analysis of the duration variable is : \n",
      "count    11162.000000\n",
      "mean       371.993818\n",
      "std        347.128386\n",
      "min          2.000000\n",
      "25%        138.000000\n",
      "50%        255.000000\n",
      "75%        496.000000\n",
      "max       3881.000000\n",
      "Name: duration, dtype: float64\n",
      "\n",
      "Interquartile Range Of Duration Variable is : \n",
      "358.0\n",
      "('Quartile 1 is : ', 138.0)\n",
      "('Quartile 3 is : ', 496.0)\n",
      "('Left Outlier Boundary is : ', -399.0)\n",
      "('Right Outlier Boundary is : ', 1033.0)\n",
      "\n",
      "Possible outliers are : \n",
      "('From the left : ', [])\n",
      "('From the right : ', [1042, 1467, 1389, 1201, 1297, 1574, 1689, 1102, 1084, 1119, 1120, 2087, 1120, 1692, 1346, 1721, 1553, 1328, 1125, 1423, 1162, 1224, 1156, 1052, 1867, 1143, 1340, 1297, 1193, 1064, 1187, 1622, 1205, 1882, 1334, 1777, 1182, 1045, 1063, 1392, 1681, 1697, 1349, 1392, 1560, 1234, 1272, 1063, 1051, 3094, 1560, 1183, 1730, 1207, 1363, 1109, 1133, 1269, 1097, 1236, 1343, 1980, 1044, 1193, 1036, 1068, 1173, 1045, 2456, 1363, 1336, 1449, 1446, 1149, 1123, 1558, 1053, 1276, 2653, 1085, 1055, 3881, 1137, 1159, 1199, 1290, 1141, 1268, 1243, 1093, 1395, 1089, 1248, 2769, 1345, 2621, 1528, 1540, 1255, 1574, 1135, 1318, 1210, 1098, 1663, 1617, 1036, 1409, 3183, 1135, 1044, 1082, 1061, 1242, 1290, 1439, 1426, 1341, 2029, 1499, 1399, 1187, 1097, 1060, 1120, 1973, 1649, 1397, 1130, 1062, 1669, 1336, 1056, 1806, 1222, 1039, 1656, 1275, 1584, 1448, 1208, 1175, 1153, 1081, 1373, 1139, 1105, 1877, 1130, 1342, 1360, 1134, 1077, 1545, 1833, 1508, 1237, 1037, 1152, 1327, 1201, 1309, 1359, 1204, 1484, 1441, 1491, 1602, 1492, 1422, 1946, 2015, 1330, 1448, 1369, 1169, 1096, 2516, 1058, 1171, 1089, 1211, 1088, 1150, 1107, 1212, 1142, 1721, 1165, 1110, 1488, 1134, 1536, 1051, 1200, 1311, 1227, 1357, 1044, 1249, 1250, 1471, 1456, 1321, 1182, 1242, 1206, 1070, 1238, 1242, 1080, 1134, 1133, 1092, 1307, 1344, 1613, 1735, 1842, 1149, 1148, 1184, 1151, 1231, 1871, 1576, 1293, 1408, 1503, 1532, 1877, 1123, 1258, 1241, 1152, 1374, 1040, 1642, 2372, 1126, 3253, 2016, 1789, 1077, 1303, 1091, 1210, 1978, 1164, 1855, 1034, 1181, 1437, 1122, 1554, 1057, 1792, 1468, 1720, 1192, 1503, 1258, 1490, 1035, 1341, 1598, 1059, 1158, 1074, 1571, 1222, 1555, 1387, 1232, 1199, 1451, 1101, 1165, 1473, 1917, 1451, 2770, 1776, 1136, 1086, 1420, 1425, 1223, 1393, 1404, 1776, 1416, 1579, 1164, 1226, 1290, 1381, 1121, 2775, 1916, 1661, 1138, 1183, 1541, 1971, 1209, 3076, 1081, 1176, 1196, 1164, 1203, 1353, 1134, 1190, 1665, 1691, 1042, 1036, 1091, 1101, 1232, 1073, 1594, 1217, 1038, 1579, 1366, 1174, 1463, 1365, 1156, 1095, 1080, 1332, 1202, 1112, 1550, 1817, 1272, 1333, 1348, 1288, 1277, 1076, 1046, 1091, 1063, 1090, 1205, 1489, 1347, 1074, 1046, 1391, 1516, 1135, 1080, 1448, 1038, 1514, 1232, 1203, 1272, 1062, 1182, 1531, 1063, 1073, 1101, 1207, 1975, 1119, 1279, 1723, 1129, 1060, 1094, 1190, 1111, 1357, 1871, 1313, 1340, 1063, 1057, 1173, 1359, 1064, 1078, 1346, 1460, 1048, 1087, 1144, 1076, 1161, 1543, 1452, 1244, 1336, 1064, 1702, 1104, 1226, 1707, 1233, 1248, 1628, 2062, 1370, 1616, 1133, 1835, 1422, 1093, 1143, 1472, 1205, 1207, 1148, 1360, 1363, 1226, 1120, 1440, 1081, 1405, 1042, 1334, 1298, 1246, 1176, 1556, 1127, 1573, 1076, 2330, 1319, 1060, 1259, 1180, 1127, 1141, 1467, 1193, 2028, 1303, 1623, 1218, 1321, 1310, 1677, 1424, 1148, 1186, 1540, 1059, 1500, 1109, 1265, 1608, 1138, 1130, 1865, 3102, 1181, 1141, 1263, 1075, 1265, 1262, 1034, 1311, 1461, 1127, 1352, 1041, 1579, 1329, 1410, 1240, 1323, 1063, 1141, 1154, 1446, 1597, 1178, 1094, 1080, 1600, 1092, 1282, 1102, 1257, 1635, 1181, 1048, 1417, 1469, 1512, 1486, 1360, 1106, 2301, 1109, 1181, 1143, 1422, 1658, 1314, 1407, 1502, 1555, 1767, 1073, 1603, 1138, 1051, 1532, 2692, 1790, 1034, 1447, 2231, 1132, 1806, 2078, 1241, 2016, 1124, 1081, 2184, 2420, 1294, 1084, 1970, 1121, 1064, 1960, 1249, 1373, 1576, 1528, 1150, 1962, 1252, 1153, 1103, 1344, 1486, 1068, 1388, 1422, 1039, 1598, 2453, 2093, 1230, 1063, 1306, 1130, 1078, 1710, 1223, 1114, 1242, 1720, 1039, 1272, 1205, 1353, 1529, 1855, 2053, 1241, 1386, 1426, 1169, 1101, 1735, 1438, 1148, 1092, 1291, 1113, 1740, 1209, 1434, 1151, 1223, 1226, 1288, 3284, 1062, 1126, 1106, 1083, 1217, 1272, 1206, 1231, 1473, 1389, 1074, 1162, 1171, 1392, 1086, 1075, 1047, 1175, 1156, 1162, 1425, 1567, 1476, 1096, 2027, 1195, 1369, 1166, 1100, 1361, 1082, 1156, 1052, 1521, 1144, 1178, 1504, 1090, 1152, 1244, 1812])\n"
     ]
    }
   ],
   "source": [
    "# Now working on duration variable...\n",
    "analysis_of_duration = eda.data_analysis_of_numeric_variables('duration')\n",
    "print \"Analysis of the duration variable is : \"\n",
    "print analysis_of_duration\n",
    "\n",
    "# Calculating interquartile range of Age variable...\n",
    "quartile1 = analysis_of_duration.loc['25%']\n",
    "quartile3 = analysis_of_duration.loc['75%']\n",
    "\n",
    "print \n",
    "\n",
    "interquartile_range = eda.calculate_interquartile_range(quartile1, quartile3)\n",
    "print(\"Interquartile Range Of Duration Variable is : \")\n",
    "print(interquartile_range)\n",
    "\n",
    "print(\"Quartile 1 is : \", quartile1)\n",
    "print(\"Quartile 3 is : \", quartile3)\n",
    "\n",
    "# Now calculating outliers...\n",
    "left_outlier_boundary, right_outlier_boundary = eda.calculate_outlier_boundaries(quartile1, quartile3, interquartile_range)\n",
    "print(\"Left Outlier Boundary is : \", left_outlier_boundary)\n",
    "print(\"Right Outlier Boundary is : \", right_outlier_boundary)\n",
    "\n",
    "print\n",
    "\n",
    "# Now calculating those values which are less than left boundary and which are greater than right outlier boundary...\n",
    "print(\"Possible outliers are : \")\n",
    "data1 = bank_data[bank_data['duration'] < left_outlier_boundary]\n",
    "data2 = bank_data[bank_data['duration'] > right_outlier_boundary]\n",
    "\n",
    "print(\"From the left : \",list(data1['duration']))\n",
    "print(\"From the right : \",list(data2['duration']))"
   ]
  },
  {
   "cell_type": "markdown",
   "metadata": {},
   "source": [
    "### Inference on Duration Variable.\n",
    " * Average duration of the people speaking in the dataset is (approx)371 with std of 347, as standard deviation is quite huge it means that duration is wide spread across the dataset.\n",
    "   * Min. duration is 2\n",
    "   * Max. duration is 3881\n",
    "   * quantile 75%(percentile) refers that 75 percentage of the people spoke for 496 seconds or less.\n",
    "   * while comparing with 75% quantile, 3881 is a outlier data point."
   ]
  },
  {
   "cell_type": "code",
   "execution_count": 33,
   "metadata": {
    "collapsed": false
   },
   "outputs": [
    {
     "name": "stdout",
     "output_type": "stream",
     "text": [
      "Analysis of pdays is : \n"
     ]
    },
    {
     "data": {
      "text/plain": [
       "count    11162.000000\n",
       "mean        51.330407\n",
       "std        108.758282\n",
       "min         -1.000000\n",
       "25%         -1.000000\n",
       "50%         -1.000000\n",
       "75%         20.750000\n",
       "max        854.000000\n",
       "Name: pdays, dtype: float64"
      ]
     },
     "execution_count": 33,
     "metadata": {},
     "output_type": "execute_result"
    }
   ],
   "source": [
    "# Analysis of Pdays..\n",
    "analysis_of_pdays = eda.data_analysis_of_numeric_variables('pdays')\n",
    "print \"Analysis of pdays is : \"\n",
    "analysis_of_pdays"
   ]
  },
  {
   "cell_type": "markdown",
   "metadata": {},
   "source": [
    "### Inference on Pdays variable...\n",
    "  * Average no. of days passed after the client was contacted from previous campaign in the dataset is (approx)51.33 with std of 108.75.\n",
    "   * Min. pdays is -1\n",
    "   * Max. pdays is 854\n",
    "   * quantile 75%(percentile),for 75% of records it is 20.75 days, which means the Client was frequently contacted after 20.5 days.\n",
    "\n"
   ]
  },
  {
   "cell_type": "markdown",
   "metadata": {},
   "source": []
  },
  {
   "cell_type": "code",
   "execution_count": 34,
   "metadata": {
    "collapsed": false
   },
   "outputs": [
    {
     "name": "stdout",
     "output_type": "stream",
     "text": [
      "Analysis of Campaign Variable is : \n",
      "count    11162.000000\n",
      "mean         2.508421\n",
      "std          2.722077\n",
      "min          1.000000\n",
      "25%          1.000000\n",
      "50%          2.000000\n",
      "75%          3.000000\n",
      "max         63.000000\n",
      "Name: campaign, dtype: float64\n",
      "\n",
      "('Quartile 1 is : ', 1.0)\n",
      "('Quartile 3 is : ', 3.0)\n",
      "\n",
      "Interquartile Range is :  2.0\n",
      "('Left Outlier Boundary is : ', 135.0)\n",
      "('Right Outlier Boundary is : ', 499.0)\n",
      "\n",
      "Possible outliers are : \n",
      "('From the left : ', [1, 1, 1, 1, 2, 2, 1, 1, 1, 3, 1, 2, 4, 2, 2, 1, 3, 1, 2, 1, 2, 1, 2, 2, 2, 4, 3, 3, 1, 1, 1, 2, 1, 2, 2, 2, 4, 1, 4, 2, 1, 2, 1, 4, 1, 2, 2, 3, 1, 1, 1, 1, 2, 1, 2, 1, 1, 1, 2, 2, 1, 3, 4, 1, 1, 1, 2, 2, 1, 2, 2, 2, 2, 1, 6, 1, 1, 1, 3, 1, 1, 2, 2, 1, 1, 1, 3, 5, 4, 4, 1, 2, 1, 4, 3, 2, 6, 5, 1, 1, 2, 1, 2, 1, 4, 1, 3, 2, 2, 2, 1, 1, 2, 2, 1, 1, 2, 2, 1, 1, 2, 2, 1, 3, 3, 8, 2, 1, 1, 3, 3, 6, 3, 2, 2, 11, 1, 2, 2, 3, 2, 4, 2, 6, 4, 3, 3, 2, 5, 1, 3, 1, 1, 2, 2, 2, 3, 2, 2, 1, 1, 2, 1, 9, 1, 1, 2, 1, 1, 2, 3, 3, 2, 2, 2, 3, 3, 1, 3, 2, 1, 1, 2, 2, 2, 1, 10, 15, 2, 3, 3, 3, 2, 2, 2, 4, 12, 12, 5, 2, 2, 1, 2, 1, 1, 1, 1, 3, 2, 5, 5, 4, 14, 4, 3, 2, 3, 7, 2, 3, 1, 1, 2, 2, 7, 4, 1, 15, 1, 2, 1, 2, 2, 1, 6, 1, 1, 1, 2, 1, 2, 1, 2, 2, 3, 1, 1, 2, 1, 2, 15, 5, 3, 4, 5, 2, 2, 11, 4, 3, 2, 3, 1, 2, 3, 10, 1, 1, 1, 6, 1, 3, 3, 3, 3, 4, 4, 8, 1, 1, 1, 1, 1, 2, 2, 2, 2, 1, 5, 6, 2, 6, 2, 7, 3, 2, 11, 4, 1, 1, 2, 1, 3, 3, 2, 6, 4, 1, 1, 3, 2, 3, 3, 1, 2, 2, 1, 1, 1, 2, 1, 4, 3, 4, 1, 3, 2, 1, 4, 1, 3, 3, 1, 7, 2, 1, 7, 1, 1, 1, 2, 1, 3, 1, 2, 3, 2, 3, 10, 5, 2, 4, 2, 3, 2, 2, 3, 3, 2, 6, 2, 9, 2, 2, 3, 1, 1, 3, 4, 2, 2, 3, 1, 3, 2, 2, 5, 1, 1, 1, 1, 1, 3, 2, 4, 1, 1, 1, 1, 3, 1, 1, 1, 5, 2, 1, 3, 2, 4, 2, 1, 1, 1, 1, 1, 1, 3, 1, 5, 5, 1, 4, 5, 6, 2, 3, 1, 4, 1, 1, 2, 7, 1, 5, 4, 1, 1, 1, 3, 1, 3, 1, 3, 2, 2, 2, 2, 2, 2, 2, 2, 3, 3, 2, 3, 4, 2, 4, 3, 7, 3, 2, 4, 3, 4, 1, 1, 3, 5, 3, 4, 5, 5, 5, 1, 4, 1, 1, 1, 1, 6, 1, 2, 1, 1, 11, 2, 9, 2, 2, 2, 5, 2, 1, 2, 2, 2, 1, 1, 2, 2, 7, 3, 1, 2, 5, 5, 4, 3, 2, 1, 1, 1, 2, 1, 3, 1, 2, 1, 3, 7, 4, 4, 2, 2, 2, 1, 2, 3, 1, 1, 4, 10, 1, 8, 2, 2, 3, 11, 3, 5, 6, 1, 1, 1, 2, 2, 1, 5, 7, 4, 8, 11, 1, 1, 1, 1, 1, 2, 9, 3, 2, 2, 1, 2, 6, 4, 6, 4, 2, 4, 2, 1, 24, 2, 1, 1, 2, 1, 8, 2, 2, 2, 9, 6, 2, 2, 2, 2, 5, 1, 1, 1, 4, 8, 13, 1, 8, 8, 3, 3, 17, 4, 4, 9, 4, 7, 8, 3, 3, 2, 3, 4, 3, 7, 4, 2, 3, 4, 2, 2, 2, 2, 2, 1, 13, 3, 6, 29, 2, 2, 2, 2, 2, 2, 2, 5, 4, 4, 2, 4, 2, 3, 8, 4, 2, 4, 3, 8, 4, 3, 3, 6, 17, 5, 2, 4, 6, 13, 4, 2, 4, 4, 5, 5, 4, 1, 1, 1, 1, 2, 3, 2, 2, 1, 1, 1, 1, 3, 1, 3, 1, 2, 2, 3, 2, 2, 2, 2, 3, 2, 4, 4, 2, 3, 2, 2, 2, 2, 4, 2, 2, 4, 6, 2, 4, 2, 4, 1, 4, 7, 3, 2, 4, 2, 2, 3, 9, 2, 2, 1, 3, 1, 1, 3, 5, 2, 4, 4, 4, 2, 2, 2, 4, 2, 1, 3, 1, 3, 7, 4, 3, 4, 6, 2, 4, 7, 4, 2, 4, 1, 5, 3, 5, 3, 1, 2, 2, 2, 2, 3, 2, 4, 4, 2, 2, 8, 6, 4, 5, 3, 4, 1, 3, 1, 3, 4, 10, 2, 2, 2, 9, 2, 5, 6, 2, 4, 6, 7, 4, 4, 4, 6, 8, 1, 1, 2, 6, 2, 4, 4, 2, 2, 2, 14, 4, 2, 4, 3, 3, 4, 3, 4, 6, 4, 4, 8, 5, 4, 8, 7, 8, 7, 6, 2, 14, 8, 6, 3, 3, 1, 2, 2, 5, 4, 6, 5, 6, 2, 6, 2, 2, 4, 4, 6, 4, 2, 10, 1, 3, 4, 2, 2, 2, 2, 2, 2, 6, 11, 1, 3, 7, 4, 6, 6, 6, 5, 7, 3, 10, 5, 11, 6, 2, 13, 6, 4, 6, 6, 8, 12, 9, 3, 3, 17, 4, 6, 4, 1, 2, 2, 1, 1, 1, 1, 1, 1, 1, 1, 1, 1, 1, 1, 1, 1, 1, 1, 1, 1, 1, 1, 1, 1, 1, 1, 1, 1, 1, 1, 1, 1, 1, 1, 1, 1, 1, 1, 1, 1, 1, 1, 1, 1, 1, 1, 1, 1, 1, 1, 1, 1, 1, 1, 1, 1, 1, 1, 1, 1, 1, 1, 1, 1, 1, 1, 1, 1, 1, 2, 1, 2, 2, 2, 2, 1, 2, 1, 1, 2, 1, 1, 1, 1, 3, 1, 1, 2, 2, 2, 2, 1, 1, 4, 1, 1, 1, 1, 1, 3, 2, 1, 1, 2, 1, 1, 1, 1, 1, 1, 2, 4, 2, 3, 2, 2, 3, 1, 1, 1, 1, 1, 1, 1, 1, 1, 1, 1, 1, 1, 2, 5, 4, 1, 4, 1, 1, 2, 1, 3, 2, 1, 1, 1, 1, 2, 2, 2, 1, 2, 3, 1, 1, 2, 3, 2, 3, 4, 2, 2, 3, 1, 1, 1, 1, 9, 1, 1, 1, 1, 2, 1, 1, 1, 1, 1, 1, 5, 1, 3, 1, 1, 4, 3, 1, 2, 1, 1, 2, 2, 1, 1, 1, 3, 9, 3, 2, 4, 4, 4, 2, 3, 6, 2, 2, 2, 2, 5, 1, 1, 1, 1, 1, 1, 2, 2, 3, 2, 1, 1, 1, 1, 1, 1, 2, 2, 1, 1, 1, 2, 1, 5, 2, 2, 2, 1, 1, 1, 1, 1, 1, 1, 1, 1, 1, 1, 1, 1, 1, 1, 1, 3, 1, 1, 2, 3, 2, 2, 2, 2, 1, 1, 1, 1, 1, 1, 1, 2, 1, 1, 1, 1, 2, 4, 2, 3, 1, 2, 2, 1, 1, 2, 2, 3, 1, 2, 1, 4, 1, 4, 1, 1, 1, 2, 2, 2, 2, 3, 4, 2, 2, 3, 1, 1, 1, 1, 2, 1, 1, 2, 3, 3, 4, 2, 2, 10, 8, 4, 2, 1, 1, 1, 2, 1, 2, 1, 2, 2, 8, 6, 3, 3, 2, 1, 1, 1, 1, 1, 21, 3, 4, 1, 1, 1, 1, 1, 1, 2, 6, 1, 2, 2, 3, 4, 1, 4, 1, 2, 1, 1, 1, 1, 3, 2, 3, 5, 1, 2, 5, 1, 2, 2, 3, 2, 1, 2, 2, 1, 1, 1, 2, 1, 1, 1, 1, 1, 4, 4, 1, 1, 10, 1, 1, 2, 3, 3, 2, 4, 5, 3, 1, 1, 1, 1, 2, 1, 1, 1, 5, 1, 1, 2, 2, 2, 1, 1, 1, 1, 4, 4, 1, 1, 5, 3, 2, 2, 1, 1, 1, 3, 1, 1, 1, 1, 2, 13, 2, 6, 3, 2, 2, 1, 1, 2, 5, 1, 1, 1, 1, 2, 4, 1, 2, 2, 1, 1, 1, 1, 1, 1, 1, 2, 4, 1, 1, 3, 1, 4, 2, 1, 1, 2, 1, 2, 4, 2, 1, 1, 1, 2, 2, 2, 2, 1, 1, 1, 1, 3, 1, 1, 1, 2, 3, 3, 1, 2, 8, 2, 2, 1, 2, 1, 1, 1, 3, 2, 2, 2, 2, 2, 3, 2, 3, 1, 1, 2, 2, 2, 3, 3, 1, 2, 1, 1, 1, 1, 1, 2, 6, 2, 1, 1, 1, 2, 3, 4, 1, 4, 1, 2, 1, 1, 1, 1, 3, 1, 1, 1, 1, 1, 1, 5, 2, 2, 4, 3, 3, 2, 2, 4, 2, 1, 4, 2, 1, 1, 1, 3, 2, 5, 2, 3, 1, 2, 2, 2, 1, 1, 2, 2, 3, 1, 3, 1, 1, 1, 2, 1, 1, 1, 2, 1, 1, 1, 1, 1, 3, 2, 2, 2, 1, 2, 2, 1, 3, 2, 1, 1, 3, 1, 2, 5, 2, 3, 4, 2, 1, 2, 2, 1, 1, 1, 1, 1, 4, 1, 3, 2, 1, 1, 1, 5, 2, 2, 2, 1, 1, 2, 1, 1, 1, 1, 1, 3, 1, 1, 3, 2, 1, 1, 1, 3, 1, 1, 1, 5, 1, 2, 2, 3, 2, 2, 1, 2, 3, 3, 5, 1, 1, 4, 1, 4, 1, 2, 1, 1, 1, 1, 2, 1, 1, 1, 1, 1, 1, 1, 1, 1, 1, 1, 2, 2, 3, 1, 1, 2, 5, 3, 4, 3, 2, 1, 4, 17, 3, 1, 1, 1, 1, 4, 2, 2, 2, 3, 5, 1, 2, 2, 1, 1, 1, 1, 1, 1, 1, 1, 1, 4, 2, 2, 3, 1, 2, 3, 5, 5, 1, 3, 1, 1, 4, 4, 4, 1, 1, 4, 2, 1, 1, 5, 3, 1, 1, 1, 1, 8, 3, 2, 2, 1, 1, 1, 1, 1, 1, 1, 1, 1, 1, 1, 1, 1, 1, 1, 1, 1, 1, 1, 1, 1, 1, 1, 1, 1, 1, 1, 1, 1, 1, 1, 1, 1, 1, 1, 1, 2, 2, 2, 1, 1, 1, 1, 1, 1, 1, 1, 1, 1, 1, 1, 2, 3, 2, 1, 1, 3, 1, 1, 2, 1, 1, 1, 1, 1, 1, 1, 1, 2, 1, 1, 1, 3, 1, 1, 1, 1, 2, 1, 1, 1, 2, 1, 2, 1, 2, 2, 1, 2, 2, 1, 1, 1, 1, 1, 3, 1, 1, 2, 3, 2, 3, 2, 1, 1, 2, 1, 2, 1, 1, 2, 2, 1, 1, 1, 1, 1, 1, 3, 1, 3, 4, 1, 11, 2, 3, 1, 4, 3, 3, 5, 3, 4, 3, 2, 3, 3, 6, 4, 3, 3, 4, 7, 2, 3, 5, 6, 8, 4, 5, 4, 6, 3, 1, 1, 1, 1, 1, 2, 1, 2, 1, 1, 3, 2, 3, 1, 1, 1, 1, 1, 1, 1, 1, 1, 2, 2, 2, 1, 1, 2, 3, 1, 3, 2, 4, 2, 2, 1, 1, 2, 1, 2, 1, 1, 1, 4, 1, 1, 1, 2, 2, 1, 2, 2, 2, 2, 3, 3, 3, 3, 2, 3, 2, 1, 1, 2, 3, 2, 1, 3, 1, 1, 2, 1, 2, 2, 2, 3, 1, 1, 1, 1, 2, 1, 1, 2, 3, 1, 2, 2, 7, 3, 2, 1, 1, 1, 1, 4, 1, 1, 3, 1, 1, 1, 1, 2, 1, 1, 1, 1, 1, 1, 2, 7, 2, 3, 1, 3, 6, 2, 3, 5, 2, 3, 3, 3, 2, 1, 1, 1, 1, 1, 1, 1, 1, 1, 1, 1, 3, 1, 1, 3, 1, 2, 1, 2, 1, 1, 1, 2, 1, 3, 2, 1, 1, 3, 5, 2, 2, 2, 2, 3, 3, 2, 2, 2, 1, 1, 1, 1, 5, 1, 2, 5, 1, 1, 1, 1, 1, 1, 3, 1, 1, 1, 1, 1, 2, 1, 1, 1, 4, 2, 2, 1, 3, 2, 2, 3, 2, 3, 2, 4, 4, 4, 3, 2, 3, 4, 2, 1, 1, 1, 2, 1, 1, 1, 1, 5, 1, 1, 1, 1, 1, 1, 2, 5, 5, 2, 2, 4, 5, 1, 1, 3, 2, 1, 1, 3, 1, 1, 1, 1, 5, 1, 3, 3, 2, 3, 5, 4, 5, 4, 4, 4, 3, 4, 4, 4, 7, 4, 2, 2, 3, 2, 1, 1, 1, 4, 1, 1, 1, 1, 1, 2, 1, 1, 1, 1, 1, 1, 1, 1, 1, 1, 1, 1, 1, 2, 5, 2, 2, 2, 2, 6, 2, 2, 3, 3, 5, 3, 2, 1, 1, 1, 1, 1, 1, 1, 1, 1, 2, 1, 2, 1, 1, 2, 2, 2, 2, 2, 1, 1, 1, 1, 1, 2, 1, 1, 2, 7, 1, 1, 4, 1, 1, 2, 2, 2, 1, 1, 2, 2, 2, 1, 1, 1, 1, 1, 1, 1, 2, 1, 1, 1, 2, 3, 2, 1, 1, 3, 2, 1, 1, 1, 3, 2, 3, 1, 2, 1, 1, 3, 2, 9, 3, 1, 1, 1, 1, 1, 1, 2, 1, 1, 1, 1, 1, 1, 2, 2, 2, 1, 1, 1, 1, 1, 2, 1, 1, 1, 2, 1, 1, 2, 1, 1, 1, 1, 1, 1, 1, 1, 1, 1, 1, 2, 1, 2, 1, 1, 1, 2, 1, 1, 1, 2, 2, 2, 1, 3, 2, 1, 3, 2, 4, 2, 4, 1, 2, 1, 1, 1, 4, 1, 1, 1, 2, 1, 2, 2, 3, 1, 1, 2, 1, 1, 1, 2, 2, 1, 3, 2, 2, 1, 1, 1, 1, 1, 1, 1, 2, 1, 1, 1, 1, 2, 2, 1, 2, 1, 4, 2, 1, 2, 3, 3, 1, 1, 1, 1, 1, 1, 1, 1, 1, 1, 1, 2, 1, 1, 2, 3, 2, 3, 1, 2, 2, 2, 2, 7, 2, 3, 3, 6, 3, 4, 2, 4, 2, 7, 6, 7, 2, 2, 1, 6, 1, 1, 1, 2, 1, 2, 1, 1, 1, 1, 1, 2, 1, 1, 2, 2, 2, 3, 4, 3, 2, 2, 6, 5, 3, 1, 1, 1, 1, 1, 1, 1, 1, 1, 2, 3, 2, 2, 2, 1, 1, 1, 1, 1, 1, 1, 1, 1, 2, 2, 2, 1, 1, 2, 2, 1, 1, 1, 1, 6, 2, 2, 1, 2, 3, 2, 4, 1, 1, 1, 1, 2, 2, 1, 1, 1, 2, 1, 1, 1, 1, 1, 2, 2, 1, 1, 1, 2, 1, 3, 2, 2, 4, 2, 2, 2, 5, 2, 5, 1, 1, 1, 1, 1, 1, 1, 1, 1, 2, 4, 2, 2, 1, 1, 1, 1, 1, 1, 2, 2, 1, 2, 1, 2, 1, 1, 2, 1, 2, 1, 2, 1, 1, 1, 1, 2, 1, 2, 1, 1, 1, 1, 1, 1, 1, 2, 1, 1, 3, 1, 1, 1, 1, 1, 3, 1, 2, 2, 1, 1, 1, 1, 1, 2, 2, 1, 1, 1, 1, 2, 1, 2, 1, 1, 1, 2, 2, 1, 2, 1, 2, 4, 1, 1, 3, 1, 2, 3, 2, 1, 2, 2, 5, 3, 1, 2, 2, 1, 1, 2, 2, 2, 3, 1, 2, 2, 1, 3, 3, 2, 2, 1, 2, 1, 3, 1, 1, 1, 4, 2, 1, 3, 3, 2, 3, 3, 1, 1, 1, 1, 1, 2, 1, 1, 1, 1, 1, 1, 1, 1, 1, 1, 1, 1, 2, 1, 2, 1, 1, 3, 1, 1, 1, 1, 1, 1, 1, 1, 1, 4, 3, 1, 1, 1, 2, 1, 1, 2, 3, 1, 1, 2, 2, 2, 1, 1, 1, 2, 6, 2, 3, 1, 1, 1, 1, 1, 1, 4, 2, 3, 1, 3, 2, 1, 2, 3, 1, 1, 1, 1, 2, 8, 3, 2, 3, 1, 1, 1, 2, 1, 1, 1, 1, 2, 2, 2, 3, 1, 1, 1, 1, 3, 2, 1, 1, 1, 3, 1, 4, 3, 1, 1, 1, 1, 1, 1, 1, 1, 1, 1, 1, 2, 1, 1, 1, 1, 2, 2, 3, 5, 1, 1, 1, 1, 1, 1, 1, 1, 2, 2, 3, 3, 3, 1, 1, 1, 1, 2, 2, 2, 4, 2, 4, 2, 5, 1, 1, 1, 2, 2, 2, 1, 2, 1, 1, 1, 3, 1, 1, 1, 1, 5, 2, 2, 1, 1, 1, 1, 1, 1, 1, 1, 1, 2, 3, 1, 1, 2, 1, 1, 1, 1, 1, 2, 2, 1, 1, 1, 3, 1, 1, 1, 1, 2, 1, 2, 3, 1, 3, 1, 1, 1, 2, 2, 2, 1, 1, 2, 2, 3, 1, 2, 5, 1, 3, 2, 3, 1, 1, 1, 1, 2, 1, 1, 2, 1, 1, 1, 2, 2, 1, 1, 2, 2, 1, 2, 1, 1, 1, 1, 2, 1, 2, 3, 1, 1, 2, 2, 1, 1, 1, 1, 2, 2, 2, 5, 1, 3, 3, 1, 1, 1, 1, 4, 3, 2, 1, 2, 3, 1, 1, 1, 1, 4, 1, 2, 1, 2, 2, 1, 1, 1, 1, 1, 1, 1, 1, 2, 1, 1, 3, 2, 2, 1, 1, 1, 1, 3, 1, 2, 1, 1, 1, 1, 2, 3, 2, 1, 3, 2, 2, 1, 2, 1, 2, 1, 1, 2, 1, 1, 1, 1, 2, 1, 3, 2, 2, 1, 1, 2, 3, 1, 1, 1, 1, 1, 1, 4, 1, 2, 1, 1, 5, 2, 2, 1, 1, 1, 1, 1, 1, 2, 1, 2, 1, 2, 2, 3, 1, 2, 1, 3, 1, 1, 2, 3, 2, 1, 1, 1, 3, 3, 1, 1, 1, 1, 1, 1, 1, 1, 1, 7, 2, 2, 2, 4, 1, 1, 2, 1, 1, 1, 1, 1, 2, 1, 1, 2, 2, 1, 1, 1, 1, 1, 5, 1, 1, 1, 2, 5, 2, 1, 1, 2, 2, 1, 4, 1, 1, 1, 2, 1, 1, 1, 1, 1, 2, 5, 1, 1, 1, 1, 2, 1, 1, 1, 1, 1, 1, 2, 2, 2, 3, 5, 3, 2, 10, 5, 2, 3, 2, 3, 7, 1, 1, 2, 2, 1, 1, 2, 3, 5, 1, 2, 1, 1, 1, 1, 4, 3, 1, 3, 1, 2, 3, 1, 1, 2, 2, 2, 2, 3, 4, 1, 7, 3, 1, 1, 2, 2, 2, 2, 1, 3, 3, 1, 2, 3, 1, 2, 1, 3, 2, 1, 1, 1, 1, 3, 3, 2, 2, 1, 1, 1, 1, 2, 1, 1, 2, 2, 2, 2, 2, 2, 1, 1, 3, 3, 2, 3, 7, 1, 1, 1, 1, 1, 2, 2, 2, 3, 2, 2, 3, 2, 1, 1, 1, 1, 1, 1, 1, 1, 1, 4, 1, 1, 1, 1, 1, 1, 4, 1, 3, 1, 1, 3, 1, 4, 4, 2, 2, 1, 1, 1, 1, 2, 1, 1, 2, 3, 1, 1, 11, 1, 5, 2, 1, 1, 1, 2, 2, 1, 1, 2, 1, 1, 1, 1, 3, 2, 1, 2, 1, 3, 2, 3, 1, 6, 2, 1, 1, 1, 1, 1, 1, 1, 2, 2, 2, 2, 2, 3, 1, 1, 6, 2, 1, 1, 1, 1, 1, 2, 4, 2, 2, 2, 2, 2, 1, 1, 2, 3, 2, 2, 2, 2, 1, 1, 1, 1, 8, 3, 1, 1, 2, 1, 2, 1, 1, 1, 2, 1, 1, 1, 2, 2, 1, 1, 2, 2, 3, 1, 5, 1, 2, 4, 3, 4, 2, 6, 1, 1, 1, 3, 1, 4, 1, 1, 1, 3, 4, 3, 1, 1, 1, 2, 1, 1, 1, 1, 2, 4, 1, 3, 1, 1, 1, 1, 1, 1, 1, 1, 1, 2, 1, 1, 2, 1, 1, 2, 1, 1, 1, 2, 2, 3, 1, 1, 1, 1, 2, 3, 1, 3, 1, 1, 3, 1, 1, 1, 1, 1, 2, 4, 2, 3, 1, 1, 2, 1, 2, 2, 1, 1, 2, 3, 1, 1, 1, 4, 1, 1, 1, 1, 2, 2, 1, 4, 1, 1, 2, 2, 1, 1, 1, 1, 1, 3, 1, 2, 2, 2, 1, 3, 2, 1, 2, 1, 1, 1, 3, 3, 1, 1, 2, 7, 1, 1, 1, 1, 3, 1, 1, 1, 1, 2, 2, 4, 2, 3, 2, 1, 1, 1, 1, 1, 2, 1, 1, 1, 1, 3, 1, 1, 2, 3, 2, 1, 1, 2, 1, 1, 1, 1, 1, 1, 2, 3, 2, 1, 4, 1, 1, 3, 4, 1, 1, 1, 7, 1, 1, 1, 2, 3, 2, 1, 4, 1, 3, 1, 1, 1, 1, 1, 1, 2, 5, 1, 1, 8, 1, 1, 2, 1, 1, 1, 2, 2, 4, 3, 2, 1, 5, 6, 1, 1, 1, 3, 1, 3, 1, 2, 2, 1, 6, 4, 1, 1, 1, 1, 9, 2, 2, 2, 1, 1, 2, 1, 1, 1, 2, 1, 2, 1, 3, 2, 1, 2, 1, 1, 2, 2, 1, 1, 2, 3, 3, 1, 1, 1, 1, 3, 1, 1, 1, 1, 1, 1, 1, 1, 2, 1, 2, 1, 1, 1, 1, 1, 4, 4, 1, 1, 2, 3, 2, 3, 2, 4, 6, 1, 2, 3, 1, 1, 3, 1, 1, 1, 1, 1, 2, 1, 1, 1, 1, 1, 1, 3, 3, 2, 3, 8, 1, 4, 2, 1, 5, 4, 1, 1, 2, 1, 1, 1, 3, 2, 2, 1, 1, 2, 2, 3, 3, 4, 1, 1, 1, 2, 1, 2, 4, 1, 1, 1, 4, 1, 1, 3, 3, 1, 2, 2, 2, 1, 3, 1, 1, 2, 2, 3, 3, 1, 5, 1, 1, 1, 1, 2, 3, 5, 1, 1, 1, 2, 1, 2, 1, 1, 1, 1, 1, 1, 2, 2, 2, 1, 5, 1, 1, 1, 1, 1, 4, 1, 2, 1, 1, 2, 2, 2, 2, 1, 5, 1, 3, 6, 3, 1, 1, 1, 2, 2, 1, 2, 1, 1, 1, 2, 1, 3, 4, 1, 1, 6, 1, 1, 2, 2, 3, 4, 3, 1, 1, 1, 1, 2, 6, 1, 1, 1, 1, 1, 2, 1, 2, 1, 2, 2, 5, 2, 1, 3, 3, 2, 1, 2, 2, 1, 1, 3, 1, 1, 3, 1, 2, 2, 2, 1, 1, 1, 2, 1, 1, 2, 2, 3, 3, 1, 4, 7, 1, 1, 1, 3, 3, 1, 1, 1, 1, 2, 1, 1, 1, 1, 1, 3, 2, 1, 1, 2, 2, 1, 1, 1, 2, 2, 3, 5, 1, 1, 1, 2, 2, 2, 2, 1, 1, 1, 1, 3, 2, 3, 1, 2, 2, 11, 7, 4, 2, 2, 2, 2, 1, 1, 2, 1, 1, 2, 4, 1, 2, 2, 3, 3, 2, 4, 4, 1, 1, 2, 1, 2, 2, 4, 2, 1, 1, 2, 2, 2, 5, 2, 2, 1, 3, 5, 3, 2, 3, 3, 4, 1, 1, 2, 1, 1, 1, 1, 3, 2, 5, 1, 2, 3, 3, 1, 2, 2, 1, 1, 1, 2, 1, 4, 2, 2, 4, 2, 1, 1, 1, 2, 1, 1, 1, 1, 1, 2, 1, 1, 1, 1, 1, 3, 3, 2, 1, 2, 1, 2, 1, 1, 1, 2, 2, 3, 2, 1, 1, 1, 2, 2, 1, 3, 4, 1, 1, 1, 1, 1, 1, 1, 1, 1, 1, 2, 1, 1, 1, 1, 1, 2, 1, 1, 2, 1, 2, 2, 1, 1, 1, 1, 3, 1, 1, 3, 2, 3, 1, 1, 1, 4, 1, 6, 3, 3, 3, 3, 3, 3, 11, 1, 5, 2, 3, 1, 2, 1, 1, 1, 1, 1, 1, 1, 2, 1, 2, 2, 1, 3, 1, 2, 1, 1, 1, 2, 3, 1, 2, 1, 3, 1, 1, 1, 1, 1, 1, 3, 3, 1, 1, 2, 1, 1, 2, 3, 3, 2, 1, 1, 1, 1, 4, 1, 1, 1, 1, 3, 2, 1, 5, 2, 1, 2, 3, 9, 3, 2, 1, 1, 1, 1, 1, 3, 1, 1, 1, 2, 3, 3, 2, 1, 2, 3, 1, 3, 1, 1, 5, 2, 2, 4, 3, 1, 1, 2, 1, 1, 1, 2, 1, 1, 1, 2, 1, 1, 2, 1, 1, 2, 1, 2, 1, 2, 2, 1, 1, 6, 2, 1, 2, 1, 3, 1, 1, 1, 1, 1, 1, 1, 2, 1, 2, 1, 1, 2, 2, 2, 1, 1, 1, 3, 1, 4, 1, 3, 1, 1, 1, 1, 1, 1, 1, 2, 3, 1, 1, 1, 1, 1, 3, 1, 1, 7, 4, 1, 3, 1, 1, 1, 1, 1, 2, 2, 2, 3, 4, 1, 2, 1, 1, 1, 1, 1, 5, 2, 1, 1, 4, 3, 1, 1, 1, 1, 1, 2, 2, 1, 3, 1, 2, 1, 1, 1, 3, 1, 1, 1, 1, 1, 1, 1, 1, 1, 1, 1, 4, 1, 1, 1, 1, 2, 3, 5, 5, 6, 4, 1, 1, 3, 3, 17, 1, 3, 1, 1, 1, 1, 4, 5, 1, 1, 3, 6, 1, 1, 3, 1, 1, 1, 1, 3, 1, 1, 1, 1, 1, 5, 1, 2, 2, 1, 2, 5, 3, 2, 3, 2, 1, 1, 1, 1, 1, 1, 1, 6, 3, 1, 2, 3, 4, 1, 1, 1, 5, 4, 1, 1, 1, 1, 2, 2, 4, 1, 1, 2, 17, 3, 1, 2, 3, 1, 2, 1, 1, 1, 2, 3, 2, 1, 1, 1, 2, 1, 3, 1, 3, 3, 1, 1, 1, 1, 3, 5, 2, 1, 3, 1, 4, 2, 2, 3, 2, 2, 4, 1, 4, 2, 3, 1, 1, 1, 1, 2, 2, 1, 4, 2, 1, 8, 1, 1, 2, 1, 6, 1, 1, 5, 1, 3, 2, 6, 2, 2, 1, 1, 2, 1, 1, 2, 2, 1, 2, 1, 1, 1, 1, 2, 1, 2, 4, 1, 3, 2, 4, 2, 1, 2, 1, 4, 1, 1, 5, 2, 1, 1, 1, 1, 4, 1, 1, 2, 1, 4, 1, 2, 2, 2, 2, 1, 1, 1, 2, 14, 2, 2, 1, 2, 1, 1, 5, 1, 5, 2, 1, 2, 1, 5, 2, 3, 3, 6, 1, 1, 1, 1, 1, 3, 2, 1, 1, 1, 1, 13, 1, 1, 4, 1, 2, 1, 4, 8, 3, 1, 1, 2, 2, 3, 10, 1, 8, 6, 1, 2, 2, 2, 3, 15, 3, 3, 1, 2, 1, 2, 2, 1, 1, 1, 3, 1, 3, 1, 1, 1, 1, 1, 1, 2, 1, 3, 2, 1, 1, 2, 1, 2, 3, 1, 2, 3, 5, 1, 1, 2, 1, 4, 1, 1, 2, 3, 1, 1, 2, 1, 1, 2, 1, 2, 2, 3, 2, 1, 2, 1, 2, 2, 2, 5, 2, 3, 4, 1, 1, 4, 1, 1, 2, 1, 3, 2, 1, 1, 2, 2, 2, 2, 2, 3, 3, 1, 2, 2, 1, 5, 3, 1, 2, 1, 2, 2, 1, 2, 2, 1, 1, 4, 2, 7, 3, 6, 3, 1, 2, 7, 1, 11, 2, 2, 2, 2, 3, 1, 1, 2, 2, 3, 1, 1, 1, 1, 2, 2, 1, 1, 4, 2, 2, 1, 2, 2, 3, 1, 2, 1, 4, 12, 1, 1, 6, 4, 3, 1, 1, 1, 1, 2, 4, 1, 1, 2, 2, 2, 4, 1, 1, 4, 2, 3, 1, 1, 2, 2, 1, 1, 1, 2, 1, 2, 1, 1, 1, 1, 1, 2, 2, 1, 9, 1, 8, 1, 3, 2, 6, 2, 4, 1, 1, 1, 6, 1, 1, 1, 1, 1, 1, 1, 1, 2, 1, 1, 2, 3, 3, 1, 3, 2, 1, 1, 2, 2, 7, 4, 2, 1, 2, 1, 1, 2, 1, 1, 6, 1, 20, 1, 4, 3, 1, 1, 1, 2, 1, 1, 2, 2, 16, 3, 4, 6, 2, 2, 2, 1, 2, 2, 1, 1, 1, 3, 1, 1, 1, 4, 2, 2, 3, 3, 1, 2, 1, 2, 3, 1, 2, 4, 1, 3, 3, 1, 1, 1, 1, 2, 3, 1, 1, 1, 2, 4, 1, 1, 1, 1, 3, 2, 2, 3, 6, 2, 2, 3, 1, 1, 1, 3, 2, 6, 2, 1, 2, 4, 3, 2, 1, 1, 1, 1, 1, 2, 1, 3, 1, 4, 1, 2, 2, 1, 6, 1, 1, 4, 1, 1, 2, 1, 1, 1, 1, 3, 2, 1, 1, 3, 2, 2, 1, 2, 2, 2, 1, 1, 1, 2, 8, 3, 1, 2, 1, 1, 2, 1, 5, 1, 1, 2, 2, 1, 1, 4, 3, 3, 3, 1, 2, 1, 2, 2, 2, 3, 1, 1, 6, 1, 1, 9, 1, 1, 9, 1, 1, 1, 1, 1, 1, 9, 1, 2, 1, 2, 1, 1, 5, 1, 1, 1, 2, 1, 6, 2, 1, 16, 3, 1, 2, 2, 1, 2, 1, 4, 1, 6, 11, 1, 1, 1, 10, 2, 3, 1, 1, 1, 2, 1, 2, 1, 1, 2, 2, 1, 1, 4, 3, 1, 4, 2, 2, 1, 1, 1, 2, 1, 1, 1, 1, 2, 6, 2, 1, 1, 4, 1, 1, 1, 1, 2, 1, 1, 1, 1, 3, 3, 10, 2, 4, 3, 1, 2, 3, 1, 1, 2, 1, 2, 2, 1, 10, 1, 1, 1, 4, 1, 1, 1, 3, 1, 1, 7, 2, 2, 1, 2, 2, 1, 1, 1, 1, 1, 4, 3, 1, 3, 3, 1, 1, 2, 1, 2, 1, 2, 1, 2, 3, 1, 2, 9, 3, 3, 1, 2, 5, 1, 1, 2, 1, 2, 1, 3, 1, 3, 1, 1, 4, 1, 1, 1, 1, 3, 2, 1, 1, 1, 3, 1, 1, 1, 1, 2, 2, 32, 2, 2, 6, 2, 1, 4, 2, 1, 7, 2, 3, 5, 2, 1, 2, 1, 2, 1, 5, 2, 2, 1, 3, 2, 1, 1, 1, 1, 2, 1, 1, 2, 2, 2, 2, 4, 5, 2, 1, 3, 1, 1, 2, 1, 3, 2, 11, 3, 3, 1, 1, 2, 1, 1, 2, 1, 4, 2, 1, 1, 7, 2, 1, 1, 2, 2, 1, 3, 1, 3, 1, 1, 2, 3, 1, 2, 2, 1, 1, 1, 1, 2, 3, 3, 4, 1, 2, 1, 3, 1, 2, 3, 4, 3, 2, 1, 1, 3, 2, 2, 4, 9, 1, 1, 2, 2, 2, 1, 2, 5, 1, 2, 1, 2, 3, 1, 2, 1, 2, 1, 1, 4, 1, 1, 1, 1, 1, 2, 1, 2, 1, 2, 3, 1, 1, 2, 2, 2, 1, 1, 1, 2, 1, 1, 3, 1, 1, 1, 2, 1, 2, 2, 3, 7, 2, 1, 3, 1, 3, 1, 3, 1, 2, 2, 2, 1, 1, 2, 2, 1, 1, 11, 3, 4, 1, 2, 1, 2, 3, 2, 2, 1, 7, 3, 2, 1, 1, 2, 2, 2, 4, 1, 4, 2, 1, 1, 9, 2, 2, 4, 1, 2, 7, 1, 2, 1, 4, 4, 1, 2, 4, 1, 2, 1, 2, 1, 1, 1, 1, 1, 3, 2, 1, 1, 3, 1, 1, 1, 1, 2, 1, 1, 2, 2, 3, 4, 1, 2, 3, 2, 1, 4, 2, 2, 1, 1, 1, 1, 3, 2, 5, 1, 1, 1, 1, 1, 6, 2, 2, 3, 1, 1, 1, 2, 1, 4, 1, 1, 1, 2, 1, 1, 2, 5, 1, 1, 2, 4, 2, 2, 2, 1, 2, 3, 1, 2, 1, 1, 2, 1, 1, 1, 2, 1, 2, 2, 5, 2, 1, 1, 2, 5, 2, 2, 3, 2, 1, 4, 1, 2, 4, 2, 2, 1, 1, 1, 2, 2, 1, 6, 3, 1, 2, 1, 1, 1, 1, 1, 2, 1, 2, 1, 3, 1, 1, 2, 3, 2, 1, 2, 7, 1, 1, 2, 1, 5, 3, 1, 1, 4, 5, 3, 3, 3, 3, 1, 1, 2, 1, 1, 1, 1, 3, 1, 1, 1, 4, 2, 2, 1, 1, 1, 1, 2, 2, 1, 1, 1, 2, 1, 1, 3, 1, 5, 2, 1, 1, 2, 1, 1, 4, 7, 2, 5, 2, 1, 1, 4, 19, 3, 11, 2, 4, 3, 2, 1, 2, 4, 1, 1, 2, 4, 3, 3, 4, 2, 2, 1, 3, 4, 2, 3, 3, 1, 1, 6, 3, 2, 2, 7, 1, 6, 1, 6, 8, 2, 1, 2, 4, 2, 2, 1, 1, 8, 2, 3, 1, 1, 7, 1, 3, 7, 2, 1, 3, 1, 1, 1, 1, 2, 1, 1, 2, 1, 2, 1, 1, 3, 1, 2, 1, 2, 2, 1, 1, 1, 2, 13, 1, 2, 2, 3, 2, 1, 2, 1, 3, 1, 6, 1, 1, 1, 9, 1, 2, 2, 5, 1, 2, 4, 2, 1, 1, 1, 1, 2, 1, 2, 3, 3, 1, 4, 4, 2, 4, 2, 2, 1, 3, 1, 5, 3, 7, 1, 1, 2, 4, 1, 3, 7, 2, 1, 2, 1, 8, 2, 3, 1, 1, 2, 4, 4, 1, 2, 1, 1, 1, 2, 6, 1, 1, 3, 1, 1, 10, 1, 2, 1, 1, 2, 3, 1, 2, 1, 2, 10, 1, 5, 10, 1, 1, 1, 3, 2, 1, 1, 1, 2, 1, 6, 6, 5, 2, 1, 1, 7, 2, 2, 3, 1, 3, 1, 2, 6, 2, 2, 1, 1, 2, 2, 2, 2, 2, 2, 2, 3, 3, 1, 1, 1, 2, 1, 1, 1, 1, 1, 5, 2, 1, 1, 1, 2, 4, 6, 1, 2, 2, 2, 2, 5, 3, 1, 2, 1, 1, 1, 1, 2, 1, 3, 1, 2, 5, 4, 4, 4, 2, 7, 1, 3, 1, 2, 1, 3, 1, 1, 2, 2, 2, 1, 3, 1, 1, 4, 2, 1, 5, 5, 2, 2, 2, 2, 6, 3, 5, 2, 1, 2, 2, 1, 4, 1, 1, 1, 2, 1, 2, 2, 1, 2, 2, 3, 1, 1, 3, 1, 1, 3, 1, 1, 1, 5, 4, 2, 4, 1, 7, 2, 2, 2, 2, 1, 2, 2, 2, 4, 1, 2, 5, 1, 1, 4, 5, 9, 3, 4, 2, 1, 13, 2, 4, 2, 1, 8, 5, 1, 2, 2, 1, 1, 1, 4, 25, 1, 2, 1, 2, 2, 1, 3, 1, 1, 6, 1, 2, 2, 3, 17, 3, 1, 2, 2, 8, 1, 8, 3, 3, 4, 1, 1, 2, 3, 1, 3, 7, 2, 1, 4, 2, 3, 1, 1, 10, 1, 1, 2, 4, 2, 9, 2, 1, 1, 5, 1, 7, 1, 3, 1, 1, 2, 2, 7, 1, 2, 1, 4, 4, 4, 5, 2, 2, 1, 3, 6, 1, 2, 2, 3, 1, 2, 1, 2, 1, 4, 1, 5, 2, 2, 1, 1, 1, 2, 1, 2, 3, 4, 2, 2, 2, 1, 1, 2, 1, 1, 3, 7, 1, 1, 1, 3, 2, 1, 1, 6, 10, 4, 11, 2, 1, 1, 1, 1, 2, 3, 1, 1, 1, 1, 2, 1, 2, 1, 3, 1, 1, 4, 2, 1, 4, 1, 15, 2, 1, 2, 1, 4, 7, 2, 2, 1, 1, 2, 16, 1, 1, 1, 1, 1, 1, 1, 1, 1, 3, 3, 1, 1, 4, 1, 7, 1, 1, 2, 2, 2, 4, 3, 1, 3, 1, 1, 3, 10, 2, 5, 4, 1, 1, 2, 1, 1, 3, 1, 8, 2, 2, 4, 1, 4, 5, 1, 1, 2, 2, 2, 4, 1, 1, 1, 5, 2, 8, 3, 6, 2, 1, 3, 1, 1, 3, 2, 1, 2, 3, 1, 2, 2, 1, 1, 2, 1, 3, 4, 3, 1, 1, 3, 3, 2, 1, 1, 3, 3, 2, 2, 1, 3, 1, 4, 2, 3, 1, 6, 1, 2, 6, 2, 1, 1, 3, 1, 2, 2, 1, 1, 1, 1, 5, 2, 4, 1, 1, 3, 1, 2, 5, 1, 4, 6, 3, 4, 3, 3, 2, 2, 1, 1, 1, 2, 1, 1, 5, 4, 1, 4, 8, 2, 1, 4, 2, 3, 4, 3, 4, 1, 3, 3, 3, 10, 3, 1, 2, 2, 1, 3, 1, 1, 1, 1, 1, 1, 1, 2, 1, 2, 3, 10, 7, 1, 4, 2, 4, 6, 3, 1, 3, 2, 1, 3, 2, 1, 2, 2, 5, 2, 2, 2, 1, 2, 2, 4, 2, 1, 4, 3, 3, 1, 1, 3, 1, 2, 2, 1, 4, 1, 2, 3, 1, 2, 1, 1, 4, 1, 1, 1, 2, 1, 5, 2, 4, 2, 1, 4, 2, 7, 1, 1, 8, 1, 3, 1, 2, 5, 2, 1, 1, 1, 5, 1, 2, 24, 2, 2, 1, 2, 1, 1, 3, 2, 1, 2, 3, 5, 1, 5, 2, 14, 5, 1, 2, 2, 3, 1, 2, 4, 2, 4, 1, 3, 2, 2, 5, 3, 1, 1, 3, 2, 1, 2, 1, 2, 2, 2, 1, 1, 2, 1, 4, 2, 2, 1, 3, 1, 2, 2, 2, 2, 1, 10, 1, 1, 2, 2, 1, 2, 1, 2, 1, 13, 3, 2, 2, 2, 1, 3, 6, 2, 5, 1, 4, 2, 2, 4, 4, 2, 1, 1, 3, 1, 1, 1, 1, 1, 1, 1, 2, 2, 1, 3, 4, 1, 1, 1, 2, 1, 2, 1, 2, 1, 5, 3, 7, 2, 1, 1, 2, 2, 3, 2, 1, 2, 1, 5, 1, 1, 5, 1, 1, 2, 2, 3, 12, 14, 2, 1, 6, 2, 3, 1, 2, 3, 3, 1, 6, 8, 1, 1, 2, 2, 1, 4, 3, 8, 1, 1, 3, 2, 1, 3, 3, 2, 4, 1, 2, 1, 2, 1, 9, 1, 2, 4, 1, 10, 2, 1, 1, 1, 1, 4, 5, 1, 3, 3, 3, 3, 2, 6, 1, 3, 1, 12, 3, 7, 1, 1, 1, 1, 1, 1, 2, 1, 1, 1, 1, 1, 1, 1, 2, 1, 6, 2, 6, 1, 12, 2, 11, 1, 1, 2, 1, 2, 1, 1, 2, 2, 4, 3, 2, 1, 1, 1, 2, 1, 7, 1, 3, 2, 1, 2, 1, 1, 2, 1, 1, 1, 1, 3, 2, 2, 1, 8, 4, 1, 3, 4, 1, 8, 1, 1, 7, 4, 2, 4, 2, 1, 1, 3, 3, 5, 8, 2, 1, 1, 3, 2, 1, 4, 3, 1, 8, 7, 3, 2, 1, 1, 2, 1, 3, 1, 2, 1, 4, 5, 1, 1, 1, 3, 1, 1, 3, 2, 5, 2, 1, 1, 4, 1, 3, 1, 1, 7, 1, 2, 3, 2, 2, 1, 2, 2, 2, 2, 4, 1, 1, 1, 7, 2, 2, 3, 1, 1, 1, 2, 3, 2, 1, 6, 1, 2, 3, 3, 1, 3, 3, 2, 2, 2, 5, 2, 2, 4, 1, 4, 2, 3, 1, 1, 2, 6, 1, 2, 2, 3, 2, 1, 3, 3, 1, 1, 2, 1, 4, 1, 3, 2, 4, 1, 1, 2, 2, 1, 3, 1, 22, 2, 2, 2, 2, 6, 3, 2, 4, 3, 3, 4, 2, 2, 5, 2, 2, 1, 1, 1, 1, 2, 2, 2, 1, 3, 2, 2, 5, 1, 2, 2, 2, 1, 2, 1, 1, 1, 3, 2, 3, 1, 4, 2, 1, 2, 4, 2, 2, 2, 2, 1, 1, 1, 3, 4, 2, 3, 3, 1, 3, 3, 1, 3, 4, 3, 1, 2, 2, 1, 1, 7, 1, 1, 2, 4, 2, 8, 1, 3, 1, 8, 2, 3, 1, 1, 1, 1, 3, 2, 1, 2, 1, 5, 2, 4, 3, 11, 2, 2, 3, 4, 2, 2, 1, 1, 2, 1, 1, 2, 1, 2, 2, 2, 2, 1, 2, 1, 1, 5, 3, 2, 2, 2, 7, 4, 4, 6, 2, 1, 1, 2, 2, 2, 4, 2, 2, 3, 1, 1, 2, 13, 5, 3, 3, 1, 1, 1, 4, 2, 2, 4, 2, 5, 1, 3, 3, 2, 1, 1, 2, 4, 2, 3, 1, 2, 5, 10, 1, 1, 2, 1, 3, 1, 2, 7, 1, 2, 2, 1, 6, 1, 2, 6, 2, 2, 12, 2, 2, 2, 2, 1, 1, 1, 5, 2, 1, 4, 9, 3, 1, 1, 1, 1, 1, 5, 1, 1, 3, 24, 2, 1, 2, 2, 2, 3, 1, 2, 2, 1, 3, 1, 1, 1, 3, 1, 1, 8, 1, 5, 6, 3, 5, 3, 2, 3, 1, 8, 1, 1, 1, 3, 2, 2, 3, 1, 1, 1, 2, 3, 1, 5, 3, 6, 4, 1, 1, 3, 7, 1, 1, 5, 1, 1, 2, 2, 1, 2, 1, 1, 4, 2, 1, 1, 1, 2, 1, 2, 1, 4, 1, 1, 2, 1, 1, 2, 1, 7, 7, 1, 2, 5, 4, 1, 5, 1, 1, 1, 2, 1, 3, 2, 1, 4, 5, 3, 2, 1, 1, 1, 2, 4, 2, 3, 1, 2, 1, 5, 1, 13, 4, 3, 9, 6, 3, 1, 1, 1, 2, 1, 8, 4, 14, 3, 1, 3, 2, 5, 1, 7, 2, 2, 6, 2, 1, 1, 1, 3, 2, 1, 5, 1, 1, 1, 4, 2, 2, 11, 2, 4, 2, 2, 1, 19, 1, 2, 3, 1, 15, 12, 2, 1, 1, 1, 1, 1, 1, 3, 1, 2, 2, 3, 3, 1, 1, 19, 1, 2, 2, 3, 2, 2, 2, 4, 1, 5, 8, 1, 5, 9, 3, 2, 1, 1, 1, 4, 1, 1, 13, 1, 3, 2, 2, 3, 2, 1, 1, 2, 2, 4, 1, 2, 3, 6, 2, 2, 7, 6, 1, 2, 1, 4, 8, 1, 1, 2, 2, 1, 1, 1, 3, 5, 1, 2, 5, 1, 4, 3, 1, 2, 4, 2, 4, 2, 2, 3, 2, 2, 1, 1, 1, 1, 1, 1, 1, 2, 1, 1, 2, 21, 2, 1, 4, 2, 1, 2, 5, 9, 1, 1, 2, 2, 1, 1, 2, 4, 2, 1, 2, 1, 1, 3, 43, 2, 1, 1, 10, 1, 11, 1, 2, 2, 1, 1, 19, 5, 2, 2, 1, 7, 3, 2, 2, 1, 1, 1, 1, 13, 9, 1, 1, 1, 1, 1, 4, 2, 2, 2, 1, 9, 1, 1, 2, 1, 2, 3, 3, 1, 1, 1, 8, 3, 1, 3, 2, 2, 2, 2, 1, 2, 8, 1, 5, 2, 4, 7, 1, 7, 2, 1, 2, 1, 2, 1, 2, 2, 1, 1, 1, 2, 1, 6, 1, 1, 4, 1, 6, 2, 1, 6, 12, 3, 1, 3, 1, 1, 2, 6, 2, 25, 1, 7, 1, 2, 2, 4, 1, 4, 6, 2, 1, 2, 2, 2, 2, 1, 1, 3, 1, 1, 4, 1, 2, 4, 4, 2, 2, 1, 1, 2, 1, 1, 1, 1, 2, 1, 1, 1, 1, 4, 6, 8, 1, 1, 2, 2, 12, 1, 1, 1, 2, 2, 1, 1, 1, 1, 1, 1, 1, 1, 11, 18, 2, 3, 1, 2, 1, 4, 2, 1, 2, 3, 1, 2, 2, 1, 5, 2, 2, 2, 2, 4, 3, 1, 4, 5, 5, 1, 1, 5, 3, 9, 3, 2, 5, 1, 1, 1, 1, 6, 1, 1, 3, 1, 7, 4, 1, 2, 2, 2, 7, 1, 4, 7, 41, 2, 2, 2, 1, 1, 2, 1, 3, 3, 1, 3, 1, 1, 4, 3, 2, 2, 1, 3, 5, 1, 1, 9, 8, 2, 1, 1, 1, 1, 2, 1, 4, 2, 1, 2, 2, 1, 2, 2, 3, 1, 1, 5, 2, 2, 3, 3, 2, 2, 1, 1, 6, 3, 3, 5, 3, 2, 2, 1, 1, 3, 2, 4, 3, 3, 4, 2, 2, 3, 2, 13, 2, 6, 1, 12, 1, 4, 5, 1, 3, 1, 9, 1, 1, 1, 3, 1, 2, 1, 3, 2, 1, 1, 2, 1, 11, 1, 32, 6, 4, 43, 1, 1, 1, 5, 4, 3, 1, 1, 1, 2, 2, 2, 2, 2, 1, 4, 6, 2, 2, 2, 1, 5, 2, 1, 1, 1, 1, 1, 9, 1, 1, 3, 1, 3, 1, 1, 1, 3, 4, 3, 5, 5, 5, 3, 2, 2, 1, 8, 2, 2, 1, 1, 8, 1, 1, 3, 1, 2, 1, 9, 2, 4, 1, 1, 9, 2, 22, 1, 1, 1, 6, 3, 16, 3, 1, 10, 4, 1, 2, 17, 1, 1, 1, 1, 2, 1, 2, 1, 2, 2, 2, 1, 2, 7, 1, 4, 1, 2, 1, 2, 4, 6, 4, 3, 3, 1, 3, 2, 2, 3, 1, 2, 1, 1, 2, 1, 1, 5, 1, 1, 2, 1, 2, 1, 2, 2, 4, 7, 1, 3, 2, 1, 2, 1, 4, 11, 3, 5, 4, 2, 8, 1, 8, 4, 2, 4, 1, 10, 1, 4, 2, 1, 2, 3, 1, 1, 1, 1, 2, 3, 6, 2, 2, 3, 3, 2, 2, 1, 4, 1, 1, 1, 2, 4, 1, 1, 1, 4, 3, 1, 2, 3, 9, 2, 1, 1, 10, 2, 3, 4, 13, 3, 2, 2, 2, 2, 10, 2, 2, 2, 10, 3, 2, 2, 1, 2, 1, 2, 3, 1, 4, 4, 1, 2, 1, 1, 3, 1, 3, 1, 2, 1, 2, 1, 1, 6, 5, 2, 1, 5, 2, 1, 1, 1, 8, 4, 6, 7, 4, 4, 1, 2, 10, 1, 1, 2, 1, 4, 1, 1, 1, 3, 1, 1, 1, 4, 2, 2, 4, 1, 3, 6, 2, 3, 3, 6, 2, 2, 4, 1, 2, 2, 2, 6, 2, 2, 15, 1, 3, 1, 1, 4, 2, 2, 2, 1, 2, 2, 3, 4, 4, 2, 8, 1, 1, 1, 1, 1, 1, 3, 1, 1, 1, 1, 3, 1, 4, 4, 4, 1, 3, 2, 2, 1, 2, 1, 1, 4, 2, 2, 1, 11, 2, 1, 4, 2, 1, 4, 3, 3, 4, 2, 13, 4, 1, 1, 1, 3, 3, 2, 1, 2, 3, 1, 3, 2, 20, 3, 1, 9, 3, 2, 4, 1, 16, 2, 3, 1, 1, 3, 13, 2, 1, 2, 4, 1, 1, 1, 16, 2, 3, 2, 2, 3, 1, 2, 2, 2, 1, 1, 2, 5, 5, 1, 3, 2, 1, 3, 1, 1, 3, 2, 5, 2, 63, 2, 1, 2, 2, 1, 3, 9, 2, 17, 3, 1, 2, 2, 10, 2, 2, 3, 1, 5, 5, 1, 1, 2, 2, 2, 2, 2, 5, 4, 12, 3, 1, 2, 2, 1, 1, 3, 2, 1, 1, 1, 1, 2, 1, 12, 9, 3, 2, 2, 2, 1, 5, 2, 6, 1, 5, 2, 1, 3, 4, 4, 2, 2, 5, 1, 1, 1, 1, 2, 2, 3, 5, 3, 1, 3, 3, 3, 1, 2, 2, 2, 1, 3, 5, 2, 1, 12, 1, 3, 1, 8, 6, 1, 1, 2, 1, 2, 2, 6, 2, 1, 1, 1, 1, 6, 3, 1, 3, 7, 1, 1, 1, 2, 1, 27, 5, 4, 3, 3, 5, 1, 1, 2, 1, 1, 5, 2, 30, 1, 1, 2, 1, 1, 1, 14, 8, 8, 1, 1, 3, 2, 2, 2, 2, 4, 1, 3, 3, 1, 1, 2, 6, 6, 10, 1, 7, 1, 3, 1, 5, 5, 4, 2, 4, 2, 1, 2, 1, 9, 1, 2, 2, 1, 1, 2, 2, 2, 1, 2, 3, 2, 1, 4, 1, 2, 2, 1, 6, 6, 4, 8, 7, 1, 5, 4, 1, 2, 1, 4, 1, 1, 6, 1, 2, 1, 1, 4, 1, 1, 1, 1, 5, 2, 1, 9, 5, 6, 1, 1, 6, 4, 8, 2, 2, 3, 2, 2, 2, 2, 1, 2, 5, 2, 1, 4, 1, 1, 2, 2, 1, 3, 8, 2, 3, 2, 2, 2, 3, 13, 1, 1, 1, 12, 1, 3, 1, 15, 2, 2, 3, 2, 1, 1, 1, 1, 2, 1, 5, 3, 2, 3, 6, 18, 2, 1, 4, 13, 2, 2, 1, 1, 4, 4, 6, 1, 1, 1, 2, 5, 15, 1, 6, 4, 5, 4, 2, 3, 2, 2, 4, 1, 2, 1, 1, 1, 1, 2, 3, 4, 2, 1, 2, 2, 2, 1, 1, 2, 4, 1, 1, 1, 2, 1, 9, 2, 2, 1, 2, 1, 1, 1, 1, 1, 1, 1, 2, 4, 1, 10, 1, 2, 2, 2, 4, 1, 2, 9, 1, 3, 1, 2, 4, 1, 12, 2, 6, 4, 4, 1, 1, 1, 20, 1, 3, 9, 3, 1, 3, 3, 1, 2, 3, 4, 2, 2, 2, 13, 1, 1, 3, 2, 1, 3, 1, 3, 6, 2, 1, 1, 4, 1, 2, 1, 1, 3, 1, 1, 4, 1, 2, 1, 2, 1, 2, 3, 3, 2, 3, 1, 10, 1, 1, 1, 2, 9, 2, 5, 2, 6, 2, 1, 6, 2, 1, 3, 2, 1, 2, 1, 5, 4, 1, 2, 2, 5, 2, 2, 2, 2, 2, 3, 3, 2, 5, 1, 1, 5, 2, 2, 4, 3, 1, 4, 2, 3, 3, 1, 1, 1, 2, 1, 2, 1, 1, 8, 4, 1, 1, 1, 3, 1, 1, 1, 1, 1, 4, 3, 4, 2, 3, 3, 10, 1, 1, 1, 2, 2, 2, 2, 1, 1, 4, 4, 2, 1, 17, 4, 2, 1, 3, 1, 8, 3, 3, 4, 1, 1, 1, 2, 2, 2, 3, 1, 1, 1, 1, 2, 1, 6, 2, 8, 2, 11, 3, 2, 6, 2, 1, 3, 2, 4, 1, 4, 1, 3, 1, 1, 1, 1, 1, 5, 1, 1, 1, 13, 1, 2, 2, 2, 2, 2, 6, 1, 1, 7, 2, 1, 1, 6, 1, 2, 1, 2, 2, 2, 11, 15, 1, 2, 2, 2, 2, 3, 2, 1, 2, 1, 1, 3, 5, 1, 1, 1, 1, 2, 4, 4, 1, 1, 2, 5, 1, 1, 3, 3, 7, 1, 3, 14, 1, 18, 1, 1, 1, 3, 1, 1, 2, 4, 8, 1, 3, 1, 3, 2, 2, 3, 2, 6, 4, 1, 1, 1, 1, 1, 3, 3, 4, 1, 6, 14, 1, 1, 1, 2, 2, 3, 3, 1, 1, 1, 2, 1, 3, 5, 1, 5, 3, 2, 8, 2, 2, 1, 4, 1, 3, 1, 6, 5, 1, 2, 3, 2, 1, 2, 1, 2, 5, 5, 5, 8, 7, 2, 2, 8, 1, 1, 2, 1, 1, 5, 1, 1, 2, 1, 2, 1, 2, 1, 1, 7, 4, 2, 1, 2, 2, 1, 2, 11, 1, 1, 2, 1, 2, 1, 16, 1, 4, 1, 1, 10, 1, 10, 4, 2, 5, 2, 4, 3, 1, 2, 6, 3, 3, 3, 1, 2, 1, 7, 1, 1, 20, 4, 2, 2, 1, 5, 3, 2, 3, 1, 1, 2, 2, 2, 2, 4, 2, 3, 2, 1, 6, 8, 7, 1, 2, 2, 8, 2, 1, 2, 1, 2, 3, 5, 7, 5, 2, 1, 2, 1, 2, 21, 2, 2, 1, 3, 8, 6, 1, 1, 6, 1, 1, 6, 2, 1, 21, 6, 1, 2, 1, 26, 3, 1, 2, 1, 1, 5, 1, 1, 2, 2, 1, 2, 2, 3, 2, 7, 1, 1, 5, 4, 1, 1, 24, 1, 1, 1, 1, 5, 4, 5, 4, 2, 4, 2, 24, 6, 6, 2, 2, 4, 2, 2, 4, 13, 4, 2, 2, 5, 5, 1, 3, 1, 1, 1, 2, 2, 4, 2, 1, 4, 1, 3, 3, 4, 3, 6, 3, 1, 2, 1, 1, 3, 2, 2, 1, 4, 1, 1, 3, 3, 1, 2, 1, 1, 4, 2, 2, 3, 4, 1, 1, 2, 2, 4, 1, 3, 2, 1, 1, 1, 4, 1, 2, 1, 12, 2, 2, 2, 1, 4, 1, 2, 25, 5, 1, 1, 3, 4, 5, 5, 2, 3, 4, 2, 4, 1, 2, 3, 10, 2, 5, 4, 1, 1, 3, 4, 3, 2, 3, 1, 2, 1, 3, 4, 3, 1, 3, 1, 2, 2, 2, 2, 4, 3, 4, 2, 8, 2, 5, 2, 1, 1, 1, 2, 1, 2, 7, 2, 2, 3, 4, 3, 8, 4, 4, 29, 1, 12, 1, 1, 2, 4, 2, 1, 10, 9, 1, 2, 1, 23, 3, 1, 6, 1, 3, 2, 1, 1, 4, 2, 8, 2, 2, 1, 1, 4, 1, 2, 3, 1, 2, 2, 3, 8, 18, 3, 2, 12, 2, 1, 3, 2, 2, 4, 1, 3, 1, 2, 1, 2, 3, 1, 1, 2, 5, 2, 2, 1, 3, 5, 2, 4, 3, 2, 1, 4, 2, 3, 2, 4, 1, 5, 10, 1, 3, 2, 1, 1, 3, 2, 1, 5, 2, 1, 2, 6, 2, 2, 4, 1, 2, 1, 1, 1, 1, 2, 2, 3, 1, 2, 1, 1, 1, 1, 3, 2, 3, 2, 5, 2, 2, 1, 1, 3, 1, 4, 4, 4, 1, 4, 2, 8, 2, 1, 2, 3, 8, 2, 2, 1, 4, 10, 1, 2, 2, 1, 1, 5, 2, 1, 1, 1, 1, 2, 8, 1, 2, 2, 2, 3, 2, 8, 2, 1, 2, 4, 6, 1, 2, 2, 4, 2, 1, 1, 1, 2, 1, 1, 1, 1, 8, 1, 1, 1, 2, 1, 1, 1, 1, 2, 1, 1, 1, 2, 1, 2, 4, 2, 2, 2, 2, 1, 1, 1, 2, 8, 1, 19, 2, 1, 1, 1, 3, 1, 1, 1, 3, 1, 4, 7, 1, 3, 3, 4, 2, 6, 1, 3, 1, 1, 1, 2, 1, 2, 2, 2, 7, 2, 1, 4, 1, 2, 1, 2, 9, 1, 1, 1, 2, 2, 3, 2, 3, 2, 2, 2, 1, 1, 3, 4, 6, 2, 2, 1, 3, 4, 1, 1, 1, 1, 4, 1, 1, 3, 5, 2, 2, 3, 2, 1, 1, 2, 1, 3, 1, 1, 6, 2, 2, 1, 10, 1, 3, 3, 2, 1, 1, 1, 5, 11, 1, 3, 3, 1, 2, 1, 2, 4, 1, 1, 2, 3, 2, 1, 1, 1, 1, 3, 2, 1, 6, 1, 1, 2, 1, 1, 2, 4, 1, 3, 9, 2, 4, 2, 1, 4, 1, 1, 1, 3, 1, 6, 5, 4, 2, 4, 1, 5, 2, 1, 2, 1, 1, 4, 1, 1, 1, 2, 3, 2, 4, 2, 6, 4, 2, 1, 1, 9, 2, 1, 1, 9, 5, 2, 9, 2, 3, 1, 2, 2, 2, 2, 2, 2, 2, 2, 1, 3, 1, 8, 2, 4, 2, 1, 1, 1, 1, 1, 2, 6, 2, 1, 3, 3, 4, 2, 9, 4, 6, 1, 2, 7, 2, 1, 2, 2, 3, 1, 4, 2, 5, 1, 1, 1, 4, 2, 1, 1, 2, 1, 1, 1, 2, 7, 1, 2, 17, 3, 2, 2, 6, 2, 4, 3, 1, 1, 3, 2, 2, 2, 2, 2, 1, 2, 2, 1, 3, 8, 2, 1, 2, 1, 5, 1, 4, 1, 2, 1, 5, 1, 1, 3, 1, 1, 1, 2, 5, 1, 1, 1, 6, 2, 1, 1, 1, 3, 4, 2, 1, 5, 1, 2, 1, 1, 1, 9, 3, 1, 2, 1, 6, 4, 1, 1, 4, 10, 1, 1, 1, 9, 3, 1, 1, 2, 1, 4, 3, 12, 3, 1, 1, 3, 1, 4, 3, 1, 1, 2, 2, 2, 2, 1, 18, 1, 2, 7, 14, 3, 4, 3, 4, 8, 18, 2, 1, 2, 2, 1, 1, 1, 7, 1, 1, 2, 4, 5, 2, 1, 3, 2, 2, 7, 13, 2, 2, 1, 2, 2, 1, 5, 1, 17, 1, 2, 2, 1, 3, 8, 1, 2, 1, 2, 4, 1, 3, 1, 2, 1, 4, 2, 1, 2, 3, 2, 2, 1, 1, 1, 2, 1, 3, 1, 1, 6, 3, 2, 2, 2, 3, 1, 2, 1, 1, 1, 6, 9, 6, 2, 1, 6, 1, 13, 15, 4, 3, 4, 2, 2, 3, 12, 2, 2, 2, 1, 2, 5, 6, 1, 3, 8, 1, 1, 28, 2, 1, 1, 10, 1, 1, 3, 7, 2, 3, 1, 2, 1, 26, 4, 1, 5, 4, 1, 2, 2, 2, 2, 23, 2, 1, 2, 26, 1, 6, 2, 3, 1, 3, 1, 2, 2, 3, 5, 2, 3, 2, 4, 2, 2, 3, 2, 2, 1, 1, 4, 2, 1, 2, 3, 2, 5, 1, 1, 1, 5, 2, 2, 1, 1, 2, 1, 2, 1, 4, 1, 2, 3, 3, 8, 3, 1, 2, 2, 2, 1, 1, 1, 2, 2, 1, 2, 3, 1, 1, 3, 1, 2, 2, 1, 1, 2, 1, 1, 5, 4, 2, 1, 1, 1, 1, 2, 2, 1, 2, 2, 1, 2, 1, 2, 3, 2, 1, 1, 2, 4, 2, 4, 1, 1, 5, 3, 8, 2, 1, 1, 1, 4, 1, 1, 4, 2, 1, 4, 3, 3, 2, 12, 2, 1, 3, 23, 2, 4, 1, 8, 1, 1, 1, 2, 1, 5, 1, 1, 1, 1, 4, 2, 1, 4, 3, 3, 2, 2, 2, 1, 1, 1, 2, 4, 2, 4, 1, 6, 1, 2, 1, 12, 4, 2, 1, 4, 1, 5, 7, 1, 1, 3, 3, 1, 18, 11, 1, 1, 9, 3, 1, 6, 3, 2, 2, 1, 1, 9, 2, 4, 2, 1, 4, 2, 8, 1, 5, 2, 1, 1, 1, 2, 2, 2, 1, 17, 5, 8, 3, 2, 3, 1, 5, 1, 3, 1, 3, 1, 1, 1, 4, 1, 2, 1, 1, 4, 1, 2, 2, 2, 2, 1, 1, 4, 4, 10, 5, 1, 2, 1, 2, 1, 2, 5, 8, 1, 2, 8, 1, 3, 3, 4, 6, 1, 2, 3, 2, 1, 2, 4, 1, 4, 3, 4, 2, 2, 1, 3, 3, 2, 2, 3, 2, 4, 1, 1, 1, 3, 4, 1, 7, 2, 3, 2, 1, 1, 1, 5, 2, 3, 1, 1, 4, 2, 1, 1, 1, 8, 1, 5, 1, 4, 2, 1, 2, 3, 2, 1, 1, 2, 2, 1, 2, 6, 2, 3, 3, 2, 1, 2, 1, 1, 1, 1, 2, 2, 2, 3, 6, 11, 5, 1, 3, 1, 1, 2, 1, 1, 2, 2, 4, 3, 1, 1, 3, 3, 1, 3, 1, 1, 3, 1, 1, 2, 5, 3, 2, 1, 1, 1, 2, 1, 1, 1, 2, 1, 13, 2, 6, 2, 2, 12, 2, 5, 11, 4, 1, 21, 5, 1, 1, 2, 2, 2, 3, 3, 1, 1, 1, 5, 2, 3, 3, 1, 3, 1, 1, 2, 6, 2, 1, 1, 2, 2, 3, 2, 2, 1, 3, 1, 3, 1, 1, 1, 1, 2, 11, 1, 2, 2, 33, 7, 1, 11, 1, 2, 1, 2, 1, 4, 3, 2, 1, 1, 1, 6, 2, 2, 1, 2, 2, 4, 2, 3, 2, 1, 8, 3, 1, 2, 2, 2, 1, 3, 1, 1, 1, 8, 4, 3, 3, 1, 2, 2, 3, 1, 1, 3, 3, 2, 2, 2, 2, 18, 1, 1, 2, 2, 1, 3, 1, 5, 1, 2, 1, 1, 2, 2, 1, 1, 5, 2, 1, 8, 1, 4, 1, 10, 1, 1, 9, 5, 1, 13, 1, 1, 1, 2, 8, 2, 4, 1, 2, 3, 1, 2, 1, 4, 3, 5, 3, 2, 8, 2, 3, 2, 1, 1, 4, 1, 2, 11, 1, 1, 2, 2, 3, 1, 4, 2, 1, 3, 2, 5, 1, 4, 7, 2, 3, 13, 5, 1, 1, 2, 4, 2, 2, 4, 1, 3, 1, 3, 2, 1, 2, 1, 5, 3, 3, 1, 1, 8, 2, 1, 10, 1, 2, 4, 4, 2, 9, 5, 8, 1, 4, 1, 1, 1, 2, 2, 1, 1, 6, 6, 3, 2, 2, 2, 9, 5, 2, 13, 3, 6, 1, 1, 2, 1, 1, 5, 4, 3, 1, 3, 1, 3, 4, 2, 1, 6, 3, 10, 2, 1, 1, 1, 1, 3, 4, 2, 9, 3, 1, 1, 1, 1, 1, 3, 6, 1, 5, 1, 2, 1, 1, 2, 1, 1, 5, 1, 3, 1, 4, 1, 1, 2, 6, 2, 1, 3, 9, 2, 3, 1, 1, 1, 2, 5, 3, 2, 5, 1, 1, 1, 2, 2, 3, 2, 3, 1, 3, 1, 3, 1, 1, 12, 3, 8, 1, 2, 3, 2, 1, 2, 2, 3, 1, 2, 1, 1, 2, 1, 3, 5, 1, 5, 4, 6, 3, 3, 1, 1, 1, 1, 3, 6, 1, 1, 2, 2, 2, 9, 2, 1, 6, 3, 2, 2, 3, 1, 1, 2, 1, 2, 3, 1, 1, 5, 4, 1, 2, 1, 1, 1, 1, 1, 2, 6, 1, 1, 2, 2, 1, 2, 1, 1, 4, 2, 3, 2, 5, 1, 6, 1, 1, 3, 3, 2, 1, 2, 2, 6, 1, 3, 7, 1, 2, 3, 2, 2, 1, 1, 3, 4, 4, 2, 1, 1, 1, 2, 3, 2, 1, 1, 4, 4, 1, 1, 1, 1, 3, 1, 1, 2, 2, 2, 3, 1, 1, 6, 1, 2, 1, 1, 3, 1, 2, 3, 2, 1, 2, 1, 1, 3, 1, 9, 2, 2, 1, 1, 2, 1, 1, 22, 1, 2, 1, 2, 1, 2, 2, 1, 8, 4, 6, 1, 1, 1, 1, 4, 6, 2, 2, 2, 2, 3, 1, 2, 6, 2, 2, 1, 2, 2, 2, 1, 2, 3, 2, 2, 2, 1, 4, 10, 2, 2, 2, 1, 1, 4, 1, 1, 1, 2, 5, 6, 1, 2, 1, 3, 3, 1, 1, 4, 7, 2, 2, 2, 1, 7, 1, 2, 4, 1, 4, 2, 5, 1, 1, 2, 1, 1, 1, 1, 3, 11, 1, 1, 4, 2, 3, 1, 2, 2, 3, 1, 3, 3, 5, 1, 1, 2, 3, 5, 1, 6, 2, 6, 3, 5, 1, 3, 4, 4, 1, 3, 2, 1, 4, 2, 1, 2, 1, 1, 2, 2, 1, 4, 6, 2, 1, 3, 1, 11, 4, 1, 2, 1, 1, 3, 1, 1, 3, 2, 1, 1, 4, 2, 2, 1, 1, 1, 4, 1, 1, 2, 1, 1, 1, 2, 2, 2, 1, 2, 3, 5, 2, 2, 2, 1, 3, 1, 1, 3, 2, 7, 8, 2, 2, 4, 2, 1, 1, 1, 1, 1, 2, 1, 1, 3, 5, 1, 1, 2, 2, 2, 1, 3, 2, 3, 31, 2, 7, 2, 1, 1, 14, 6, 5, 2, 1, 1, 2, 2, 1, 2, 2, 2, 4, 2, 1, 8, 14, 2, 1, 1, 1, 6, 2, 1, 5, 3, 1, 6, 1, 4, 5, 3, 2, 1, 2, 2, 3, 2, 2, 3, 1, 3, 2, 6, 1, 1, 4, 1, 3, 2, 11, 3, 3, 21, 1, 2, 6, 2, 1, 1, 1, 1, 8, 1, 5, 1, 1, 5, 2, 3, 1, 2, 7, 21, 1, 8, 2, 1, 2, 1, 1, 1, 1, 2, 12, 1, 6, 1, 1, 4, 5, 1, 2, 4, 6, 1, 2, 3, 1, 2, 1, 8, 1, 1, 4, 3, 4, 1, 1, 4, 2, 3, 1, 1, 1, 1, 4, 2, 1, 1, 5, 2, 7, 2, 3, 1, 5, 4, 1, 8, 2, 2, 2, 3, 2, 1, 2, 4, 6, 1, 5, 2, 1, 2, 1, 1, 4, 4, 1, 3, 1, 9, 2, 4, 4, 4, 2, 1, 2, 3, 3, 1, 1, 3, 9, 2, 1, 1, 2, 3, 2, 2, 4, 2, 4, 1, 1, 4, 1, 6, 1, 1, 1, 2, 22, 1, 4, 1, 4, 6, 2, 1, 1, 1, 1, 2, 1, 2, 3, 3, 1, 1, 2, 1, 2, 1, 1, 7, 1, 7, 1, 1, 1, 13, 13, 1, 4, 1, 4, 2, 2, 2, 1, 1, 4, 1, 1, 2, 1, 1, 1, 1, 2, 1, 1, 7, 2, 4, 1, 6, 2, 15, 3, 2, 7, 1, 6, 7, 2, 7, 1, 2, 2, 1, 6, 1, 2, 1, 2, 2, 1, 1, 4, 1, 8, 1, 1, 3, 3, 6, 2, 1, 1, 1, 7, 1, 4, 14, 5, 1, 2, 4, 1, 1, 2, 1, 1, 4, 5, 1, 3, 4, 2, 2, 16, 1, 4, 2, 2, 9, 7, 3, 2, 4, 1, 6, 5, 1, 5, 2, 2, 8, 2, 6, 1, 1, 1, 1, 1, 1, 3, 4, 2, 5, 1, 1, 2, 1, 2, 1, 1, 1, 2, 1, 2, 1, 1, 4, 4, 2, 1, 2, 3, 1, 3, 1, 2, 3, 2, 2, 4, 3, 1, 1, 1, 1, 1, 1, 1, 1, 1, 5, 3, 5, 1, 2, 1, 1, 2, 2, 2, 1, 5, 1, 1, 2, 2, 1, 1, 1, 5, 7, 1, 7, 1, 2, 1, 1, 1, 4, 3, 1, 7, 1, 3, 2, 3, 1, 1, 2, 3, 1, 1, 2, 8, 1, 2, 4, 1, 2, 3, 2, 1, 2, 4, 7, 1, 1, 2, 1, 6, 1, 3, 5, 1, 2, 4, 1, 1, 1, 2, 2, 1, 2, 16, 1, 6, 2, 1, 3, 1, 1, 1, 2, 3, 2, 1, 2, 2, 2, 1, 1, 2, 11, 2, 1, 1, 1, 1, 1, 2, 6, 2, 2, 2, 1, 7, 1, 1, 1, 1, 1, 21, 2, 1, 3, 1, 1, 3, 2, 1, 1, 5, 1, 1, 2, 1, 1, 1, 1, 1, 1, 1, 1, 8, 4, 2, 4, 1, 2, 1, 4, 1, 3, 1, 1, 6, 3, 4, 1, 1, 2, 1, 2, 2, 3, 1, 2, 1, 5, 1, 1, 5, 2, 7, 3, 1, 4, 2, 12, 4, 1, 8, 2, 1, 6, 2, 2, 2, 1, 2, 2, 1, 14, 1, 3, 2, 1, 1, 1, 4, 1, 1, 2, 1, 1, 2, 3, 2, 2, 5, 1, 3, 3, 1, 3, 30, 6, 3, 1, 1, 2, 1, 4, 5, 3, 1, 1, 2, 2, 5, 1, 4, 1, 1, 3, 2, 1, 9, 1, 2, 6, 2, 1, 1, 3, 3, 1, 7, 4, 3, 1, 2, 2, 3, 2, 15, 9, 1, 3, 2, 2, 2, 3, 2, 1, 1, 1, 2, 2, 2, 5, 3, 1, 3, 8, 2, 2, 6, 1, 4, 1, 7, 30, 1, 1, 2, 1, 1, 8, 1, 1, 3, 2, 3, 4, 6, 1, 2, 2, 9, 1, 1, 3, 1, 1, 5, 1, 1, 2, 2, 30, 5, 2, 3, 1, 6, 1, 3, 2, 2, 3, 3, 1, 3, 1, 1, 1, 7, 3, 1, 4, 1, 3, 1, 1, 3, 1, 4, 1, 2, 2, 1, 2, 20, 2, 2, 1, 2, 6, 5, 1, 2, 1, 1, 3, 2, 2, 4, 1, 6, 2, 2, 3, 5, 2, 3, 1, 2, 2, 1, 1, 1, 1, 1, 2, 3, 5, 2, 2, 1, 1, 1, 7, 2, 2, 4, 3, 2, 2, 8, 2, 1, 3, 2, 6, 3, 6, 2, 1, 3, 1, 1, 4, 3, 2, 3, 4, 10, 2, 1, 6, 3, 5, 2, 3, 1, 2, 6, 2, 1, 6, 1, 2, 4, 12, 1, 2, 6, 4, 3, 2, 3, 1, 5, 2, 1, 8, 1, 1, 3, 2, 2, 1, 1, 1, 2, 1, 1, 1, 2, 2, 1, 1, 2, 1, 5, 2, 2, 4, 2, 1, 3, 3, 2, 2, 4, 2, 6, 1, 4, 2, 3, 2, 1, 2, 5, 1, 2, 1, 2, 2, 1, 1, 1, 2, 1, 1, 2, 6, 7, 17, 2, 1, 2, 1, 1, 2, 4, 1, 2, 3, 1, 3, 1, 1, 2, 5, 1, 4, 2, 2, 1])\n",
      "('From the right : ', [])\n"
     ]
    }
   ],
   "source": [
    "# Analysis of Campaign variable...\n",
    "analysis_of_campaign = eda.data_analysis_of_numeric_variables('campaign') \n",
    "print \"Analysis of Campaign Variable is : \"\n",
    "print analysis_of_campaign\n",
    "\n",
    "# Calculating quartiles...\n",
    "quartile_1 = analysis_of_campaign.loc['25%']\n",
    "quartile_3 = analysis_of_campaign.loc['75%']\n",
    "\n",
    "# calculating interquartile range...\n",
    "interquartile_range = eda.calculate_interquartile_range(quartile_1, quartile_3)\n",
    "\n",
    "print\n",
    "\n",
    "print(\"Quartile 1 is : \", quartile_1)\n",
    "print(\"Quartile 3 is : \", quartile_3)\n",
    "print\n",
    "print \"Interquartile Range is : \", interquartile_range\n",
    "\n",
    "# Now calculating outliers...\n",
    "left_outlier_boundary, right_outlier_boundary = eda.calculate_outlier_boundaries(quartile1, quartile3, interquartile_range)\n",
    "print(\"Left Outlier Boundary is : \", left_outlier_boundary)\n",
    "print(\"Right Outlier Boundary is : \", right_outlier_boundary)\n",
    "\n",
    "print\n",
    "\n",
    "# Now calculating those values which are less than left boundary and which are greater than right outlier boundary...\n",
    "print(\"Possible outliers are : \")\n",
    "data1 = bank_data[bank_data['campaign'] < left_outlier_boundary]\n",
    "data2 = bank_data[bank_data['campaign'] > right_outlier_boundary]\n",
    "\n",
    "print(\"From the left : \",list(data1['campaign']))\n",
    "print(\"From the right : \",list(data2['campaign']))"
   ]
  },
  {
   "cell_type": "markdown",
   "metadata": {},
   "source": [
    "### Inference from Campaign Variable\n",
    " * Average no. of contacts performed during the current campaign for a client in the dataset is (approx)2.50 with std of 2.72.\n",
    "   * Min. balance is 1\n",
    "   * Max. balance is 63\n",
    "   * quantile 75%(percentile),for 75% of records, 3 times the client has been contacted in the current campaign for a client.\n",
    "   * while comparing with 75% quantile,63 is a outlier data point."
   ]
  },
  {
   "cell_type": "code",
   "execution_count": 35,
   "metadata": {
    "collapsed": false
   },
   "outputs": [
    {
     "data": {
      "text/plain": [
       "count    11162.000000\n",
       "mean         0.832557\n",
       "std          2.292007\n",
       "min          0.000000\n",
       "25%          0.000000\n",
       "50%          0.000000\n",
       "75%          1.000000\n",
       "max         58.000000\n",
       "Name: previous, dtype: float64"
      ]
     },
     "execution_count": 35,
     "metadata": {},
     "output_type": "execute_result"
    }
   ],
   "source": [
    "# Analysis of the previous variable...\n",
    "analysis_of_previous = eda.data_analysis_of_numeric_variables('previous')\n",
    "analysis_of_previous"
   ]
  },
  {
   "cell_type": "markdown",
   "metadata": {},
   "source": [
    "### Inference from Previous Variable...\n",
    " * Average no. of contacts performed before this campaign for a client in the dataset is (approx)0.83 with std of 2.29.\n",
    "   * Min. balance is 0.\n",
    "   * Max. balance is 58\n",
    "   * quantile 75%(percentile),for 75% of records, 1 times the client has been contacted before this campaign.\n",
    "   * while comparing with 75% quantile,58 is a outlier data point."
   ]
  },
  {
   "cell_type": "code",
   "execution_count": 36,
   "metadata": {
    "collapsed": false
   },
   "outputs": [
    {
     "data": {
      "image/png": "[encoded data removed]",
      "text/plain": [
       "<matplotlib.figure.Figure at 0xe5a3c18>"
      ]
     },
     "metadata": {},
     "output_type": "display_data"
    }
   ],
   "source": [
    "age_list = list(eda.return_array_of_variable('age'))\n",
    "balance_list = list(eda.return_array_of_variable('balance'))\n",
    "duration_list = list(eda.return_array_of_variable('duration'))\n",
    "pdays_list = list(eda.return_array_of_variable('pdays'))\n",
    "campaign_list = list(eda.return_array_of_variable('campaign'))\n",
    "previous_list = list(eda.return_array_of_variable('previous'))\n",
    "\n",
    "#data_to_be_plotted = [age_list, balance_list, duration_list, pdays_list, campaign_list, previous_list]\n",
    "\n",
    "# Plot for Age Variable...\n",
    "plt.figure(figsize=(10,10))\n",
    "plt.boxplot(age_list,0, 'gP')\n",
    "plt.show()"
   ]
  },
  {
   "cell_type": "code",
   "execution_count": 37,
   "metadata": {
    "collapsed": false
   },
   "outputs": [
    {
     "data": {
      "image/png": "[encoded data removed]",
      "text/plain": [
       "<matplotlib.figure.Figure at 0xe748ef0>"
      ]
     },
     "metadata": {},
     "output_type": "display_data"
    }
   ],
   "source": [
    "# Plot for Balance Variable...\n",
    "plt.figure(figsize=(10,10))\n",
    "plt.boxplot(balance_list,0, 'gP')\n",
    "plt.show()"
   ]
  },
  {
   "cell_type": "code",
   "execution_count": 38,
   "metadata": {
    "collapsed": false
   },
   "outputs": [
    {
     "data": {
      "image/png": "[encoded data removed]",
      "text/plain": [
       "<matplotlib.figure.Figure at 0x10f52080>"
      ]
     },
     "metadata": {},
     "output_type": "display_data"
    }
   ],
   "source": [
    "# Plot for duratio variable...\n",
    "plt.figure(figsize=(10,10))\n",
    "plt.boxplot(duration_list,0, 'gP')\n",
    "plt.show()"
   ]
  },
  {
   "cell_type": "code",
   "execution_count": 39,
   "metadata": {
    "collapsed": false
   },
   "outputs": [
    {
     "data": {
      "image/png": "[encoded data removed]",
      "text/plain": [
       "<matplotlib.figure.Figure at 0x1053ba20>"
      ]
     },
     "metadata": {},
     "output_type": "display_data"
    }
   ],
   "source": [
    "# pdays list....\n",
    "plt.figure(figsize=(10,30))\n",
    "plt.boxplot(pdays_list,0, 'gP')\n",
    "plt.show()"
   ]
  },
  {
   "cell_type": "code",
   "execution_count": 40,
   "metadata": {
    "collapsed": false
   },
   "outputs": [
    {
     "data": {
      "image/png": "[encoded data removed]",
      "text/plain": [
       "<matplotlib.figure.Figure at 0x10eab780>"
      ]
     },
     "metadata": {},
     "output_type": "display_data"
    }
   ],
   "source": [
    "# campaign list..\n",
    "plt.figure(figsize=(10,10))\n",
    "plt.boxplot(campaign_list,0, 'gP')\n",
    "plt.show()"
   ]
  },
  {
   "cell_type": "markdown",
   "metadata": {},
   "source": [
    "#### Inference from these box plots\n",
    "Above boxplot suggest how the data is spread across the dataset Most of the data is lying above the 3rd quantile by multiplication factor of 1.5."
   ]
  },
  {
   "cell_type": "markdown",
   "metadata": {},
   "source": [
    "## Performing Bi-Variate Analysis"
   ]
  },
  {
   "cell_type": "code",
   "execution_count": 41,
   "metadata": {
    "collapsed": true
   },
   "outputs": [],
   "source": [
    "class Bivariate_Analysis(Bank_Marketing):\n",
    "    def __init__(self):\n",
    "        self.bank_data = None\n",
    "    \n",
    "    # extract the data...\n",
    "    def extract_data(self):\n",
    "        self.bank_data = self.import_data(\"C://Users//Shrey//Desktop//Coursera//Bank.csv\")\n",
    "        return self.bank_data\n",
    "    \n",
    "    # function to perform crosstabulation...\n",
    "    def perform_crosstab(self, series1, series2):\n",
    "        crosstab_data = pd.crosstab(series1, series2)\n",
    "        \n",
    "        crosstab_data = crosstab_data.div(crosstab_data.sum(1).astype(float), axis=0)\n",
    "        \n",
    "        return crosstab_data\n",
    "    \n",
    "    def visualize_crosstab_data(self, crosstab_data):\n",
    "        # visualizing the data...\n",
    "        crosstab_data.div(crosstab_data.sum(1).astype(float), axis=0).plot(kind='bar', stacked = False, \n",
    "                                                                   color=['red','green'], \n",
    "                                                                   grid=False, figsize=(15,5))\n",
    "        # Show the data...\n",
    "        plt.show()\n",
    "        \n",
    "    def perform_correlation(array1, array2):\n",
    "        pass\n",
    "        "
   ]
  },
  {
   "cell_type": "code",
   "execution_count": 42,
   "metadata": {
    "collapsed": false
   },
   "outputs": [
    {
     "name": "stdout",
     "output_type": "stream",
     "text": [
      "Cross Tabulated Data between Housing and Deposit is : \n",
      "deposit        no       yes\n",
      "housing                    \n",
      "no       0.429689  0.570311\n",
      "yes      0.633592  0.366408\n"
     ]
    },
    {
     "data": {
      "image/png": "[encoded data removed]",
      "text/plain": [
       "<matplotlib.figure.Figure at 0x1051cdd8>"
      ]
     },
     "metadata": {},
     "output_type": "display_data"
    }
   ],
   "source": [
    "biv = Bivariate_Analysis()\n",
    "\n",
    "# Extract the bank data...\n",
    "bank_data = biv.extract_data()\n",
    "\n",
    "# perform crosstab on data between housing and deposit...\n",
    "crosstab_data = biv.perform_crosstab(bank_data.housing, bank_data.deposit)\n",
    "\n",
    "print \"Cross Tabulated Data between Housing and Deposit is : \"\n",
    "print crosstab_data\n",
    "\n",
    "# visualize the result...\n",
    "biv.visualize_crosstab_data(crosstab_data)"
   ]
  },
  {
   "cell_type": "markdown",
   "metadata": {},
   "source": [
    "## Inference: \n",
    "* There are 57% of people who have responded to term deposit offer and they do not have housing loan...\n",
    "* There are 43% of people who have not responded to the term deposit offer and do not have housing loan\n",
    "\n",
    "*---------------------------------------------------------------------------------------------------------*\n",
    "\n",
    "* There are 63% of people who have not responded to the term deposit offer and who have a housing loan..\n",
    "* There are 37% of people who have responded to the term deposit offer and they have a housing loan..\n",
    "\n",
    "** As per our target i.e finding the percentage of people who respond to the term deposit offer, we see that when people have a housing loan, the response percentage to the term deposit offer is slightly lesser as compared to people who do not have a housing loan.\n"
   ]
  },
  {
   "cell_type": "code",
   "execution_count": 43,
   "metadata": {
    "collapsed": false
   },
   "outputs": [
    {
     "name": "stdout",
     "output_type": "stream",
     "text": [
      "Cross tabulation between Loan and Deposit : \n",
      "deposit        no       yes\n",
      "loan                       \n",
      "no       0.504741  0.495259\n",
      "yes      0.668493  0.331507\n"
     ]
    },
    {
     "data": {
      "image/png": "[encoded data removed]",
      "text/plain": [
       "<matplotlib.figure.Figure at 0xe4e5eb8>"
      ]
     },
     "metadata": {},
     "output_type": "display_data"
    }
   ],
   "source": [
    "# Performing crosstab between loan and deposit...\n",
    "crosstab_data = biv.perform_crosstab(bank_data.loan, bank_data.deposit)\n",
    "\n",
    "print \"Cross tabulation between Loan and Deposit : \"\n",
    "print crosstab_data\n",
    "\n",
    "# visualize the result...\n",
    "biv.visualize_crosstab_data(crosstab_data)"
   ]
  },
  {
   "cell_type": "markdown",
   "metadata": {},
   "source": [
    "### Inference:\n",
    "* There are 50% of people who have responded to term deposit offer and they do not have any other loan...\n",
    "* There are 50% of people who have not responded to the term deposit offer and do not have any other loan\n",
    "\n",
    "*---------------------------------------------------------------------------------------------------------*\n",
    "\n",
    "* There are 66% of people who have not responded to the term deposit offer and who have any other loan..\n",
    "* There are 34% of people who have responded to the term deposit offer and they have any other loan..\n",
    "\n",
    "** As per our target i.e finding the percentage of people who respond to the term deposit offer, we see that when people have any other loan, the response percentage to the term deposit offer is half as compared to people who do not have any  other loan.\n"
   ]
  },
  {
   "cell_type": "code",
   "execution_count": 44,
   "metadata": {
    "collapsed": false
   },
   "outputs": [
    {
     "name": "stdout",
     "output_type": "stream",
     "text": [
      "Cross tabulation between Default and Deposit : \n",
      "deposit        no       yes\n",
      "default                    \n",
      "no       0.523649  0.476351\n",
      "yes      0.690476  0.309524\n"
     ]
    },
    {
     "data": {
      "image/png": "[encoded data removed]",
      "text/plain": [
       "<matplotlib.figure.Figure at 0x11315748>"
      ]
     },
     "metadata": {},
     "output_type": "display_data"
    }
   ],
   "source": [
    "# Performing crosstab between loan and deposit...\n",
    "crosstab_data = biv.perform_crosstab(bank_data.default, bank_data.deposit)\n",
    "\n",
    "print \"Cross tabulation between Default and Deposit : \"\n",
    "print crosstab_data\n",
    "\n",
    "# visualize the result...\n",
    "biv.visualize_crosstab_data(crosstab_data)"
   ]
  },
  {
   "cell_type": "markdown",
   "metadata": {},
   "source": [
    "### Common Inference from above analysis:\n",
    "* If there is any kind of loan lets say housing or personal or any default loan, then in that category the percentage of respondents for term deposit offer are lower as compared to percentage of respondents who do not have any other loan. "
   ]
  },
  {
   "cell_type": "markdown",
   "metadata": {},
   "source": [
    "## Bivariate Analysis:"
   ]
  },
  {
   "cell_type": "code",
   "execution_count": 45,
   "metadata": {
    "collapsed": true
   },
   "outputs": [],
   "source": [
    "class Multivariate_Analysis(Bank_Marketing):\n",
    "    def __init__(self):\n",
    "        self.bank_data = None\n",
    "        \n",
    "    # extract the data...\n",
    "    def extract_data(self):\n",
    "        self.bank_data = self.import_data(\"C://Users//Shrey//Desktop//Coursera//Bank.csv\")\n",
    "        return self.bank_data\n",
    "    \n",
    "    # function to perform crosstabulation...\n",
    "    def perform_crosstab(self, series1, series2):\n",
    "        crosstab_data = pd.crosstab(series1, series2)\n",
    "        \n",
    "        crosstab_data = crosstab_data.div(crosstab_data.sum(1).astype(float), axis=0)\n",
    "        \n",
    "        return crosstab_data\n",
    "    \n",
    "    def visualize_crosstab_data(self, crosstab_data):\n",
    "        # visualizing the data...\n",
    "        crosstab_data.div(crosstab_data.sum(1).astype(float), axis=0).plot(kind='bar', stacked = False, \n",
    "                                                                   color=['red','green'], \n",
    "                                                                   grid=False, figsize=(15,5))\n",
    "        # Show the data...\n",
    "        plt.show()"
   ]
  },
  {
   "cell_type": "code",
   "execution_count": 46,
   "metadata": {
    "collapsed": false
   },
   "outputs": [
    {
     "name": "stdout",
     "output_type": "stream",
     "text": [
      "Cross Tab Data between Education and Deposit is : \n",
      "deposit          no       yes\n",
      "education                    \n",
      "primary    0.606000  0.394000\n",
      "secondary  0.552593  0.447407\n",
      "tertiary   0.458932  0.541068\n",
      "unknown    0.492958  0.507042\n"
     ]
    },
    {
     "data": {
      "image/png": "[encoded data removed]",
      "text/plain": [
       "<matplotlib.figure.Figure at 0x11386080>"
      ]
     },
     "metadata": {},
     "output_type": "display_data"
    }
   ],
   "source": [
    "mul = Multivariate_Analysis()\n",
    "\n",
    "# Extract bank data...\n",
    "bank_data = mul.extract_data()\n",
    "\n",
    "crosstab_data = mul.perform_crosstab(bank_data.education, bank_data.deposit)\n",
    "\n",
    "print \"Cross Tab Data between Education and Deposit is : \"\n",
    "print crosstab_data\n",
    "\n",
    "mul.visualize_crosstab_data(crosstab_data)"
   ]
  },
  {
   "cell_type": "markdown",
   "metadata": {},
   "source": [
    "### Inference:\n",
    "* Customers with Primary Education have a higher percentage of rejecting the term deposit offer.\n",
    "* As the education of the customer is increasing from Primary to secondary and to tertiary, the percentage of acceptance of term deposit offer is also increasing slowly from 40% to 45% and then to 55%.\n",
    "* However there is one category called the unknown, which means that the type of education of the customer is not known here and in this analysis the Unknown category holds an equally good chance of acceptance or rejection of offer. Due to this unknown variable we cannot fully infer about the cross tabulation results between education and deposit."
   ]
  },
  {
   "cell_type": "code",
   "execution_count": 47,
   "metadata": {
    "collapsed": false
   },
   "outputs": [
    {
     "name": "stdout",
     "output_type": "stream",
     "text": [
      "Cross Tab Data between Marital Status and Deposit is : \n",
      "deposit         no       yes\n",
      "marital                     \n",
      "divorced  0.518948  0.481052\n",
      "married   0.566210  0.433790\n",
      "single    0.456509  0.543491\n"
     ]
    },
    {
     "data": {
      "image/png": "[encoded data removed]",
      "text/plain": [
       "<matplotlib.figure.Figure at 0x1200d2e8>"
      ]
     },
     "metadata": {},
     "output_type": "display_data"
    }
   ],
   "source": [
    "crosstab_data = mul.perform_crosstab(bank_data.marital, bank_data.deposit)\n",
    "\n",
    "print \"Cross Tab Data between Marital Status and Deposit is : \"\n",
    "print crosstab_data\n",
    "\n",
    "mul.visualize_crosstab_data(crosstab_data)"
   ]
  },
  {
   "cell_type": "markdown",
   "metadata": {},
   "source": [
    "### Inference from the Data:\n",
    "* Here we can infer that customers who are divorced or who are single have a slightly higher chance of accepting the term deposit offer than people who are married and settled. This increase is not significant though."
   ]
  },
  {
   "cell_type": "code",
   "execution_count": 48,
   "metadata": {
    "collapsed": false
   },
   "outputs": [
    {
     "name": "stdout",
     "output_type": "stream",
     "text": [
      "Cross Tab Data between Job and Deposit is : \n",
      "deposit              no       yes\n",
      "job                              \n",
      "admin.         0.526987  0.473013\n",
      "blue-collar    0.635802  0.364198\n",
      "entrepreneur   0.625000  0.375000\n",
      "housemaid      0.602190  0.397810\n",
      "management     0.492985  0.507015\n",
      "retired        0.336761  0.663239\n",
      "self-employed  0.538272  0.461728\n",
      "services       0.600217  0.399783\n",
      "student        0.252778  0.747222\n",
      "technician     0.539221  0.460779\n",
      "unemployed     0.434174  0.565826\n",
      "unknown        0.514286  0.485714\n"
     ]
    },
    {
     "data": {
      "image/png": "[encoded data removed]",
      "text/plain": [
       "<matplotlib.figure.Figure at 0x12154080>"
      ]
     },
     "metadata": {},
     "output_type": "display_data"
    }
   ],
   "source": [
    "# Analysis of Job vs deposit...\n",
    "crosstab_data = mul.perform_crosstab(bank_data.job, bank_data.deposit)\n",
    "\n",
    "print \"Cross Tab Data between Job and Deposit is : \"\n",
    "print crosstab_data\n",
    "\n",
    "mul.visualize_crosstab_data(crosstab_data)"
   ]
  },
  {
   "cell_type": "markdown",
   "metadata": {},
   "source": [
    "## Inference:\n",
    "1. Customer possessing Jobs like admin, blue-collar, entreprenuership and housemaid have a less percentage of acceptance of term deposit offer.\n",
    "\n",
    "2. Another interesting observation is that customers who are self-employed or students or management or one who are retired are more likely to respond to the term deposit offer.\n",
    "\n",
    "3. Another category which is unknown gives us the idea that these customers have a 50% chance of acceptance of term deposit offer."
   ]
  },
  {
   "cell_type": "code",
   "execution_count": 64,
   "metadata": {
    "collapsed": false
   },
   "outputs": [],
   "source": [
    "# The above inferences were obtained from the categorical features. Now let's dwell into Data preparation..\n",
    "class Data_Preparation(Bank_Marketing):\n",
    "    def __init__(self):\n",
    "        self.bank_data = None\n",
    "    \n",
    "    def extract_data(self):\n",
    "        # extract the data...\n",
    "        self.bank_data = self.import_data(\"C://Users//Shrey//Desktop//Coursera//Bank.csv\")\n",
    "        return self.bank_data\n",
    "    \n",
    "    # method to classify age variable...\n",
    "    def classify_age(self):\n",
    "        # introducing new columns as Adult, Middle-Aged and Old...\n",
    "        self.bank_data['Adult'] = 0\n",
    "        self.bank_data['Middle-Aged'] = 0\n",
    "        self.bank_data['Old'] = 0\n",
    "        \n",
    "        # Between 18 to 35 classify as Adult, between 36 to 60 classify as middle aged and above 60 classify as old.\n",
    "        bool_classify_adult = (self.bank_data['age'] >= 18) & (self.bank_data['age'] <= 35)\n",
    "        bool_classify_middle_age = (self.bank_data['age'] >= 36) & (self.bank_data['age'] <= 60)\n",
    "        bool_classify_old = (self.bank_data['age'] > 60)\n",
    "        \n",
    "        # Assign value 1 to the customers who fall under the adult category...\n",
    "        self.bank_data.loc[bool_classify_adult, 'Adult'] = 1\n",
    "        \n",
    "        # Assign value 1 to middle aged category people...\n",
    "        self.bank_data.loc[bool_classify_middle_age, 'Middle-Aged'] = 1\n",
    "        \n",
    "        # Assign 1 to old category people...\n",
    "        self.bank_data.loc[bool_classify_old, 'Old'] = 1\n",
    "        \n",
    "        return self.bank_data\n",
    "\n",
    "    # Method to classify education as Primary, Secondary, tertiary and unknown...\n",
    "    def classify_education(self):\n",
    "        self.bank_data['Primary'] = 0\n",
    "        self.bank_data['Secondary'] = 0\n",
    "        self.bank_data['Tertiary'] = 0\n",
    "        self.bank_data['Unknown'] = 0\n",
    "        \n",
    "        # Condition to classify the data....\n",
    "        classify_primary = (self.bank_data['education'] == 'primary')\n",
    "        classify_secondary = (self.bank_data['education'] == 'secondary')\n",
    "        classify_tertiary = (self.bank_data['education'] == 'tertiary')\n",
    "        classify_unknown = (self.bank_data['education'] == 'unknown')\n",
    "        \n",
    "        # Assigning the values as per the classification...\n",
    "        self.bank_data.loc[classify_primary, 'Primary'] = 1\n",
    "        self.bank_data.loc[classify_secondary, 'Secondary'] = 1\n",
    "        self.bank_data.loc[classify_tertiary, 'Tertiary'] = 1\n",
    "        self.bank_data.loc[classify_unknown, 'Unknown'] = 1\n",
    "        \n",
    "        return self.bank_data\n",
    "        \n",
    "    def classify_marital_status(self):\n",
    "        # Classifying the marital status...\n",
    "        self.bank_data['Single'] = 0\n",
    "        self.bank_data['Married'] = 0\n",
    "        self.bank_data['Divorced'] = 0\n",
    "        \n",
    "        classify_single = self.bank_data['marital'] == 'single'\n",
    "        classify_married = self.bank_data['marital'] == 'married'\n",
    "        classify_divorced = self.bank_data['marital'] == 'divorced'\n",
    "        \n",
    "        self.bank_data.loc[classify_single, 'Single'] = 1\n",
    "        self.bank_data.loc[classify_married, 'Married'] = 1\n",
    "        self.bank_data.loc[classify_divorced, 'Divorced'] = 1\n",
    "        \n",
    "        return self.bank_data\n",
    "        \n",
    "    def classify_jobs(self):\n",
    "        # Method to classify the jobs...\n",
    "        self.bank_data.loc[self.bank_data['job'] == \"management\",'job'] = 1\n",
    "        self.bank_data.loc[self.bank_data['job'] == \"technician\",'job'] = 2\n",
    "        self.bank_data.loc[self.bank_data['job'] == \"entrepreneur\",'job'] = 3\n",
    "        self.bank_data.loc[self.bank_data['job'] == \"blue-collar\",'job'] = 4\n",
    "        self.bank_data.loc[self.bank_data['job'] == \"retired\",'job'] = 5\n",
    "        self.bank_data.loc[self.bank_data['job'] == \"admin.\",'job'] = 6\n",
    "        self.bank_data.loc[self.bank_data['job'] == \"services\",'job'] = 7\n",
    "        self.bank_data.loc[self.bank_data['job'] == \"self-employed\",'job'] = 8\n",
    "        self.bank_data.loc[self.bank_data['job'] == \"unemployed\",'job'] = 9\n",
    "        self.bank_data.loc[self.bank_data['job'] == \"student\",'job'] = 10\n",
    "        self.bank_data.loc[self.bank_data['job'] == \"housemaid\",'job'] = 11\n",
    "        self.bank_data.loc[self.bank_data['job'] == \"unknown\",'job'] = 12\n",
    "        \n",
    "        return self.bank_data\n",
    "    \n",
    "    # Method to classify balance...\n",
    "    def classify_balance(self):\n",
    "        self.bank_data['Neg_Balance'] = 0\n",
    "        self.bank_data['No_Balance'] = 0\n",
    "        self.bank_data['Pos_Balance'] = 0\n",
    "    \n",
    "        self.bank_data.loc[self.bank_data['balance']<0,'Neg_Balance'] = 1\n",
    "        self.bank_data.loc[self.bank_data['balance'] == 0,'No_Balance'] = 1\n",
    "        self.bank_data.loc[(self.bank_data['balance'] >= 1) & (self.bank_data['balance'] <= 100),'Pos_Balance'] = 1\n",
    "        self.bank_data.loc[(self.bank_data['balance'] >= 101) & (self.bank_data['balance'] <= 500),'Pos_Balance'] = 2\n",
    "        self.bank_data.loc[(self.bank_data['balance'] >= 501) & (self.bank_data['balance'] <= 2000),'Pos_Balance'] = 3\n",
    "        self.bank_data.loc[(self.bank_data['balance'] >= 2001) & (self.bank_data['balance'] <= 10000),'Pos_Balance'] = 4\n",
    "        self.bank_data.loc[self.bank_data['balance'] >= 10001,'Pos_Balance'] = 5\n",
    "        \n",
    "        return self.bank_data\n",
    "    \n",
    "    # Method to classify campaign data...\n",
    "    def classify_campaign(self):\n",
    "        self.bank_data.loc[self.bank_data['campaign'] == 1,'campaign'] = 1\n",
    "        self.bank_data.loc[(self.bank_data['campaign'] >= 2) & (self.bank_data['campaign'] <= 3),'campaign'] = 2\n",
    "        self.bank_data.loc[self.bank_data['campaign'] >= 4,'campaign'] = 3\n",
    "        \n",
    "        return self.bank_data\n",
    "    \n",
    "    # Method to classify pdays...\n",
    "    def classify_pdays(self):\n",
    "        self.bank_data['pdays_not_contacted'] = 0\n",
    "        self.bank_data['months_passed'] = 0\n",
    "        self.bank_data.loc[self.bank_data['pdays'] == -1 ,'pdays_not_contacted'] = 1\n",
    "        self.bank_data['months_passed'] = self.bank_data['pdays']/30\n",
    "        self.bank_data.loc[(self.bank_data['months_passed'] >= 0) & (self.bank_data['months_passed'] <=2) ,'months_passed'] = 1\n",
    "        self.bank_data.loc[(self.bank_data['months_passed'] > 2) & (self.bank_data['months_passed'] <=6),'months_passed'] = 2\n",
    "        self.bank_data.loc[self.bank_data['months_passed'] > 6 ,'months_passed'] = 3\n",
    "        \n",
    "        return self.bank_data\n",
    "    \n",
    "    def classify_previous(self):\n",
    "        # Classify the previous data...\n",
    "        self.bank_data['Not_Contacted'] = 0\n",
    "        self.bank_data['Contacted'] = 0\n",
    "        self.bank_data.loc[self.bank_data['previous'] == 0 ,'Not_Contacted'] = 1\n",
    "        self.bank_data.loc[(self.bank_data['previous'] >= 1) & (self.bank_data['pdays'] <=99) ,'Contacted'] = 1\n",
    "        self.bank_data.loc[self.bank_data['previous'] >= 100,'Contacted'] = 2\n",
    "        \n",
    "        return self.bank_data\n",
    "    \n",
    "    def classify_duration(self):\n",
    "        # Classify duration on the basis of time attented by client...\n",
    "        self.bank_data['five_minutes'] = 0\n",
    "        self.bank_data['Between five and ten min'] = 0\n",
    "        self.bank_data['More than ten min'] = 0\n",
    "        \n",
    "        bool_classify_five_min = self.bank_data['duration'] <= 5\n",
    "        bool_classify_five_to_ten_min = (self.bank_data['duration'] > 5) & (self.bank_data['duration'] <= 10)\n",
    "        bool_classify_more_than_ten_min = self.bank_data['duration'] > 10\n",
    "        \n",
    "        self.bank_data.loc[bool_classify_five_min, 'five_minutes'] = 1\n",
    "        self.bank_data.loc[bool_classify_five_to_ten_min, 'Between five and ten min'] = 1\n",
    "        self.bank_data.loc[bool_classify_more_than_ten_min, 'More than ten min'] = 1\n",
    "        \n",
    "        return self.bank_data\n",
    "        \n",
    "    def classify_binary_data(self):\n",
    "        # Classifying the response of binary data and converting them into 1 and 0\n",
    "        self.bank_data['deposit'].replace(('yes', 'no'), (1,0), inplace=True)\n",
    "        self.bank_data.housing.replace(('yes', 'no'), (1,0), inplace=True)\n",
    "        self.bank_data.loan.replace(('yes', 'no'), (1,0), inplace=True)\n",
    "        self.bank_data.default.replace(('yes', 'no'),(1,0), inplace = True)\n",
    "        \n",
    "        # Converting months..\n",
    "        self.bank_data.month.replace(('jan', 'feb', 'mar', 'apr', 'may', 'jun', 'jul', 'aug', 'sep', 'oct', 'nov'\n",
    "                                      , 'dec'), (1,2,3,4,5,6,7,8,9,10,11,12), inplace=True)\n",
    "        \n",
    "        # Converting contact details...\n",
    "        self.bank_data.contact.replace(('telephone', 'cellular', 'unknown'), (1,2,3), inplace=True)\n",
    "        \n",
    "        return self.bank_data\n",
    "        \n",
    "    \n",
    "    # method to perform crosstab analysis...\n",
    "    def perform_crosstab_analysis(self, series1, series2):\n",
    "        crosstab_data = pd.crosstab(series1, series2)\n",
    "        \n",
    "        crosstab_data = crosstab_data.div(crosstab_data.sum(1).astype(float), axis=0)\n",
    "        \n",
    "        return crosstab_data\n",
    "    \n",
    "    # method to visualize the crosstab data...\n",
    "    def visualize_crosstab_data(self, crosstab_data):\n",
    "        # visualizing the data...\n",
    "        crosstab_data.div(crosstab_data.sum(1).astype(float), axis=0).plot(kind='bar', stacked = False, \n",
    "                                                                   color=['red','green'], \n",
    "                                                                   grid=True, figsize=(15,5))\n",
    "        # Show the data...\n",
    "        plt.show()\n",
    "            "
   ]
  },
  {
   "cell_type": "code",
   "execution_count": 65,
   "metadata": {
    "collapsed": false
   },
   "outputs": [
    {
     "name": "stdout",
     "output_type": "stream",
     "text": [
      "Cross tab Data is :\n",
      "deposit         0         1\n",
      "Adult                      \n",
      "0        0.543513  0.456487\n",
      "1        0.499199  0.500801\n",
      "Visualizing the cross tab data : \n"
     ]
    },
    {
     "data": {
      "image/png": "[encoded data removed]",
      "text/plain": [
       "<matplotlib.figure.Figure at 0x1233e390>"
      ]
     },
     "metadata": {},
     "output_type": "display_data"
    }
   ],
   "source": [
    "data_prep = Data_Preparation()\n",
    "bank_data = data_prep.extract_data()\n",
    "bank_data = data_prep.classify_age()\n",
    "bank_data = data_prep.classify_education()\n",
    "bank_data = data_prep.classify_marital_status()\n",
    "bank_data = data_prep.classify_jobs()\n",
    "bank_data = data_prep.classify_balance()\n",
    "bank_data = data_prep.classify_campaign()\n",
    "bank_data = data_prep.classify_pdays()\n",
    "bank_data = data_prep.classify_previous()\n",
    "bank_data = data_prep.classify_duration()\n",
    "bank_data = data_prep.classify_binary_data()\n",
    "\n",
    "crosstab_data = data_prep.perform_crosstab_analysis(bank_data['Adult'], bank_data['deposit'])\n",
    "\n",
    "print \"Cross tab Data is :\"\n",
    "print crosstab_data\n",
    "\n",
    "print \"Visualizing the cross tab data : \"\n",
    "data_prep.visualize_crosstab_data(crosstab_data)"
   ]
  },
  {
   "cell_type": "markdown",
   "metadata": {},
   "source": [
    "### Inference:\n",
    "* The data points suggest that Adult people have an equal proportion of response to the term deposit offer."
   ]
  },
  {
   "cell_type": "code",
   "execution_count": 66,
   "metadata": {
    "collapsed": false
   },
   "outputs": [
    {
     "name": "stdout",
     "output_type": "stream",
     "text": [
      "Cross Tab Data is : \n",
      "deposit             0         1\n",
      "Middle-Aged                    \n",
      "0            0.459855  0.540145\n",
      "1            0.579612  0.420388\n",
      "Visualizing the Result : \n"
     ]
    },
    {
     "data": {
      "image/png": "[encoded data removed]",
      "text/plain": [
       "<matplotlib.figure.Figure at 0x12380320>"
      ]
     },
     "metadata": {},
     "output_type": "display_data"
    }
   ],
   "source": [
    "crosstab_data = data_prep.perform_crosstab_analysis(bank_data['Middle-Aged'], bank_data.deposit)\n",
    "print \"Cross Tab Data is : \"\n",
    "print crosstab_data\n",
    "\n",
    "print \"Visualizing the Result : \"\n",
    "data_prep.visualize_crosstab_data(crosstab_data)"
   ]
  },
  {
   "cell_type": "markdown",
   "metadata": {},
   "source": [
    "### Inference:\n",
    "* The data points suggest that middle aged people have a lesser response to term deposit offer."
   ]
  },
  {
   "cell_type": "code",
   "execution_count": 67,
   "metadata": {
    "collapsed": false
   },
   "outputs": [
    {
     "name": "stdout",
     "output_type": "stream",
     "text": [
      "Cross Tab Data is : \n",
      "deposit         0         1\n",
      "Old                        \n",
      "0        0.546299  0.453701\n",
      "1        0.178396  0.821604\n",
      "Visualizing the Result : \n"
     ]
    },
    {
     "data": {
      "image/png": "[encoded data removed]",
      "text/plain": [
       "<matplotlib.figure.Figure at 0x1052fdd8>"
      ]
     },
     "metadata": {},
     "output_type": "display_data"
    }
   ],
   "source": [
    "crosstab_data = data_prep.perform_crosstab_analysis(bank_data['Old'], bank_data.deposit)\n",
    "print \"Cross Tab Data is : \"\n",
    "print crosstab_data\n",
    "\n",
    "print \"Visualizing the Result : \"\n",
    "data_prep.visualize_crosstab_data(crosstab_data)"
   ]
  },
  {
   "cell_type": "markdown",
   "metadata": {},
   "source": [
    "### Inference:\n",
    "* Here the Data Points reveal that Old and Retired people have a higher proportion of response to term deposit offer as \n",
    "compared to Adult or Middle-Aged people."
   ]
  },
  {
   "cell_type": "code",
   "execution_count": 68,
   "metadata": {
    "collapsed": false
   },
   "outputs": [
    {
     "name": "stdout",
     "output_type": "stream",
     "text": [
      "Cross Tab Data is : \n",
      "deposit             0        1\n",
      "five_minutes                  \n",
      "0             0.52582  0.47418\n",
      "1             1.00000  0.00000\n",
      "Visualizing the Result : \n"
     ]
    },
    {
     "data": {
      "image/png": "[encoded data removed]",
      "text/plain": [
       "<matplotlib.figure.Figure at 0x10ec79e8>"
      ]
     },
     "metadata": {},
     "output_type": "display_data"
    }
   ],
   "source": [
    "crosstab_data = data_prep.perform_crosstab_analysis(bank_data['five_minutes'], bank_data.deposit)\n",
    "\n",
    "print \"Cross Tab Data is : \"\n",
    "print crosstab_data\n",
    "\n",
    "print \"Visualizing the Result : \"\n",
    "data_prep.visualize_crosstab_data(crosstab_data)"
   ]
  },
  {
   "cell_type": "markdown",
   "metadata": {},
   "source": [
    "### Inference: \n",
    "* Customers who spoke less than 5 minutes are not interested in accepting the term deposit offer."
   ]
  },
  {
   "cell_type": "code",
   "execution_count": 69,
   "metadata": {
    "collapsed": false
   },
   "outputs": [
    {
     "name": "stdout",
     "output_type": "stream",
     "text": [
      "Cross Tab analysis is : \n",
      "deposit                          0         1\n",
      "Between five and ten min                    \n",
      "0                         0.523518  0.476482\n",
      "1                         0.984375  0.015625\n",
      "Visualizing the cross tab data : \n"
     ]
    },
    {
     "data": {
      "image/png": "[encoded data removed]",
      "text/plain": [
       "<matplotlib.figure.Figure at 0x1052fe10>"
      ]
     },
     "metadata": {},
     "output_type": "display_data"
    }
   ],
   "source": [
    "crosstab_data = data_prep.perform_crosstab_analysis(bank_data['Between five and ten min'], bank_data.deposit)\n",
    "\n",
    "print \"Cross Tab analysis is : \"\n",
    "print crosstab_data\n",
    "\n",
    "print \"Visualizing the cross tab data : \"\n",
    "data_prep.visualize_crosstab_data(crosstab_data)"
   ]
  },
  {
   "cell_type": "markdown",
   "metadata": {},
   "source": [
    "### Inference: \n",
    "* This shows that customers who are slightly interested in accepting the term deposit offer, speak for 5 to 10 mins."
   ]
  },
  {
   "cell_type": "code",
   "execution_count": 81,
   "metadata": {
    "collapsed": false
   },
   "outputs": [
    {
     "name": "stdout",
     "output_type": "stream",
     "text": [
      "Cross Tab Analysis of the Data is : \n",
      "deposit                  no       yes\n",
      "More than ten min                    \n",
      "0                  0.986111  0.013889\n",
      "1                  0.523174  0.476826\n",
      "Visualizing the same result : \n"
     ]
    },
    {
     "data": {
      "image/png": "[encoded data removed]",
      "text/plain": [
       "<matplotlib.figure.Figure at 0xbd9a0b8>"
      ]
     },
     "metadata": {},
     "output_type": "display_data"
    }
   ],
   "source": [
    "crosstab_data = data_prep.perform_crosstab_analysis(bank_data['More than ten min'], bank_data.deposit)\n",
    "\n",
    "print \"Cross Tab Analysis of the Data is : \"\n",
    "print crosstab_data\n",
    "\n",
    "print \"Visualizing the same result : \"\n",
    "data_prep.visualize_crosstab_data(crosstab_data)"
   ]
  },
  {
   "cell_type": "markdown",
   "metadata": {},
   "source": [
    "### Inference:\n",
    "* As the customer starts speaking for more than ten minutes, this shows that the customer is very much interested in accepting the term deposit offer."
   ]
  },
  {
   "cell_type": "code",
   "execution_count": 82,
   "metadata": {
    "collapsed": false
   },
   "outputs": [
    {
     "name": "stdout",
     "output_type": "stream",
     "text": [
      "Cross Tab Data Results are : \n",
      "deposit                    no       yes\n",
      "pdays_not_contacted                    \n",
      "0                    0.328753  0.671247\n",
      "1                    0.593465  0.406535\n",
      "Visualizing the same results : \n"
     ]
    },
    {
     "data": {
      "image/png": "[encoded data removed]",
      "text/plain": [
       "<matplotlib.figure.Figure at 0xc03c080>"
      ]
     },
     "metadata": {},
     "output_type": "display_data"
    }
   ],
   "source": [
    "crosstab_data = data_prep.perform_crosstab_analysis(bank_data['pdays_not_contacted'], bank_data.deposit)\n",
    "\n",
    "print \"Cross Tab Data Results are : \"\n",
    "print crosstab_data\n",
    "\n",
    "print \"Visualizing the same results : \"\n",
    "data_prep.visualize_crosstab_data(crosstab_data)"
   ]
  },
  {
   "cell_type": "markdown",
   "metadata": {},
   "source": [
    "### Inference:\n",
    "* Customers who were not contacted in the previous campaign and are willing to respond to term deposit offer, represent 40% of the total customers."
   ]
  },
  {
   "cell_type": "code",
   "execution_count": 83,
   "metadata": {
    "collapsed": false
   },
   "outputs": [
    {
     "name": "stdout",
     "output_type": "stream",
     "text": [
      "Cross Tab Analysis of the Data is : \n",
      "deposit              no       yes\n",
      "months_passed                    \n",
      "-0.033333      0.593465  0.406535\n",
      " 1.000000      0.352381  0.647619\n",
      " 2.000000      0.264906  0.735094\n",
      " 3.000000      0.375241  0.624759\n",
      "Visualizing the same results : \n"
     ]
    },
    {
     "data": {
      "image/png": "[encoded data removed]",
      "text/plain": [
       "<matplotlib.figure.Figure at 0x12214f60>"
      ]
     },
     "metadata": {},
     "output_type": "display_data"
    }
   ],
   "source": [
    "crosstab_data = data_prep.perform_crosstab_analysis(bank_data['months_passed'], bank_data.deposit)\n",
    "\n",
    "print \"Cross Tab Analysis of the Data is : \"\n",
    "print crosstab_data\n",
    "\n",
    "print \"Visualizing the same results : \"\n",
    "data_prep.visualize_crosstab_data(crosstab_data)"
   ]
  },
  {
   "cell_type": "markdown",
   "metadata": {},
   "source": [
    "### Inference:\n",
    "--> The Inference from this data is:\n",
    "* When the customers are not contacted at all, the percentage of response to term deposit offer is just 40%.\n",
    "* As the customers are contacted between 0 to 2 months, the response increases to 65%.\n",
    "* Between 2 to 6 months, the percentage of response is 75%.\n",
    "* As we move beyond 6 months, the percentage of response reduces to 62%."
   ]
  },
  {
   "cell_type": "code",
   "execution_count": 90,
   "metadata": {
    "collapsed": false
   },
   "outputs": [
    {
     "name": "stdout",
     "output_type": "stream",
     "text": [
      "Crosstab Data is : \n",
      "deposit          no       yes\n",
      "Contacted                    \n",
      "0          0.550979  0.449021\n",
      "1          0.179625  0.820375\n",
      "Visualizing the Result : \n"
     ]
    },
    {
     "data": {
      "image/png": "[encoded data removed]",
      "text/plain": [
       "<matplotlib.figure.Figure at 0x111deeb8>"
      ]
     },
     "metadata": {},
     "output_type": "display_data"
    }
   ],
   "source": [
    "crosstab_data = data_prep.perform_crosstab_analysis(bank_data['Contacted'], bank_data.deposit)\n",
    "\n",
    "print \"Crosstab Data is : \"\n",
    "print crosstab_data\n",
    "\n",
    "print \"Visualizing the Result : \"\n",
    "data_prep.visualize_crosstab_data(crosstab_data)"
   ]
  },
  {
   "cell_type": "code",
   "execution_count": 91,
   "metadata": {
    "collapsed": true
   },
   "outputs": [],
   "source": [
    "## Inference: The data points refers to the no. of contact for a client has been contacted before this campaign.\n",
    "# Fewer no. of contacts are more likely to enroll for term deposit"
   ]
  },
  {
   "cell_type": "code",
   "execution_count": 92,
   "metadata": {
    "collapsed": false
   },
   "outputs": [
    {
     "name": "stdout",
     "output_type": "stream",
     "text": [
      "Cross Tab Data is : \n",
      "deposit            no       yes\n",
      "Neg_Balance                    \n",
      "0            0.515085  0.484915\n",
      "1            0.694767  0.305233\n",
      "Visualizing the result : \n"
     ]
    },
    {
     "data": {
      "image/png": "[encoded data removed]",
      "text/plain": [
       "<matplotlib.figure.Figure at 0x10c7dcf8>"
      ]
     },
     "metadata": {},
     "output_type": "display_data"
    }
   ],
   "source": [
    "crosstab_data = data_prep.perform_crosstab_analysis(bank_data['Neg_Balance'], bank_data.deposit)\n",
    "\n",
    "print \"Cross Tab Data is : \"\n",
    "print crosstab_data\n",
    "\n",
    "print \"Visualizing the result : \"\n",
    "data_prep.visualize_crosstab_data(crosstab_data)"
   ]
  },
  {
   "cell_type": "code",
   "execution_count": 94,
   "metadata": {
    "collapsed": false
   },
   "outputs": [
    {
     "name": "stdout",
     "output_type": "stream",
     "text": [
      "deposit           no       yes\n",
      "No_Balance                    \n",
      "0           0.518964  0.481036\n",
      "1           0.622739  0.377261\n"
     ]
    },
    {
     "data": {
      "image/png": "[encoded data removed]",
      "text/plain": [
       "<matplotlib.figure.Figure at 0x10f54470>"
      ]
     },
     "metadata": {},
     "output_type": "display_data"
    }
   ],
   "source": [
    "crosstab_data = data_prep.perform_crosstab_analysis(bank_data['No_Balance'], bank_data.deposit)\n",
    "\n",
    "print crosstab_data\n",
    "\n",
    "data_prep.visualize_crosstab_data(crosstab_data)"
   ]
  },
  {
   "cell_type": "code",
   "execution_count": 95,
   "metadata": {
    "collapsed": false
   },
   "outputs": [
    {
     "name": "stdout",
     "output_type": "stream",
     "text": [
      "deposit            no       yes\n",
      "Pos_Balance                    \n",
      "0            0.656635  0.343365\n",
      "1            0.630222  0.369778\n",
      "2            0.542361  0.457639\n",
      "3            0.496292  0.503708\n",
      "4            0.424571  0.575429\n",
      "5            0.407895  0.592105\n"
     ]
    },
    {
     "data": {
      "image/png": "[encoded data removed]",
      "text/plain": [
       "<matplotlib.figure.Figure at 0xe7a1630>"
      ]
     },
     "metadata": {},
     "output_type": "display_data"
    }
   ],
   "source": [
    "crosstab_data = data_prep.perform_crosstab_analysis(bank_data['Pos_Balance'], bank_data.deposit)\n",
    "\n",
    "print crosstab_data\n",
    "\n",
    "data_prep.visualize_crosstab_data(crosstab_data)"
   ]
  },
  {
   "cell_type": "markdown",
   "metadata": {
    "collapsed": true
   },
   "source": [
    "### Inference:\n",
    "* As the Balance keeps increasing, the responses to the term deposit offers also increase."
   ]
  }
 ],
 "metadata": {
  "kernelspec": {
   "display_name": "Python 2",
   "language": "python",
   "name": "python2"
  },
  "language_info": {
   "codemirror_mode": {
    "name": "ipython",
    "version": 2
   },
   "file_extension": ".py",
   "mimetype": "text/x-python",
   "name": "python",
   "nbconvert_exporter": "python",
   "pygments_lexer": "ipython2",
   "version": "2.7.13"
  }
 },
 "nbformat": 4,
 "nbformat_minor": 2
}
